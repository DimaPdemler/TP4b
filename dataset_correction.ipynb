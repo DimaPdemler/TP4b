{
 "cells": [
  {
   "cell_type": "code",
   "execution_count": 1,
   "metadata": {},
   "outputs": [],
   "source": [
    "import pandas as pd\n",
    "import numpy as np"
   ]
  },
  {
   "cell_type": "code",
   "execution_count": 2,
   "metadata": {},
   "outputs": [],
   "source": [
    "path=\"/home/ddemler/dmitri_stuff/\"\n",
    "\n",
    "# val9 = pd.read_pickle(path + 'extracted_data/TEST9_global_v4_og_and_norm_weights_val')\n",
    "val10 = pd.read_pickle(path + 'extracted_data/TEST10_v4_val')\n",
    "\n",
    "# test9 = pd.read_pickle(path + 'extracted_data/TEST9_global_v4_og_and_norm_weights_test')\n",
    "test10 = pd.read_pickle(path + 'extracted_data/TEST10_v4_test')\n",
    "\n",
    "# meas9 = pd.read_pickle(path + 'extracted_data/TEST9_global_v4_og_and_norm_weights_meas')\n",
    "meas10 = pd.read_pickle(path + 'extracted_data/TEST10_v4_meas')"
   ]
  },
  {
   "cell_type": "code",
   "execution_count": 3,
   "metadata": {},
   "outputs": [],
   "source": [
    "# TEST9 = [val9, test9, meas9]\n",
    "TEST10 = [val10, test10, meas10]"
   ]
  },
  {
   "cell_type": "code",
   "execution_count": 4,
   "metadata": {},
   "outputs": [
    {
     "name": "stdout",
     "output_type": "stream",
     "text": [
      "931.6381223078147 931.6381223078147 1.0\n",
      "1046.5021316358461 1046.5021316358461 1.0\n",
      "1473.9852694708752 1473.9852694708752 1.0\n",
      "21.433376187796966 21.433376187796966 1.0\n",
      "1284.0729709420627 1284.0729709420627 1.0\n",
      "1533.5083117101258 1533.5083117101258 1.0\n",
      "1186.2517543679069 1186.2517543679069 1.0\n",
      "290.21489047251197 290.21489047251197 1.0\n",
      "1354.9739561121157 1354.9739561121157 1.0\n",
      "1489.211633337527 1489.211633337527 1.0\n",
      "1143.6114461443829 1143.6114461443829 1.0\n",
      "397.8032646227956 397.8032646227956 1.0\n",
      "614.9759688156298 614.9759688156298 1.0\n",
      "113.92123850556919 113.92123850556919 1.0\n",
      "755.3636927096954 755.3636927096954 1.0\n",
      "1426.7265349456072 1426.7265349456072 1.0\n",
      "1837.427079908568 1837.427079908568 1.0\n",
      "2039.8139290789572 2039.8139290789572 1.0\n",
      "2986.8906007519136 2986.8906007519136 1.0\n",
      "43.76461898176393 43.76461898176393 1.0\n",
      "2555.701572793668 2555.701572793668 1.0\n",
      "2983.5149989157735 2983.5149989157735 1.0\n",
      "2420.006408360131 2420.006408360131 1.0\n",
      "580.5593682022864 580.5593682022864 1.0\n",
      "2767.0220945030565 2767.0220945030565 1.0\n",
      "2947.808754820966 2947.808754820966 1.0\n",
      "2228.6309279552424 2228.6309279552424 1.0\n",
      "844.0184240891464 844.0184240891464 1.0\n",
      "1230.1612754461157 1230.1612754461157 1.0\n",
      "233.18250841229894 233.18250841229894 1.0\n",
      "1576.5690165274166 1576.5690165274166 1.0\n",
      "2858.685639835915 2858.685639835915 1.0\n",
      "1837.2869845232651 1837.2869845232651 1.0\n",
      "2116.0495466498705 2116.0495466498705 1.0\n",
      "3023.737646815548 3023.737646815548 1.0\n",
      "41.74046906881207 41.74046906881207 1.0\n",
      "2502.2123481891463 2502.2123481891463 1.0\n",
      "3043.971282519532 3043.971282519532 1.0\n",
      "2441.4830772240402 2441.4830772240402 1.0\n",
      "587.295136172344 587.295136172344 1.0\n",
      "2677.5975598175937 2677.5975598175937 1.0\n",
      "2947.73572785908 2947.73572785908 1.0\n",
      "2265.8155295372994 2265.8155295372994 1.0\n",
      "831.4833832587924 831.4833832587924 1.0\n",
      "1246.700337339399 1246.700337339399 1.0\n",
      "230.62496125868876 230.62496125868876 1.0\n",
      "1565.6336231296643 1565.6336231296643 1.0\n",
      "2860.882610301076 2860.882610301076 1.0\n"
     ]
    }
   ],
   "source": [
    "# val9 = pd.read_pickle(path + 'extracted_data/TEST9_global_v4_og_and_norm_weights_val')\n",
    "val10 = pd.read_pickle(path + 'extracted_data/TEST10_v4_val')\n",
    "\n",
    "# test9 = pd.read_pickle(path + 'extracted_data/TEST9_global_v4_og_and_norm_weights_test')\n",
    "test10 = pd.read_pickle(path + 'extracted_data/TEST10_v4_test')\n",
    "\n",
    "# meas9 = pd.read_pickle(path + 'extracted_data/TEST9_global_v4_og_and_norm_weights_meas')\n",
    "meas10 = pd.read_pickle(path + 'extracted_data/TEST10_v4_meas')\n",
    "\n",
    "# TEST9 = [val9, test9, meas9]\n",
    "TEST10 = [val10, test10, meas10]\n",
    "\n",
    "for i, dataset in enumerate(TEST10):\n",
    "    event_types = list(set(val10.loc[val10['signal_label']==1, 'event_type']))\n",
    "    for event_type in event_types:\n",
    "        sum9 = dataset.loc[(dataset['event_type']==event_type) & (dataset['signal_label']==1), 'weightOriginal'].sum()\n",
    "        dataset10 = TEST10[i]\n",
    "        sum10 = dataset10.loc[(dataset10['event_type']==event_type) & (dataset10['signal_label']==1), 'weightOriginal'].sum()\n",
    "        print(sum9, sum10, sum10/sum9)\n",
    "        dataset.loc[(dataset['event_type']==event_type) & (dataset['signal_label']==1), 'weightOriginal'] *= sum10/sum9"
   ]
  },
  {
   "cell_type": "code",
   "execution_count": 7,
   "metadata": {},
   "outputs": [],
   "source": [
    "val10.to_pickle(path + 'extracted_data/TEST10_v4_corrected_val')\n",
    "test10.to_pickle(path + 'extracted_data/TEST10_v4_corrected_test')\n",
    "meas10.to_pickle(path + 'extracted_data/TEST10_v4_corrected_meas')"
   ]
  },
  {
   "cell_type": "code",
   "execution_count": null,
   "metadata": {},
   "outputs": [],
   "source": []
  }
 ],
 "metadata": {
  "kernelspec": {
   "display_name": "Python 3",
   "language": "python",
   "name": "python3"
  },
  "language_info": {
   "codemirror_mode": {
    "name": "ipython",
    "version": 3
   },
   "file_extension": ".py",
   "mimetype": "text/x-python",
   "name": "python",
   "nbconvert_exporter": "python",
   "pygments_lexer": "ipython3",
   "version": "3.8.13"
  },
  "orig_nbformat": 4
 },
 "nbformat": 4,
 "nbformat_minor": 2
}
