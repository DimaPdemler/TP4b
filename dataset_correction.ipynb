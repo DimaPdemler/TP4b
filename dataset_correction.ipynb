{
 "cells": [
  {
   "cell_type": "code",
   "execution_count": 1,
   "metadata": {},
   "outputs": [],
   "source": [
    "import pandas as pd\n",
    "import numpy as np"
   ]
  },
  {
   "cell_type": "code",
   "execution_count": 2,
   "metadata": {},
   "outputs": [],
   "source": [
    "val9 = pd.read_pickle('extracted_data/TEST9_global_v4_og_and_norm_weights_val')\n",
    "val10 = pd.read_pickle('extracted_data/TEST10_v4_val')\n",
    "\n",
    "test9 = pd.read_pickle('extracted_data/TEST9_global_v4_og_and_norm_weights_test')\n",
    "test10 = pd.read_pickle('extracted_data/TEST10_v4_test')\n",
    "\n",
    "meas9 = pd.read_pickle('extracted_data/TEST9_global_v4_og_and_norm_weights_meas')\n",
    "meas10 = pd.read_pickle('extracted_data/TEST10_v4_meas')"
   ]
  },
  {
   "cell_type": "code",
   "execution_count": 3,
   "metadata": {},
   "outputs": [],
   "source": [
    "TEST9 = [val9, test9, meas9]\n",
    "TEST10 = [val10, test10, meas10]"
   ]
  },
  {
   "cell_type": "code",
   "execution_count": 4,
   "metadata": {},
   "outputs": [
    {
     "name": "stdout",
     "output_type": "stream",
     "text": [
      "0.0006218782227614397 1375.8928084331521 2212479.4824355217\n",
      "0.0055855282533804895 940.8789931510938 168449.4197270692\n",
      "0.020535896234631375 117.89274110924529 5740.813050585688\n",
      "0.026200136206629955 390.67097959859757 14911.028573192612\n",
      "0.015258275822748014 632.5956435051071 41459.18260056572\n",
      "7.420881149299519e-05 1539.7005742884535 20748217.675387386\n",
      "0.0011162492563613902 1241.3508167469963 1112073.1410772863\n",
      "0.0024423219282479797 1130.1175438891423 462722.5964022858\n",
      "0.00020283951821759778 1472.603950920839 7259946.009835672\n",
      "0.00012368686667109732 1510.3575534990562 12211139.259557221\n",
      "0.00033974779228812475 1430.7845251687734 4211313.679281806\n",
      "0.0017014261957916516 1254.6415532957847 737405.8048471601\n",
      "0.009007917761354511 779.0729882188433 86487.57780196417\n",
      "0.0034666807580976595 1037.8002242473103 299364.23243564053\n",
      "0.03157038085381547 277.1990814347835 8780.35278441319\n",
      "0.006356917992535946 23.178441978919217 3646.176025258541\n",
      "0.0012388763621058413 2767.0220945030565 2233493.3324578684\n",
      "0.010733859749853213 1837.427079908568 171180.46282780013\n",
      "0.03979225553559484 233.18250841229894 5859.99726011292\n",
      "0.05219976915867551 844.0184240891464 16169.006830729862\n",
      "0.02955606371823598 1230.1612754461157 41621.28242696644\n",
      "0.00014758616001821158 2986.8906007519136 20238283.86336051\n",
      "0.0023404292088449784 2555.701572793668 1091979.8655456572\n",
      "0.004694377680295736 2228.6309279552424 474744.70094507677\n",
      "0.00039897035344434845 2947.808754820966 7388540.851149106\n",
      "0.00024161889391738941 2983.5149989157735 12348020.266725708\n",
      "0.0006825423554982116 2858.685639835915 4188290.4655041667\n",
      "0.0033008702098713157 2420.006408360131 733141.9457581384\n",
      "0.01755172444649776 1576.5690165274166 89824.16635659993\n",
      "0.0069789718593299245 2039.8139290789572 292280.0048766505\n",
      "0.06346491597635215 580.5593682022864 9147.721371262987\n",
      "0.01072262778775208 43.76461898176393 4081.519926650262\n",
      "0.0012001810243984492 2677.5975598175937 2230994.7461131127\n",
      "0.010931063008359648 1837.2869845232651 168079.44324519768\n",
      "0.04055990839362907 230.62496125868876 5686.032597029091\n",
      "0.05262675548249314 831.4833832587924 15799.632252370076\n",
      "0.029465451208083738 1246.700337339399 42310.580229545965\n",
      "0.00014992339267082215 3023.737646815548 20168551.371129844\n",
      "0.0022867358696291805 2502.2123481891463 1094228.844451068\n",
      "0.004849379725764651 2265.8155295372994 467238.2155390039\n",
      "0.0004006744133583665 2947.73572785908 7356935.281072218\n",
      "0.0002450368454290114 3043.971282519532 12422504.367415179\n",
      "0.0006865088044845576 2860.882610301076 4167291.943836139\n",
      "0.003343581102254305 2441.4830772240402 730200.0467636172\n",
      "0.01737474645171275 1565.6336231296643 90109.72490912687\n",
      "0.00721716043337927 2116.0495466498705 293196.9666162844\n",
      "0.06414431726063524 587.295136172344 9155.840474316832\n",
      "0.010362514799351472 41.74046906881207 4028.025038036554\n"
     ]
    }
   ],
   "source": [
    "val9 = pd.read_pickle('extracted_data/TEST9_global_v4_og_and_norm_weights_val')\n",
    "val10 = pd.read_pickle('extracted_data/TEST10_v4_val')\n",
    "\n",
    "test9 = pd.read_pickle('extracted_data/TEST9_global_v4_og_and_norm_weights_test')\n",
    "test10 = pd.read_pickle('extracted_data/TEST10_v4_test')\n",
    "\n",
    "meas9 = pd.read_pickle('extracted_data/TEST9_global_v4_og_and_norm_weights_meas')\n",
    "meas10 = pd.read_pickle('extracted_data/TEST10_v4_meas')\n",
    "\n",
    "TEST9 = [val9, test9, meas9]\n",
    "TEST10 = [val10, test10, meas10]\n",
    "\n",
    "for i, dataset in enumerate(TEST9):\n",
    "    event_types = list(set(val9.loc[val9['signal_label']==1, 'event_type']))\n",
    "    for event_type in event_types:\n",
    "        sum9 = dataset.loc[(dataset['event_type']==event_type) & (dataset['signal_label']==1), 'weightOriginal'].sum()\n",
    "        dataset10 = TEST10[i]\n",
    "        sum10 = dataset10.loc[(dataset10['event_type']==event_type) & (dataset10['signal_label']==1), 'weightOriginal'].sum()\n",
    "        print(sum9, sum10, sum10/sum9)\n",
    "        dataset.loc[(dataset['event_type']==event_type) & (dataset['signal_label']==1), 'weightOriginal'] *= sum10/sum9"
   ]
  },
  {
   "cell_type": "code",
   "execution_count": 5,
   "metadata": {},
   "outputs": [],
   "source": [
    "val9.to_pickle('extracted_data/TEST9_v4_corrected_val')\n",
    "test9.to_pickle('extracted_data/TEST9_v4_corrected_test')\n",
    "meas9.to_pickle('extracted_data/TEST9_v4_corrected_meas')"
   ]
  }
 ],
 "metadata": {
  "kernelspec": {
   "display_name": "Python 3",
   "language": "python",
   "name": "python3"
  },
  "language_info": {
   "codemirror_mode": {
    "name": "ipython",
    "version": 3
   },
   "file_extension": ".py",
   "mimetype": "text/x-python",
   "name": "python",
   "nbconvert_exporter": "python",
   "pygments_lexer": "ipython3",
   "version": "3.8.13"
  },
  "orig_nbformat": 4
 },
 "nbformat": 4,
 "nbformat_minor": 2
}
