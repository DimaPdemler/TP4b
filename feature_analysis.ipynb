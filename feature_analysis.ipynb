{
 "cells": [
  {
   "cell_type": "code",
   "execution_count": 1,
   "metadata": {},
   "outputs": [],
   "source": [
    "from numbers import Number\n",
    "from utils import normalize, split_dataset\n",
    "from data_extractor import Data_extractor_v1\n",
    "import pandas as pd\n",
    "import numpy as np"
   ]
  },
  {
   "cell_type": "code",
   "execution_count": 2,
   "metadata": {},
   "outputs": [],
   "source": [
    "\n",
    "path = \"/data/hnl/prompt_tau/anatuple/nanoV10/TEST6/ttm_DeepTau2p5/\"\n",
    "extractor = Data_extractor_v1('ttm')\n",
    "data = extractor(path)"
   ]
  },
  {
   "cell_type": "code",
   "execution_count": 3,
   "metadata": {},
   "outputs": [
    {
     "data": {
      "text/plain": [
       "dict_keys(['event', 'genWeight', 'deltaR_12', 'deltaR_13', 'deltaR_23', 'pt_123', 'mt_12', 'mt_13', 'mt_23', 'Mt_tot', 'n_tauh', 'mass_hyp', 'signal_label', 'channel', 'event_type'])"
      ]
     },
     "execution_count": 3,
     "metadata": {},
     "output_type": "execute_result"
    }
   ],
   "source": [
    "data.keys()"
   ]
  },
  {
   "cell_type": "code",
   "execution_count": 4,
   "metadata": {},
   "outputs": [],
   "source": [
    "data_pd = pd.DataFrame(data)\n",
    "signal = data_pd.loc[data_pd['signal_label']==1]\n",
    "background = data_pd.loc[data_pd['signal_label']==0]\n",
    "background_0 = background.loc[background['n_tauh']==0]\n",
    "background_1 = background.loc[background['n_tauh']==1]\n",
    "background_2 = background.loc[background['n_tauh']==2]"
   ]
  },
  {
   "cell_type": "code",
   "execution_count": 15,
   "metadata": {},
   "outputs": [],
   "source": [
    "# variables_label = [r\"$\\Delta R_{\\mu\\tau_1}$\", r\"$\\Delta R_{\\mu\\tau_2}$\", r\"$\\sum_{i\\in \\{\\mu,\\tau_1,\\tau_2\\}}\\vec{p}_{T}^{i}$\", r\"$m_{T}^{\\tau\\tau}$\", r\"$M_{T}^{total}$\"]\n",
    "input_vars = ['deltaR_12', 'deltaR_13', 'deltaR_23', 'pt_123', 'mt_12', 'mt_13', 'mt_23', 'Mt_tot', 'n_tauh', 'signal_label', 'mass_hyp']\n",
    "variables_label = [r\"$\\Delta R_{\\tau_1\\tau_2}$\", r\"$\\Delta R_{\\tau_1\\mu}$\", r\"$\\Delta R_{\\tau_2\\mu}$\", r\"$p_{T}^{\\sum_{\\mu\\tau\\tau}}$\", r\"$m_{T}^{\\tau\\tau}$\", r\"$m_{T}^{\\tau_1\\mu}$\", r\"$m_{T}^{\\tau_2\\mu}$\", r\"$M_{T}^{total}$\"]\n",
    "bin_edges = [np.linspace(0,5,20)]\n",
    "\n"
   ]
  },
  {
   "cell_type": "code",
   "execution_count": 6,
   "metadata": {},
   "outputs": [],
   "source": [
    "import matplotlib as mpl\n",
    "import matplotlib.pyplot as plt\n",
    "mpl.rcParams.update({\"font.size\": 16, \"font.family\": \"serif\"})\n",
    "colors = plt.rcParams['axes.prop_cycle'].by_key()['color']"
   ]
  },
  {
   "cell_type": "code",
   "execution_count": 16,
   "metadata": {},
   "outputs": [
    {
     "name": "stderr",
     "output_type": "stream",
     "text": [
      "/tmp/glardon/ipykernel_39900/2353966564.py:34: RuntimeWarning: invalid value encountered in sqrt\n",
      "  err_bkg_2 = counts_bkg_2**0.5\n"
     ]
    },
    {
     "data": {
      "image/png": "[encoded data removed]",
      "text/plain": [
       "<Figure size 864x504 with 1 Axes>"
      ]
     },
     "metadata": {
      "needs_background": "light"
     },
     "output_type": "display_data"
    }
   ],
   "source": [
    "i = 0\n",
    "fig, ax = plt.subplots(1, 1, figsize=(12, 7))\n",
    "normalize = True\n",
    "# normalize = False\n",
    "# span = None\n",
    "span = (0.,400.)\n",
    "\n",
    "n_bins = 25\n",
    "histtype = 'step'\n",
    "\n",
    "\n",
    "counts_s, bin_edges_s, _ = ax.hist(signal[input_vars[i]], weights = signal['genWeight'], bins=bin_edges[0], label=r\"Signal\", stacked=True,\n",
    "                                   range=span, histtype=histtype, density=normalize, color=colors[0])\n",
    "counts_bkg_0, bin_edges_bkg_0, _ = ax.hist(background_0[input_vars[i]], weights = background_0['genWeight'], bins=bin_edges[0], range=span,\n",
    "                                           label=r\"Background $0\\times\\tau_h$\", stacked=True, histtype=histtype, density=normalize, color=colors[1])\n",
    "counts_bkg_1, bin_edges_bkg_1, _ = ax.hist(background_1[input_vars[i]], weights = background_1['genWeight'], bins=bin_edges[0], range=span,\n",
    "                                           label=r\"Background $1\\times\\tau_h$\", stacked=True, histtype=histtype, density=normalize, color=colors[2])\n",
    "counts_bkg_2, bin_edges_bkg_2, _ = ax.hist(background_2[input_vars[i]], weights = background_2['genWeight'], bins=bin_edges[0], range=span ,\n",
    "                                           label=r\"Background $2\\times\\tau_h$\", stacked=True, histtype=histtype, density=normalize, color=colors[3])\n",
    "\n",
    "bin_centers_s = (np.array(bin_edges_s[1:])+np.array(bin_edges_s[:-1]))*0.5\n",
    "bin_centers_bkg_0 = (np.array(bin_edges_bkg_0[1:])+np.array(bin_edges_bkg_0[:-1]))*0.5\n",
    "bin_centers_bkg_1 = (np.array(bin_edges_bkg_1[1:])+np.array(bin_edges_bkg_1[:-1]))*0.5\n",
    "bin_centers_bkg_2 = (np.array(bin_edges_bkg_2[1:])+np.array(bin_edges_bkg_2[:-1]))*0.5\n",
    "\n",
    "counts_s = np.array(counts_s)\n",
    "counts_bkg_0 = np.array(counts_bkg_0)\n",
    "counts_bkg_1 = np.array(counts_bkg_1)\n",
    "counts_bkg_2 = np.array(counts_bkg_2)\n",
    "\n",
    "err_s = counts_s**0.5\n",
    "err_bkg_0 = counts_bkg_0**0.5\n",
    "err_bkg_1 = counts_bkg_1**0.5\n",
    "err_bkg_2 = counts_bkg_2**0.5\n",
    "if normalize:\n",
    "    err_s /= len(signal[input_vars[i]])\n",
    "    err_bkg_0 /= len(background_0[input_vars[i]])\n",
    "    err_bkg_1 /= len(background_1[input_vars[i]])\n",
    "    err_bkg_2 /= len(background_2[input_vars[i]])\n",
    "\n",
    "Delta = bin_edges_s[1]-bin_edges_s[0]\n",
    "ax.set_xlabel(variables_label[i])\n",
    "# ax.set_ylabel(f\"Events\")\n",
    "# plt.yscale('log')\n",
    "ax.legend()\n",
    "ax.grid()\n",
    "\n",
    "\n",
    "ax.errorbar(bin_centers_s, counts_s, yerr = err_s, marker = '.',drawstyle = 'steps-mid', color=colors[0])\n",
    "ax.errorbar(bin_centers_bkg_0, counts_bkg_0, yerr = err_bkg_0, marker = '.',drawstyle = 'steps-mid', color=colors[1])\n",
    "ax.errorbar(bin_centers_bkg_1, counts_bkg_1, yerr = err_bkg_1, marker = '.',drawstyle = 'steps-mid', color=colors[2])\n",
    "ax.errorbar(bin_centers_bkg_2, counts_bkg_2, yerr = err_bkg_2, marker = '.',drawstyle = 'steps-mid', color=colors[3])\n",
    "\n",
    "plt.show()\n",
    "i += 1"
   ]
  },
  {
   "cell_type": "code",
   "execution_count": null,
   "metadata": {},
   "outputs": [],
   "source": [
    "def plot_hist(dataframe, keys, keys_label, bins_list, normalize = True, mode='n_tauh'):\n",
    "    sub_df = {}\n",
    "    if mode == 'n_tauh':\n",
    "        signal = data_pd.loc[data_pd['signal_label']==1]\n",
    "        background = data_pd.loc[data_pd['signal_label']==0]\n",
    "        background_0 = background.loc[background['n_tauh']==0]\n",
    "        background_1 = background.loc[background['n_tauh']==1]\n",
    "        background_2 = background.loc[background['n_tauh']==2]\n",
    "        sub_df[\"signal\"] = signal\n",
    "        sub_df[\"$background 0\\time\\tau_h$\"] = background_0\n",
    "        sub_df[\"$background 1\\time\\tau_h$\"] = background_1\n",
    "        sub_df[\"$background 2\\time\\tau_h$\"] = background_2\n",
    "    else:\n",
    "        raise ValueError(\"The mode {mode} is not valid\")\n",
    "    \n",
    "    for i,key in enumerate(keys):\n",
    "        fig, ax = plt.subplots(1, 1, figsize=(12, 7))\n",
    "        counts = []\n",
    "        errors = []\n",
    "        for event_type in sub_df:\n",
    "            df = sub_df['event_type']\n",
    "            c,b = np.histogram(df[key], bins=bins_list[i], weights=df['genWeight'])\n",
    "            c2,_ = np.histogram(df[key], bins=bins_list[i], weights=df['genWeight']**2)\n",
    "            counts.append(c)\n",
    "            errors.append(np.sqrt(c2))\n",
    "        \n",
    "        \n",
    "        "
   ]
  },
  {
   "cell_type": "code",
   "execution_count": 11,
   "metadata": {},
   "outputs": [],
   "source": [
    "i=0\n",
    "weights = signal['genWeight']\n",
    "counts_s = np.histogram(signal[input_vars[i]], bins=bin_edges[i], weights = weights)\n",
    "h2,_ = np.histogram(signal[input_vars[i]], bins=bin_edges[i], weights = weights**2)\n",
    "error = np.sqrt(h2)"
   ]
  },
  {
   "cell_type": "code",
   "execution_count": 23,
   "metadata": {},
   "outputs": [
    {
     "ename": "AttributeError",
     "evalue": "'tuple' object has no attribute 'item'",
     "output_type": "error",
     "traceback": [
      "\u001b[0;31m---------------------------------------------------------------------------\u001b[0m",
      "\u001b[0;31mAttributeError\u001b[0m                            Traceback (most recent call last)",
      "\u001b[1;32m/home/glardon/TP4b/feature_analysis.ipynb Cell 10\u001b[0m in \u001b[0;36m<cell line: 3>\u001b[0;34m()\u001b[0m\n\u001b[1;32m      <a href='vscode-notebook-cell://ssh-remote%2Blphepc119.epfl.ch/home/glardon/TP4b/feature_analysis.ipynb#X16sdnNjb2RlLXJlbW90ZQ%3D%3D?line=1'>2</a>\u001b[0m df \u001b[39m=\u001b[39m pd\u001b[39m.\u001b[39mDataFrame(dictionary)\n\u001b[1;32m      <a href='vscode-notebook-cell://ssh-remote%2Blphepc119.epfl.ch/home/glardon/TP4b/feature_analysis.ipynb#X16sdnNjb2RlLXJlbW90ZQ%3D%3D?line=2'>3</a>\u001b[0m \u001b[39mfor\u001b[39;00m row \u001b[39min\u001b[39;00m df\u001b[39m.\u001b[39miterrows():\n\u001b[0;32m----> <a href='vscode-notebook-cell://ssh-remote%2Blphepc119.epfl.ch/home/glardon/TP4b/feature_analysis.ipynb#X16sdnNjb2RlLXJlbW90ZQ%3D%3D?line=3'>4</a>\u001b[0m     \u001b[39mprint\u001b[39m(row\u001b[39m.\u001b[39;49mitem)\n",
      "\u001b[0;31mAttributeError\u001b[0m: 'tuple' object has no attribute 'item'"
     ]
    }
   ],
   "source": [
    "dictionary ={'a':[1,2,3,4], 'b':[2,3,4,5], 'c':[3,4,5,6]}\n",
    "df = pd.DataFrame(dictionary)\n",
    "for row in df.iterrows():\n",
    "    print(row.item)"
   ]
  }
 ],
 "metadata": {
  "kernelspec": {
   "display_name": "Python 3",
   "language": "python",
   "name": "python3"
  },
  "language_info": {
   "codemirror_mode": {
    "name": "ipython",
    "version": 3
   },
   "file_extension": ".py",
   "mimetype": "text/x-python",
   "name": "python",
   "nbconvert_exporter": "python",
   "pygments_lexer": "ipython3",
   "version": "3.8.13"
  },
  "orig_nbformat": 4
 },
 "nbformat": 4,
 "nbformat_minor": 2
}
