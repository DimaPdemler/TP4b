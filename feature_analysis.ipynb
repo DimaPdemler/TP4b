{
 "cells": [
  {
   "cell_type": "code",
   "execution_count": 1,
   "metadata": {},
   "outputs": [],
   "source": [
    "import pandas as pd\n",
    "import numpy as np\n",
    "from utils import plot_hist"
   ]
  },
  {
   "cell_type": "code",
   "execution_count": 2,
   "metadata": {},
   "outputs": [],
   "source": [
    "data = pd.read_pickle('extracted_data/TEST9_global_v4_or&norm_weights')"
   ]
  },
  {
   "cell_type": "code",
   "execution_count": 3,
   "metadata": {},
   "outputs": [
    {
     "data": {
      "text/plain": [
       "Index(['event', 'weightOriginal', 'charge_1', 'charge_2', 'charge_3', 'pt_1',\n",
       "       'pt_2', 'pt_3', 'pt_MET', 'eta_1', 'eta_2', 'eta_3', 'mass_1', 'mass_2',\n",
       "       'mass_3', 'deltaphi_12', 'deltaphi_13', 'deltaphi_23', 'deltaphi_1MET',\n",
       "       'deltaphi_2MET', 'deltaphi_3MET', 'deltaphi_1(23)', 'deltaphi_2(13)',\n",
       "       'deltaphi_3(12)', 'deltaphi_MET(12)', 'deltaphi_MET(13)',\n",
       "       'deltaphi_MET(23)', 'deltaphi_1(2MET)', 'deltaphi_1(3MET)',\n",
       "       'deltaphi_2(1MET)', 'deltaphi_2(3MET)', 'deltaphi_3(1MET)',\n",
       "       'deltaphi_3(2MET)', 'deltaeta_12', 'deltaeta_13', 'deltaeta_23',\n",
       "       'deltaeta_1(23)', 'deltaeta_2(13)', 'deltaeta_3(12)', 'deltaR_12',\n",
       "       'deltaR_13', 'deltaR_23', 'deltaR_1(23)', 'deltaR_2(13)',\n",
       "       'deltaR_3(12)', 'pt_123', 'mt_12', 'mt_13', 'mt_23', 'mt_1MET',\n",
       "       'mt_2MET', 'mt_3MET', 'mt_1(23)', 'mt_2(13)', 'mt_3(12)', 'mt_MET(12)',\n",
       "       'mt_MET(13)', 'mt_MET(23)', 'mt_1(2MET)', 'mt_1(3MET)', 'mt_2(1MET)',\n",
       "       'mt_2(3MET)', 'mt_3(1MET)', 'mt_3(2MET)', 'mass_12', 'mass_13',\n",
       "       'mass_23', 'mass_123', 'Mt_tot', 'HNL_CM_angle_with_MET_1',\n",
       "       'HNL_CM_angle_with_MET_2', 'W_CM_angle_to_plane_1',\n",
       "       'W_CM_angle_to_plane_2', 'W_CM_angle_to_plane_with_MET_1',\n",
       "       'W_CM_angle_to_plane_with_MET_2', 'HNL_CM_mass_1', 'HNL_CM_mass_2',\n",
       "       'HNL_CM_mass_with_MET_1', 'HNL_CM_mass_with_MET_2', 'W_CM_angle_12',\n",
       "       'W_CM_angle_13', 'W_CM_angle_23', 'W_CM_angle_1MET', 'W_CM_angle_2MET',\n",
       "       'W_CM_angle_3MET', 'n_tauh', 'signal_label', 'channel', 'event_type',\n",
       "       'mass_hyp', 'weightNorm'],\n",
       "      dtype='object')"
      ]
     },
     "execution_count": 3,
     "metadata": {},
     "output_type": "execute_result"
    }
   ],
   "source": [
    "data.keys()"
   ]
  },
  {
   "cell_type": "code",
   "execution_count": 4,
   "metadata": {},
   "outputs": [],
   "source": [
    "# variables_label = [r\"$\\Delta R_{\\mu\\tau_1}$\", r\"$\\Delta R_{\\mu\\tau_2}$\", r\"$\\sum_{i\\in \\{\\mu,\\tau_1,\\tau_2\\}}\\vec{p}_{T}^{i}$\", r\"$m_{T}^{\\tau\\tau}$\", r\"$M_{T}^{total}$\"]\n",
    "input_vars = ['pt_1','pt_2', 'pt_3', 'pt_MET', 'eta_1', 'eta_2', 'eta_3', 'mass_1', 'mass_2',\n",
    "       'mass_3', 'deltaphi_12', 'deltaphi_13', 'deltaphi_23', 'deltaphi_1MET',\n",
    "       'deltaphi_2MET', 'deltaphi_3MET', 'deltaphi_1(23)', 'deltaphi_2(13)',\n",
    "       'deltaphi_3(12)', 'deltaphi_MET(12)', 'deltaphi_MET(13)',\n",
    "       'deltaphi_MET(23)', 'deltaphi_1(2MET)', 'deltaphi_1(3MET)',\n",
    "       'deltaphi_2(1MET)', 'deltaphi_2(3MET)', 'deltaphi_3(1MET)',\n",
    "       'deltaphi_3(2MET)', 'deltaeta_12', 'deltaeta_13', 'deltaeta_23',\n",
    "       'deltaeta_1(23)', 'deltaeta_2(13)', 'deltaeta_3(12)', 'deltaR_12',\n",
    "       'deltaR_13', 'deltaR_23', 'deltaR_1(23)', 'deltaR_2(13)',\n",
    "       'deltaR_3(12)', 'pt_123', 'mt_12', 'mt_13', 'mt_23', 'mt_1MET',\n",
    "       'mt_2MET', 'mt_3MET', 'mt_1(23)', 'mt_2(13)', 'mt_3(12)', 'mt_MET(12)',\n",
    "       'mt_MET(13)', 'mt_MET(23)', 'mt_1(2MET)', 'mt_1(3MET)', 'mt_2(1MET)',\n",
    "       'mt_2(3MET)', 'mt_3(1MET)', 'mt_3(2MET)', 'mass_12', 'mass_13',\n",
    "       'mass_23', 'mass_123', 'Mt_tot', 'HNL_CM_angle_with_MET_1',\n",
    "       'HNL_CM_angle_with_MET_2', 'W_CM_angle_to_plane_1',\n",
    "       'W_CM_angle_to_plane_2', 'W_CM_angle_to_plane_with_MET_1',\n",
    "       'W_CM_angle_to_plane_with_MET_2', 'HNL_CM_mass_1', 'HNL_CM_mass_2',\n",
    "       'HNL_CM_mass_with_MET_1', 'HNL_CM_mass_with_MET_2', 'W_CM_angle_12',\n",
    "       'W_CM_angle_13', 'W_CM_angle_23', 'W_CM_angle_1MET', 'W_CM_angle_2MET',\n",
    "       'W_CM_angle_3MET']\n",
    "# variables_label = [r\"p_{T,1}\", r\"p_{T,2}\", r\"p_{T,3}\", r\"p_{T,MET}\", r\"$\\eta_1$\", r\"$\\eta_2$\", r\"$\\eta_3$\", r\"$m_1$\", r\"$m_1$\", r\"$m_1$\", \n",
    "#                    r\"$\\Delta\\phi_{1,2}$\", r\"$\\Delta\\phi_{1,3}$\", r\"$\\Delta\\phi_{2,3}$\", r\"$\\Delta\\phi_{1,MET}$\", r\"$\\Delta\\phi_{2,MET}$\", r\"$\\Delta\\phi_{3,MET}$\", \n",
    "#                    r\"$\\Delta\\phi_{1,2+3}$\", r\"$\\Delta\\phi_{2,1+3}$\", r\"$\\Delta\\phi_{3,1+2}$\", r\"$\\Delta\\phi_{MET,1+2}$\", r\"$\\Delta\\phi_{MET,1+3}$\", r\"$\\Delta\\phi_{MET,2+3}$\", \n",
    "#                    r\"$\\Delta\\phi_{1,2+MET}$\", r\"$\\Delta\\phi_{1,3+MET}$\", r\"$\\Delta\\phi_{2,1+MET}$\", r\"$\\Delta\\phi_{2,3+MET}$\", r\"$\\Delta\\phi_{3,1+MET}$\", r\"$\\Delta\\phi_{3,2+MET}$\", \n",
    "#                    r\"$\\Delta\\eta_{1,2}$\", r\"$\\Delta\\eta_{1,3}$\", r\"$\\Delta\\eta_{2,3}$\",\n",
    "#                    r\"$\\Delta\\eta_{1,2+3}$\", r\"$\\Delta\\eta_{2,1+3}$\", r\"$\\Delta\\eta_{3,1+2}$\",\n",
    "#                    r\"$\\Delta R_{1,2}$\", r\"$\\Delta R_{1,3}$\", r\"$\\Delta R_{2,3}$\", \n",
    "#                    r\"$\\Delta R_{1,2+3}$\", r\"$\\Delta R_{2,1+3}$\", r\"$\\Delta R_{3,1+2}$\", \n",
    "#                    r\"$p_{T}^{\\sum_{1,2,3}}$ [GeV/c]\",... r\"$m_{T}^{\\tau\\tau}$ [GeV/c$^2$]\", r\"$m_{T}^{\\tau_1\\mu}$ [GeV/c$^2$]\", r\"$m_{T}^{\\tau_2\\mu}$ [GeV/c$^2$]\", r\"$M_{T}^{total}$ [GeV/c$^2$]\"]\n",
    "\n"
   ]
  },
  {
   "cell_type": "code",
   "execution_count": 5,
   "metadata": {},
   "outputs": [],
   "source": [
    "import matplotlib as mpl\n",
    "import matplotlib.pyplot as plt\n",
    "mpl.rcParams.update({\"font.size\": 16, \"font.family\": \"serif\"})\n",
    "colors = plt.rcParams['axes.prop_cycle'].by_key()['color']"
   ]
  },
  {
   "cell_type": "code",
   "execution_count": 6,
   "metadata": {},
   "outputs": [
    {
     "data": {
      "image/png": "[encoded data removed]",
      "text/plain": [
       "<Figure size 720x432 with 1 Axes>"
      ]
     },
     "metadata": {
      "needs_background": "light"
     },
     "output_type": "display_data"
    }
   ],
   "source": [
    "input_var_idx = input_vars.index('HNL_CM_mass_1')\n",
    "bin_edges = np.linspace(0,500,22)\n",
    "fig = plot_hist(data, input_vars[input_var_idx], input_vars[input_var_idx], bin_edges, weights_name='weightNorm')[0]"
   ]
  }
 ],
 "metadata": {
  "kernelspec": {
   "display_name": "Python 3",
   "language": "python",
   "name": "python3"
  },
  "language_info": {
   "codemirror_mode": {
    "name": "ipython",
    "version": 3
   },
   "file_extension": ".py",
   "mimetype": "text/x-python",
   "name": "python",
   "nbconvert_exporter": "python",
   "pygments_lexer": "ipython3",
   "version": "3.8.13"
  },
  "orig_nbformat": 4
 },
 "nbformat": 4,
 "nbformat_minor": 2
}
