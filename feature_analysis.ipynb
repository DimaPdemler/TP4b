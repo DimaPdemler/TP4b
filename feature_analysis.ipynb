{
 "cells": [
  {
   "cell_type": "code",
   "execution_count": 1,
   "metadata": {},
   "outputs": [],
   "source": [
    "from numbers import Number\n",
    "from utils import normalize, split_dataset\n",
    "from data_extractor import Data_extractor_v1\n",
    "import pandas as pd\n",
    "import numpy as np"
   ]
  },
  {
   "cell_type": "code",
   "execution_count": 2,
   "metadata": {},
   "outputs": [],
   "source": [
    "\n",
    "path = \"/data/hnl/prompt_tau/anatuple/nanoV10/TEST6/ttm_DeepTau2p5/\"\n",
    "extractor = Data_extractor_v1('ttm')\n",
    "data = extractor(path)"
   ]
  },
  {
   "cell_type": "code",
   "execution_count": 3,
   "metadata": {},
   "outputs": [
    {
     "data": {
      "text/plain": [
       "dict_keys(['event', 'genWeight', 'deltaR_12', 'deltaR_13', 'deltaR_23', 'pt_123', 'mt_12', 'mt_13', 'mt_23', 'Mt_tot', 'n_tauh', 'mass_hyp', 'signal_label', 'channel', 'event_type'])"
      ]
     },
     "execution_count": 3,
     "metadata": {},
     "output_type": "execute_result"
    }
   ],
   "source": [
    "data.keys()"
   ]
  },
  {
   "cell_type": "code",
   "execution_count": 4,
   "metadata": {},
   "outputs": [],
   "source": [
    "data_pd = pd.DataFrame(data)\n",
    "signal = data_pd.loc[data_pd['signal_label']==1]\n",
    "background = data_pd.loc[data_pd['signal_label']==0]\n",
    "background_0 = background.loc[background['n_tauh']==0]\n",
    "background_1 = background.loc[background['n_tauh']==1]\n",
    "background_2 = background.loc[background['n_tauh']==2]"
   ]
  },
  {
   "cell_type": "code",
   "execution_count": 5,
   "metadata": {},
   "outputs": [],
   "source": [
    "# variables_label = [r\"$\\Delta R_{\\mu\\tau_1}$\", r\"$\\Delta R_{\\mu\\tau_2}$\", r\"$\\sum_{i\\in \\{\\mu,\\tau_1,\\tau_2\\}}\\vec{p}_{T}^{i}$\", r\"$m_{T}^{\\tau\\tau}$\", r\"$M_{T}^{total}$\"]\n",
    "input_vars = ['deltaR_12', 'deltaR_13', 'deltaR_23', 'pt_123', 'mt_12', 'mt_13', 'mt_23', 'Mt_tot', 'n_tauh', 'signal_label', 'mass_hyp']\n",
    "variables_label = [r\"$\\Delta R_{\\tau_1\\tau_2}$\", r\"$\\Delta R_{\\tau_1\\mu}$\", r\"$\\Delta R_{\\tau_2\\mu}$\", r\"$p_{T}^{\\sum_{\\mu\\tau\\tau}}$ [GeV/c]\", r\"$m_{T}^{\\tau\\tau}$ [GeV/c$^2$]\", r\"$m_{T}^{\\tau_1\\mu}$ [GeV/c$^2$]\", r\"$m_{T}^{\\tau_2\\mu}$ [GeV/c$^2$]\", r\"$M_{T}^{total}$ [GeV/c$^2$]\"]\n",
    "\n"
   ]
  },
  {
   "cell_type": "code",
   "execution_count": 12,
   "metadata": {},
   "outputs": [],
   "source": [
    "import matplotlib as mpl\n",
    "import matplotlib.pyplot as plt\n",
    "mpl.rcParams.update({\"font.size\": 16, \"font.family\": \"serif\"})\n",
    "colors = plt.rcParams['axes.prop_cycle'].by_key()['color']"
   ]
  },
  {
   "cell_type": "code",
   "execution_count": 7,
   "metadata": {},
   "outputs": [],
   "source": [
    "def plot_hist(dataframe, keys, keys_label, bins_list, normalize = True, mode='n_tauh'):\n",
    "    colors = plt.rcParams['axes.prop_cycle'].by_key()['color']\n",
    "\n",
    "    if type(dataframe) == dict:\n",
    "        data_pd = pd.DataFrame(dataframe)\n",
    "    else:\n",
    "        data_pd = dataframe.copy()\n",
    "\n",
    "    sub_df = {}\n",
    "    if mode == 'n_tauh':\n",
    "        sub_df_keys =  [\"signal\", \"bkg_0\", \"bkg_1\", \"bkg_2\"]\n",
    "        event_type_labels = [\"signal\", r\"background $0\\times\\tau_h$\", r\"background $1\\times\\tau_h$\", r\"background $2\\times\\tau_h$\"]\n",
    "        signal = data_pd.loc[data_pd['signal_label']==1]\n",
    "        background = data_pd.loc[data_pd['signal_label']==0]\n",
    "        background_0 = background.loc[background['n_tauh']==0]\n",
    "        background_1 = background.loc[background['n_tauh']==1]\n",
    "        background_2 = background.loc[background['n_tauh']==2]\n",
    "        sub_df[sub_df_keys[0]] = signal\n",
    "        sub_df[sub_df_keys[1]] = background_0\n",
    "        sub_df[sub_df_keys[2]] = background_1\n",
    "        sub_df[sub_df_keys[3]] = background_2\n",
    "    else:\n",
    "        raise ValueError(f\"The mode {mode} is not valid\")\n",
    "    \n",
    "    figs = []\n",
    "\n",
    "    if type(keys) != list:\n",
    "        keys = [keys]\n",
    "        keys_label = [keys_label]\n",
    "        bins_list = [bins_list]\n",
    "    \n",
    "    for i,key in enumerate(keys):\n",
    "        fig, ax = plt.subplots(1, 1, figsize=(10, 6))\n",
    "        counts = []\n",
    "        errors = []\n",
    "        for j,event_type in enumerate(sub_df.keys()):\n",
    "            df = sub_df[event_type]\n",
    "            c,b = np.histogram(df[key], bins=bins_list[i], weights=df['genWeight'])\n",
    "            c2,_ = np.histogram(df[key], bins=bins_list[i], weights=df['genWeight']**2)\n",
    "            if normalize:\n",
    "                norm = np.linalg.norm(c)\n",
    "                c /= norm\n",
    "                c2 /= norm**2\n",
    "            \n",
    "            ax.stairs(c, b, label=event_type_labels[j], linewidth=2)\n",
    "            # ax.errorbar((b[1:]+b[:-1])/2, c, yerr = np.sqrt(c2), marker = '.',drawstyle = 'steps-mid', color=colors[j])\n",
    "            ax.errorbar((b[1:]+b[:-1])/2, c, yerr = np.sqrt(c2),fmt='.', color='k', linewidth=1)\n",
    "            ax.set_xlabel(keys_label[i])\n",
    "            ax.legend()\n",
    "            ax.grid(True)\n",
    "        figs.append(fig)\n",
    "    return figs\n",
    "        \n",
    "        "
   ]
  },
  {
   "cell_type": "code",
   "execution_count": 31,
   "metadata": {},
   "outputs": [
    {
     "data": {
      "image/png": "[encoded data removed]",
      "text/plain": [
       "<Figure size 720x432 with 1 Axes>"
      ]
     },
     "metadata": {
      "needs_background": "light"
     },
     "output_type": "display_data"
    }
   ],
   "source": [
    "input_var_idx = 7\n",
    "bin_edges = np.linspace(0,550,22)\n",
    "fig = plot_hist(data_pd, input_vars[input_var_idx], variables_label[input_var_idx], bin_edges)[0]\n",
    "fig.savefig(f\"Images/TEST6_ttm_DeepTau2p5_ntauh_{input_vars[input_var_idx]}.pdf\")"
   ]
  },
  {
   "cell_type": "code",
   "execution_count": 9,
   "metadata": {},
   "outputs": [],
   "source": [
    "i=0\n",
    "weights = signal['genWeight']\n",
    "counts_s = np.histogram(signal[input_vars[i]], bins=bin_edges[i], weights = weights)\n",
    "h2,_ = np.histogram(signal[input_vars[i]], bins=bin_edges[i], weights = weights**2)\n",
    "error = np.sqrt(h2)"
   ]
  },
  {
   "cell_type": "code",
   "execution_count": 11,
   "metadata": {},
   "outputs": [
    {
     "ename": "SyntaxError",
     "evalue": "unexpected EOF while parsing (2057471626.py, line 4)",
     "output_type": "error",
     "traceback": [
      "\u001b[0;36m  Input \u001b[0;32mIn [11]\u001b[0;36m\u001b[0m\n\u001b[0;31m    \u001b[0m\n\u001b[0m    ^\u001b[0m\n\u001b[0;31mSyntaxError\u001b[0m\u001b[0;31m:\u001b[0m unexpected EOF while parsing\n"
     ]
    }
   ],
   "source": [
    "dictionary ={'a':[1,2,3,4], 'b':[2,3,4,5], 'c':[3,4,5,6]}\n",
    "df = pd.DataFrame(dictionary)\n",
    "for row in df.iterrows():\n",
    "    "
   ]
  }
 ],
 "metadata": {
  "kernelspec": {
   "display_name": "Python 3",
   "language": "python",
   "name": "python3"
  },
  "language_info": {
   "codemirror_mode": {
    "name": "ipython",
    "version": 3
   },
   "file_extension": ".py",
   "mimetype": "text/x-python",
   "name": "python",
   "nbconvert_exporter": "python",
   "pygments_lexer": "ipython3",
   "version": "3.8.13"
  },
  "orig_nbformat": 4
 },
 "nbformat": 4,
 "nbformat_minor": 2
}
