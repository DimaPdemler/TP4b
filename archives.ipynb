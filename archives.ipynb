{
 "cells": [
  {
   "attachments": {},
   "cell_type": "markdown",
   "metadata": {},
   "source": [
    "# DNN_model.ipynb"
   ]
  },
  {
   "cell_type": "code",
   "execution_count": null,
   "metadata": {},
   "outputs": [],
   "source": [
    "import numpy as np"
   ]
  },
  {
   "cell_type": "code",
   "execution_count": null,
   "metadata": {},
   "outputs": [],
   "source": [
    "def filename_to_index(data):\n",
    "    names = np.unique(np.array(data['event_type']))\n",
    "    indices = np.arange(len(names))\n",
    "    map = dict(zip(names, indices))\n",
    "    \n",
    "    return data, map"
   ]
  },
  {
   "cell_type": "code",
   "execution_count": null,
   "metadata": {},
   "outputs": [],
   "source": [
    "def normalize_weights(data):\n",
    "    N = len(data['event'])\n",
    "    Ns = sum(data['signal_label'])\n",
    "    Nb = N-Ns\n",
    "    sum_wb = sum(data['genWeight'][i] for i in range(N) if data['signal_label'][i] == 0)\n",
    "    sum_ws = sum(data['genWeight'][i] for i in range(N) if data['signal_label'][i] == 1)\n",
    "\n",
    "    #The sum of all weights for both signal and background should be Nb\n",
    "    array_label = np.array(data['signal_label'])\n",
    "    array_weight = np.array(data['genWeight'])\n",
    "    array_weight *= (Nb*(array_label/sum_ws + (1-array_label)/sum_wb))\n",
    "    data['genWeight'] = array_weight.tolist()\n",
    "    return data"
   ]
  },
  {
   "cell_type": "code",
   "execution_count": null,
   "metadata": {},
   "outputs": [],
   "source": [
    "data = normalize_weights(data)\n",
    "print(\"Total background weight : \", sum(data['genWeight'][i] for i in range(N) if data['signal_label'][i] == 0))\n",
    "print(\"Total signal weight : \", sum(data['genWeight'][i] for i in range(N) if data['signal_label'][i] == 1))\n",
    "print(\"Number of background events : \", len(data['event'])-sum(data['signal_label']))"
   ]
  },
  {
   "attachments": {},
   "cell_type": "markdown",
   "metadata": {},
   "source": [
    "# Test of function \"bucketize\""
   ]
  },
  {
   "cell_type": "code",
   "execution_count": null,
   "metadata": {},
   "outputs": [],
   "source": [
    "import os\n",
    "import fnmatch\n",
    "from data_extractor import Data_extractor_v1\n",
    "import pandas as pd\n",
    "from utils import bucketize\n",
    "\n",
    "path = \"/data/hnl/prompt_tau/anatuple/nanoV10/TEST9/\"\n",
    "channels = os.listdir(path)\n",
    "data = None\n",
    "for channel in channels:\n",
    "    extractor = Data_extractor_v1(channel)\n",
    "    data = extractor(path+channel+'/anatuple/', data=data)\n",
    "    print(channel, \" done\")"
   ]
  },
  {
   "cell_type": "code",
   "execution_count": null,
   "metadata": {},
   "outputs": [],
   "source": [
    "data_processed = pd.DataFrame(data)\n",
    "print(np.unique(data_processed['channel']))\n",
    "print(sum(data_processed['channel'] == 'tee'))\n",
    "print(sum(data_processed['channel'] == 'tem'))\n",
    "print(sum(data_processed['channel'] == 'tmm'))\n",
    "print(sum(data_processed['channel'] == 'tte'))\n",
    "print(sum(data_processed['channel'] == 'ttm'))\n",
    "data_processed, dictionary = bucketize(data_processed, 'channel')\n",
    "print(np.unique(data_processed['channel']))\n",
    "print(sum(data_processed['channel'] == dictionary['tee']))\n",
    "print(sum(data_processed['channel'] == dictionary['tem']))\n",
    "print(sum(data_processed['channel'] == dictionary['tmm']))\n",
    "print(sum(data_processed['channel'] == dictionary['tte']))\n",
    "print(sum(data_processed['channel'] == dictionary['ttm']))"
   ]
  },
  {
   "attachments": {},
   "cell_type": "markdown",
   "metadata": {},
   "source": [
    "# feature_importance_analysis.ipynb "
   ]
  },
  {
   "attachments": {},
   "cell_type": "markdown",
   "metadata": {},
   "source": [
    "## before v4"
   ]
  },
  {
   "cell_type": "code",
   "execution_count": null,
   "metadata": {},
   "outputs": [],
   "source": [
    "import tensorflow as tf\n",
    "import numpy as np\n",
    "import pandas as pd\n",
    "from TP4b.metrics import fi_perm\n",
    "from dnn_tau import Dnn_tau\n",
    "from data_extractor import Data_extractor_v2, output_vars_v2\n",
    "import os\n",
    "import fnmatch\n",
    "from utils import normalize, bucketize, split_dataset\n",
    "from copy import deepcopy\n",
    "import pickle\n",
    "from TP4b.metrics import *"
   ]
  },
  {
   "cell_type": "code",
   "execution_count": null,
   "metadata": {},
   "outputs": [],
   "source": [
    "path = \"/data/hnl/prompt_tau/anatuple/nanoV10/TEST9/\"\n",
    "features = deepcopy(output_vars_v2)\n",
    "features.extend(['signal_label', 'channel', 'event_type', 'mass_hyp'])\n",
    "channels = os.listdir(path)\n",
    "relative_path = \"/anatuple/\""
   ]
  },
  {
   "cell_type": "code",
   "execution_count": null,
   "metadata": {},
   "outputs": [],
   "source": [
    "values = []\n",
    "for i in range(len(features)):\n",
    "    values.append([])\n",
    "data = dict(zip(features, values))\n",
    "\n",
    "for channel in channels:\n",
    "    extractor = Data_extractor_v2(channel)\n",
    "    data = extractor(path+channel+relative_path, data=data)"
   ]
  },
  {
   "cell_type": "code",
   "execution_count": null,
   "metadata": {},
   "outputs": [],
   "source": [
    "N = len(data['event'])\n",
    "n_bkg = N-sum([data['signal_label'][i] for i in range(len(data['signal_label']))])\n",
    "data_norm = normalize(pd.DataFrame(data), 'mass_hyp', n_bkg)\n",
    "data_norm = normalize(data_norm, 'signal_label', n_bkg)\n",
    "data_norm = normalize(data_norm, 'channel', n_bkg)\n",
    "data_processed, channel_indices = bucketize(data_norm, 'channel')\n",
    "print(list(data_processed.keys()))\n",
    "print(channel_indices)"
   ]
  },
  {
   "cell_type": "code",
   "execution_count": null,
   "metadata": {},
   "outputs": [],
   "source": [
    "input_vars = ['deltaphi_12', 'deltaphi_13', 'deltaphi_23', 'deltaeta_12', 'deltaeta_13', 'deltaeta_23', 'deltaR_12', 'deltaR_13', 'deltaR_23',\n",
    "              'pt_123', 'mt_12', 'mt_13', 'mt_23', 'Mt_tot', 'signal_label', 'channel', 'mass_hyp']"
   ]
  },
  {
   "cell_type": "code",
   "execution_count": null,
   "metadata": {},
   "outputs": [],
   "source": [
    "train, val, test, meas = split_dataset(data_processed)"
   ]
  },
  {
   "cell_type": "code",
   "execution_count": null,
   "metadata": {},
   "outputs": [],
   "source": [
    "extracted_data_path = \"extracted_data/TEST9_global_v2_\"\n",
    "train.to_pickle(extracted_data_path+\"train\")\n",
    "test.to_pickle(extracted_data_path+\"test\")\n",
    "val.to_pickle(extracted_data_path+\"val\")\n",
    "meas.to_pickle(extracted_data_path+\"meas\")"
   ]
  },
  {
   "cell_type": "code",
   "execution_count": null,
   "metadata": {},
   "outputs": [],
   "source": [
    "extracted_data_path = \"extracted_data/TEST9_global_v2_\"\n",
    "train = pd.read_pickle(extracted_data_path+\"train\")\n",
    "test = pd.read_pickle(extracted_data_path+\"test\")\n",
    "val = pd.read_pickle(extracted_data_path+\"val\")\n",
    "meas = pd.read_pickle(extracted_data_path+\"meas\")\n",
    "\n",
    "input_vars = ['deltaphi_12', 'deltaphi_13', 'deltaphi_23', 'deltaeta_12', 'deltaeta_13', 'deltaeta_23', 'deltaR_12', 'deltaR_13', 'deltaR_23',\n",
    "              'pt_123', 'mt_12', 'mt_13', 'mt_23', 'Mt_tot', 'signal_label', 'channel', 'mass_hyp']\n",
    "\n",
    "x_train = train[input_vars]\n",
    "x_test = test[input_vars]\n",
    "x_val = val[input_vars]\n",
    "x_meas = meas[input_vars]\n",
    "\n",
    "label_train = x_train.pop('signal_label').astype(float)\n",
    "label_val = x_val.pop('signal_label').astype(float)\n",
    "label_test = x_test.pop('signal_label').astype(float)\n",
    "label_meas = x_meas.pop('signal_label').astype(float)\n",
    "\n",
    "learning_features = list(x_train.keys())"
   ]
  },
  {
   "cell_type": "code",
   "execution_count": null,
   "metadata": {},
   "outputs": [],
   "source": [
    "depths = [len(learning_features)*2]*5\n",
    "print(depths)\n",
    "model = Dnn_tau(list(x_train.keys()), widths=depths)\n",
    "model.compile(loss='binary_crossentropy', \n",
    "                  optimizer='adam', \n",
    "                  metrics=['MSE', 'accuracy'])\n",
    "\n",
    "early_stopping = tf.keras.callbacks.EarlyStopping(monitor='accuracy', patience=7)\n",
    "checkpoint = tf.keras.callbacks.ModelCheckpoint(\n",
    "    filepath=\"./saved_models/checkpoint\",\n",
    "    monitor = \"val_loss\",\n",
    "    save_best_only = True\n",
    ")\n",
    "history = model.fit(x_train, label_train, sample_weight=train['genWeight'], validation_data=(x_val, label_val), epochs=100000, verbose=1, \n",
    "                    batch_size = 400, callbacks=[early_stopping, checkpoint])\n",
    "model = tf.keras.models.load_model('./saved_models/checkpoint')\n",
    "model.save('./saved_models/TEST9_global_v2')\n",
    "# Save history\n",
    "filename = \"./saved_history/TEST9_global_vs.pkl\"\n",
    "with open(filename, \"wb\") as file:\n",
    "    pickle.dump(history.history, file)"
   ]
  },
  {
   "cell_type": "code",
   "execution_count": null,
   "metadata": {},
   "outputs": [],
   "source": [
    "model = tf.keras.models.load_model('./saved_models/TEST9_global_v2')"
   ]
  },
  {
   "cell_type": "code",
   "execution_count": null,
   "metadata": {},
   "outputs": [],
   "source": [
    "print(model.metrics_names)"
   ]
  },
  {
   "cell_type": "code",
   "execution_count": null,
   "metadata": {},
   "outputs": [],
   "source": [
    "delta_loss_perm = []\n",
    "loss_no_shuffle = fi_perm(model, test, input_vars, [])\n",
    "for key in learning_features:\n",
    "    loss_shuffle = fi_perm(model, test, input_vars, key)\n",
    "    delta_loss_perm.append(loss_shuffle-loss_no_shuffle)\n",
    "delta_loss_perm = dict(zip(learning_features, delta_loss_perm))\n",
    "print(delta_loss_perm)"
   ]
  },
  {
   "cell_type": "code",
   "execution_count": null,
   "metadata": {},
   "outputs": [],
   "source": [
    "filename = \"./saved_results/TEST9_global_v1_loss_shuffle.pkl\"\n",
    "with open(filename, \"wb\") as file:\n",
    "    pickle.dump(delta_loss_perm, file)"
   ]
  },
  {
   "cell_type": "code",
   "execution_count": null,
   "metadata": {},
   "outputs": [],
   "source": [
    "filename = \"./saved_results/TEST9_global_v1_loss_shuffle.pkl\"\n",
    "with open(filename, \"rb\") as f:\n",
    "    delta_loss_perm = pickle.load(f)"
   ]
  },
  {
   "cell_type": "code",
   "execution_count": null,
   "metadata": {},
   "outputs": [],
   "source": [
    "for key in delta_loss_perm:\n",
    "    print(key, \"  \\t: {:.5f}\".format(delta_loss_perm[key]))"
   ]
  },
  {
   "cell_type": "code",
   "execution_count": null,
   "metadata": {},
   "outputs": [],
   "source": [
    "from TP4b.metrics import fi_mutual_info\n",
    "mis = fi_mutual_info(model, test, input_vars)"
   ]
  },
  {
   "attachments": {},
   "cell_type": "markdown",
   "metadata": {},
   "source": [
    "## After v4"
   ]
  },
  {
   "attachments": {},
   "cell_type": "markdown",
   "metadata": {},
   "source": [
    "Not adapted to the new df with the columns 'weightOriginal' and 'weightNorm', and doesn't utilize the fact that the DNN will be already trained"
   ]
  },
  {
   "cell_type": "code",
   "execution_count": null,
   "metadata": {},
   "outputs": [],
   "source": [
    "import tensorflow as tf\n",
    "import numpy as np\n",
    "import pandas as pd\n",
    "from TP4b.metrics import fi_perm\n",
    "from dnn_tau import Dnn_tau\n",
    "from data_extractor import Data_extractor_v2, output_vars_v2\n",
    "import os\n",
    "import fnmatch\n",
    "from utils import normalize, bucketize, split_dataset\n",
    "from copy import deepcopy\n",
    "import pickle\n",
    "from TP4b.metrics import *\n",
    "import matplotlib.pyplot as plt"
   ]
  },
  {
   "cell_type": "code",
   "execution_count": null,
   "metadata": {},
   "outputs": [],
   "source": [
    "data = pd.read_pickle(\"extracted_data/TEST9_global_v4_all_normalized\")\n",
    "with open('extracted_data/TEST9_global_v4_all_normalized_channel_indices', 'rb') as file:\n",
    "    channel_indices = pickle.load(file)"
   ]
  },
  {
   "cell_type": "code",
   "execution_count": null,
   "metadata": {},
   "outputs": [],
   "source": [
    "train = pd.read_pickle('extracted_data/TEST9_global_v4_train')\n",
    "val = pd.read_pickle('extracted_data/TEST9_global_v4_val')\n",
    "test = pd.read_pickle('extracted_data/TEST9_global_v4_test')\n",
    "meas = pd.read_pickle('extracted_data/TEST9_global_v4_meas')"
   ]
  },
  {
   "cell_type": "code",
   "execution_count": null,
   "metadata": {},
   "outputs": [],
   "source": [
    "learning_features = ['charge_1', 'charge_2', 'charge_3', 'pt_1',\n",
    "       'pt_2', 'pt_3', 'pt_MET', 'eta_1', 'eta_2', 'eta_3', 'mass_1', 'mass_2',\n",
    "       'mass_3', 'deltaphi_12', 'deltaphi_13', 'deltaphi_23', 'deltaphi_1MET',\n",
    "       'deltaphi_2MET', 'deltaphi_3MET', 'deltaphi_1(23)', 'deltaphi_2(13)',\n",
    "       'deltaphi_3(12)', 'deltaphi_MET(12)', 'deltaphi_MET(13)',\n",
    "       'deltaphi_MET(23)', 'deltaphi_1(2MET)', 'deltaphi_1(3MET)',\n",
    "       'deltaphi_2(1MET)', 'deltaphi_2(3MET)', 'deltaphi_3(1MET)',\n",
    "       'deltaphi_3(2MET)', 'deltaeta_12', 'deltaeta_13', 'deltaeta_23',\n",
    "       'deltaeta_1(23)', 'deltaeta_2(13)', 'deltaeta_3(12)', 'deltaR_12',\n",
    "       'deltaR_13', 'deltaR_23', 'deltaR_1(23)', 'deltaR_2(13)',\n",
    "       'deltaR_3(12)', 'pt_123', 'mt_12', 'mt_13', 'mt_23', 'mt_1MET',\n",
    "       'mt_2MET', 'mt_3MET', 'mt_1(23)', 'mt_2(13)', 'mt_3(12)', 'mt_MET(12)',\n",
    "       'mt_MET(13)', 'mt_MET(23)', 'mt_1(2MET)', 'mt_1(3MET)', 'mt_2(1MET)',\n",
    "       'mt_2(3MET)', 'mt_3(1MET)', 'mt_3(2MET)', 'mass_12', 'mass_13',\n",
    "       'mass_23', 'mass_123', 'Mt_tot', 'HNL_CM_angle_with_MET_1',\n",
    "       'HNL_CM_angle_with_MET_2', 'W_CM_angle_to_plane_1',\n",
    "       'W_CM_angle_to_plane_2', 'W_CM_angle_to_plane_with_MET_1',\n",
    "       'W_CM_angle_to_plane_with_MET_2', 'HNL_CM_mass_1', 'HNL_CM_mass_2',\n",
    "       'HNL_CM_mass_with_MET_1', 'HNL_CM_mass_with_MET_2', 'W_CM_angle_12',\n",
    "       'W_CM_angle_13', 'W_CM_angle_23', 'W_CM_angle_1MET', 'W_CM_angle_2MET',\n",
    "       'W_CM_angle_3MET', 'mass_hyp']\n",
    "selection = learning_features+['signal_label']"
   ]
  },
  {
   "cell_type": "code",
   "execution_count": null,
   "metadata": {},
   "outputs": [],
   "source": [
    "depths = [5,7,10,15]"
   ]
  },
  {
   "attachments": {},
   "cell_type": "markdown",
   "metadata": {},
   "source": [
    "### Channel by channel"
   ]
  },
  {
   "cell_type": "code",
   "execution_count": null,
   "metadata": {},
   "outputs": [],
   "source": [
    "for channel in channel_indices:\n",
    "    data_channel = data.loc[data['channel'] == channel_indices[channel]]\n",
    "    train, val, test, meas = split_dataset(data_channel)\n",
    "    print(len(data_channel['event']))\n",
    "    x = test[selection]\n",
    "    y = x.pop('signal_label')\n",
    "\n",
    "    accuracies = []\n",
    "    for depth in depths:\n",
    "        model = tf.keras.models.load_model('saved_models/TEST9_global_v4_{}_depth_{}'.format(channel, depth))\n",
    "        _, accuracy = model.evaluate(x, y)\n",
    "        accuracies.append(accuracy)\n",
    "    \n",
    "    plt.plot(depths, accuracies)\n",
    "    plt.xlabel('$n_{layers}$')\n",
    "    plt.ylabel('accuracy')\n",
    "    plt.title(channel)\n",
    "    plt.grid()\n",
    "    plt.show()"
   ]
  },
  {
   "cell_type": "code",
   "execution_count": null,
   "metadata": {},
   "outputs": [],
   "source": [
    "for channel in channel_indices:\n",
    "    print(channel, \":\")\n",
    "    with open('saved_results/TEST9_global_v4_loss_shuffle_' + channel, 'rb') as file:\n",
    "        fi = pickle.load(file)\n",
    "    for key in fi:\n",
    "        print(\"\\t-\", key, \"  \\t: {:.5f}\".format(fi[key][0]))\n",
    "    "
   ]
  },
  {
   "cell_type": "code",
   "execution_count": null,
   "metadata": {},
   "outputs": [],
   "source": [
    "for channel in channel_indices:\n",
    "\n",
    "    with open('saved_results/TEST9_global_v4_loss_shuffle_' + channel, 'rb') as file:\n",
    "        fi = pickle.load(file)\n",
    "    try:\n",
    "        sorted_fi = sorted(fi.items(), key=lambda x: x[1], reverse=True)\n",
    "        names = [item[0] for item in sorted_fi]\n",
    "        values = [item[1][0] for item in sorted_fi]\n",
    "    except:\n",
    "        fi = fi.to_dict(orient='records')[0]\n",
    "        sorted_fi = sorted(fi.items(), key=lambda x: x[1], reverse=True)\n",
    "        names = [item[0] for item in sorted_fi]\n",
    "        values = [item[1] for item in sorted_fi]\n",
    "    \n",
    "    plt.figure(figsize=(8, 25))\n",
    "    plt.barh(names[1:], values[1:])\n",
    "    plt.xlabel('Loss difference')\n",
    "    plt.ylabel('Feature')\n",
    "    plt.title('Channel ' + channel)\n",
    "    plt.show()"
   ]
  },
  {
   "cell_type": "code",
   "execution_count": null,
   "metadata": {},
   "outputs": [],
   "source": [
    "metric = 'accuracy'\n",
    "\n",
    "channel = 'tte'\n",
    "depth = 7\n",
    "filename = 'saved_history/TEST9_global_v4_{}_depth_{}'.format(channel, depth)\n",
    "with open(filename, \"rb\") as file:\n",
    "    history = pickle.load(file)\n",
    "\n",
    "plt.plot(history[metric])\n",
    "plt.xlabel('epoch')\n",
    "plt.ylabel(metric)\n",
    "plt.grid()"
   ]
  },
  {
   "attachments": {},
   "cell_type": "markdown",
   "metadata": {},
   "source": [
    "### All channels together"
   ]
  },
  {
   "cell_type": "code",
   "execution_count": null,
   "metadata": {},
   "outputs": [],
   "source": [
    "learning_features = ['charge_1', 'charge_2', 'charge_3', 'pt_1',\n",
    "       'pt_2', 'pt_3', 'pt_MET', 'eta_1', 'eta_2', 'eta_3', 'mass_1', 'mass_2',\n",
    "       'mass_3', 'deltaphi_12', 'deltaphi_13', 'deltaphi_23', 'deltaphi_1MET',\n",
    "       'deltaphi_2MET', 'deltaphi_3MET', 'deltaphi_1(23)', 'deltaphi_2(13)',\n",
    "       'deltaphi_3(12)', 'deltaphi_MET(12)', 'deltaphi_MET(13)',\n",
    "       'deltaphi_MET(23)', 'deltaphi_1(2MET)', 'deltaphi_1(3MET)',\n",
    "       'deltaphi_2(1MET)', 'deltaphi_2(3MET)', 'deltaphi_3(1MET)',\n",
    "       'deltaphi_3(2MET)', 'deltaeta_12', 'deltaeta_13', 'deltaeta_23',\n",
    "       'deltaeta_1(23)', 'deltaeta_2(13)', 'deltaeta_3(12)', 'deltaR_12',\n",
    "       'deltaR_13', 'deltaR_23', 'deltaR_1(23)', 'deltaR_2(13)',\n",
    "       'deltaR_3(12)', 'pt_123', 'mt_12', 'mt_13', 'mt_23', 'mt_1MET',\n",
    "       'mt_2MET', 'mt_3MET', 'mt_1(23)', 'mt_2(13)', 'mt_3(12)', 'mt_MET(12)',\n",
    "       'mt_MET(13)', 'mt_MET(23)', 'mt_1(2MET)', 'mt_1(3MET)', 'mt_2(1MET)',\n",
    "       'mt_2(3MET)', 'mt_3(1MET)', 'mt_3(2MET)', 'mass_12', 'mass_13',\n",
    "       'mass_23', 'mass_123', 'Mt_tot', 'HNL_CM_angle_with_MET_1',\n",
    "       'HNL_CM_angle_with_MET_2', 'W_CM_angle_to_plane_1',\n",
    "       'W_CM_angle_to_plane_2', 'W_CM_angle_to_plane_with_MET_1',\n",
    "       'W_CM_angle_to_plane_with_MET_2', 'HNL_CM_mass_1', 'HNL_CM_mass_2',\n",
    "       'HNL_CM_mass_with_MET_1', 'HNL_CM_mass_with_MET_2', 'W_CM_angle_12',\n",
    "       'W_CM_angle_13', 'W_CM_angle_23', 'W_CM_angle_1MET', 'W_CM_angle_2MET',\n",
    "       'W_CM_angle_3MET', 'mass_hyp']\n",
    "selection = learning_features + ['signal_label']\n",
    "selection_all = selection + ['channel']"
   ]
  },
  {
   "cell_type": "code",
   "execution_count": null,
   "metadata": {},
   "outputs": [],
   "source": [
    "x_val = val[selection_all]\n",
    "label_val = x_val.pop('signal_label').astype(float)"
   ]
  },
  {
   "cell_type": "code",
   "execution_count": null,
   "metadata": {},
   "outputs": [],
   "source": [
    "losses = []\n",
    "for depth in depths:\n",
    "    model = tf.keras.models.load_model('saved_models/TEST9_global_v4_all_channels_depth_{}'.format(depth))\n",
    "    loss, _, _ = model.evaluate(x_val, label_val, sample_weight=val['genWeight'])\n",
    "    losses.append(loss)\n",
    "losses = np.array(losses)\n",
    "idx_best = np.argmin(losses)\n",
    "model = tf.keras.models.load_model('saved_models/TEST9_global_v4_all_channels_depth_{}'.format(depths[idx_best]))\n",
    "\n",
    "features_all = deepcopy(selection_all)\n",
    "features_all.remove('signal_label')\n",
    "to_permute = deepcopy(features_all)\n",
    "to_permute.remove('channel')\n",
    "delta_loss_perm = []\n",
    "loss_no_shuffle = fi_perm(model, test, selection_all, [])\n",
    "# for key in features:\n",
    "for key in to_permute:\n",
    "    loss_shuffle = fi_perm(model, test, selection_all, key)\n",
    "    delta_loss_perm.append([loss_shuffle-loss_no_shuffle])\n",
    "delta_loss_perm = dict(zip(to_permute, delta_loss_perm))\n",
    "filename = \"saved_results/TEST9_global_v4_loss_shuffle_all_channels\"\n",
    "with open(filename, \"wb\") as file:\n",
    "    pickle.dump(delta_loss_perm, file)"
   ]
  },
  {
   "cell_type": "code",
   "execution_count": null,
   "metadata": {},
   "outputs": [],
   "source": [
    "x = test[selection_all]\n",
    "y = x.pop('signal_label')\n",
    "\n",
    "accuracies = []\n",
    "for depth in depths:\n",
    "    model = tf.keras.models.load_model('saved_models/TEST9_global_v4_all_channels_depth_{}'.format(depth))\n",
    "    results = model.evaluate(x, y)\n",
    "    accuracies.append(results[-1])\n",
    "\n",
    "plt.plot(depths, accuracies)\n",
    "plt.xlabel('$n_{layers}$')\n",
    "plt.ylabel('weighted accuracy')\n",
    "plt.grid()\n",
    "plt.show()"
   ]
  },
  {
   "cell_type": "code",
   "execution_count": null,
   "metadata": {},
   "outputs": [],
   "source": [
    "with open('saved_results/TEST9_global_v4_loss_shuffle_all_channels', 'rb') as file:\n",
    "    fi = pickle.load(file)\n",
    "try:\n",
    "    sorted_fi = sorted(fi.items(), key=lambda x: x[1], reverse=True)\n",
    "    names = [item[0] for item in sorted_fi]\n",
    "    values = [item[1][0] for item in sorted_fi]\n",
    "except:\n",
    "    fi = fi.to_dict(orient='records')[0]\n",
    "    sorted_fi = sorted(fi.items(), key=lambda x: x[1], reverse=True)\n",
    "    names = [item[0] for item in sorted_fi]\n",
    "    values = [item[1] for item in sorted_fi]\n",
    "\n",
    "print(names)\n",
    "\n",
    "plt.figure(figsize=(8, 25))\n",
    "plt.barh(names[1:], values[1:])\n",
    "plt.xlabel('Loss difference')\n",
    "plt.ylabel('Feature')\n",
    "plt.title('All channels')\n",
    "plt.show()"
   ]
  },
  {
   "cell_type": "code",
   "execution_count": null,
   "metadata": {},
   "outputs": [],
   "source": [
    "threshold = max(values)/100\n",
    "values_sel = [v for v in values if v > threshold]\n",
    "names_sel = names[:len(values_sel)]\n",
    "print(names_sel)"
   ]
  },
  {
   "attachments": {},
   "cell_type": "markdown",
   "metadata": {},
   "source": [
    "# Test of poisson significance estimator with one variable"
   ]
  },
  {
   "cell_type": "code",
   "execution_count": 1,
   "metadata": {},
   "outputs": [],
   "source": [
    "from metrics import poisson_significance\n",
    "import pandas as pd\n",
    "from utils import plot_hist\n",
    "import matplotlib.pyplot as plt\n",
    "import numpy as np"
   ]
  },
  {
   "cell_type": "code",
   "execution_count": 17,
   "metadata": {},
   "outputs": [
    {
     "name": "stderr",
     "output_type": "stream",
     "text": [
      "100%|██████████| 200/200 [00:04<00:00, 49.73it/s]\n"
     ]
    }
   ],
   "source": [
    "df = pd.read_pickle('extracted_data/TEST9_global_v4_og_and_norm_weights')\n",
    "scores = df['HNL_CM_mass_1']\n",
    "signal_label = df['signal_label']\n",
    "weights = df['weightOriginal']\n",
    "bins = np.linspace(0,400,200)\n",
    "\n",
    "sig, bins = poisson_significance(scores, signal_label, weights, bins)"
   ]
  },
  {
   "cell_type": "code",
   "execution_count": 18,
   "metadata": {},
   "outputs": [],
   "source": [
    "thresh = bins[np.argmax(sig)]"
   ]
  },
  {
   "cell_type": "code",
   "execution_count": 19,
   "metadata": {},
   "outputs": [
    {
     "name": "stdout",
     "output_type": "stream",
     "text": [
      "200\n",
      "200\n"
     ]
    }
   ],
   "source": [
    "print(len(bins))\n",
    "print(len(sig))"
   ]
  },
  {
   "cell_type": "code",
   "execution_count": 20,
   "metadata": {},
   "outputs": [
    {
     "data": {
      "image/png": "[encoded data removed]",
      "text/plain": [
       "<Figure size 432x288 with 1 Axes>"
      ]
     },
     "metadata": {
      "needs_background": "light"
     },
     "output_type": "display_data"
    }
   ],
   "source": [
    "plt.plot(bins, sig)\n",
    "plt.xlabel('$X_0$')\n",
    "plt.ylabel(r'$\\frac{S_{X_0}}{\\sqrt{B_{X_0}}}$')\n",
    "plt.grid()"
   ]
  },
  {
   "cell_type": "code",
   "execution_count": 21,
   "metadata": {},
   "outputs": [
    {
     "name": "stdout",
     "output_type": "stream",
     "text": [
      "Index(['event', 'weightOriginal', 'charge_1', 'charge_2', 'charge_3', 'pt_1',\n",
      "       'pt_2', 'pt_3', 'pt_MET', 'eta_1', 'eta_2', 'eta_3', 'mass_1', 'mass_2',\n",
      "       'mass_3', 'deltaphi_12', 'deltaphi_13', 'deltaphi_23', 'deltaphi_1MET',\n",
      "       'deltaphi_2MET', 'deltaphi_3MET', 'deltaphi_1(23)', 'deltaphi_2(13)',\n",
      "       'deltaphi_3(12)', 'deltaphi_MET(12)', 'deltaphi_MET(13)',\n",
      "       'deltaphi_MET(23)', 'deltaphi_1(2MET)', 'deltaphi_1(3MET)',\n",
      "       'deltaphi_2(1MET)', 'deltaphi_2(3MET)', 'deltaphi_3(1MET)',\n",
      "       'deltaphi_3(2MET)', 'deltaeta_12', 'deltaeta_13', 'deltaeta_23',\n",
      "       'deltaeta_1(23)', 'deltaeta_2(13)', 'deltaeta_3(12)', 'deltaR_12',\n",
      "       'deltaR_13', 'deltaR_23', 'deltaR_1(23)', 'deltaR_2(13)',\n",
      "       'deltaR_3(12)', 'pt_123', 'mt_12', 'mt_13', 'mt_23', 'mt_1MET',\n",
      "       'mt_2MET', 'mt_3MET', 'mt_1(23)', 'mt_2(13)', 'mt_3(12)', 'mt_MET(12)',\n",
      "       'mt_MET(13)', 'mt_MET(23)', 'mt_1(2MET)', 'mt_1(3MET)', 'mt_2(1MET)',\n",
      "       'mt_2(3MET)', 'mt_3(1MET)', 'mt_3(2MET)', 'mass_12', 'mass_13',\n",
      "       'mass_23', 'mass_123', 'Mt_tot', 'HNL_CM_angle_with_MET_1',\n",
      "       'HNL_CM_angle_with_MET_2', 'W_CM_angle_to_plane_1',\n",
      "       'W_CM_angle_to_plane_2', 'W_CM_angle_to_plane_with_MET_1',\n",
      "       'W_CM_angle_to_plane_with_MET_2', 'HNL_CM_mass_1', 'HNL_CM_mass_2',\n",
      "       'HNL_CM_mass_with_MET_1', 'HNL_CM_mass_with_MET_2', 'W_CM_angle_12',\n",
      "       'W_CM_angle_13', 'W_CM_angle_23', 'W_CM_angle_1MET', 'W_CM_angle_2MET',\n",
      "       'W_CM_angle_3MET', 'n_tauh', 'signal_label', 'channel', 'event_type',\n",
      "       'mass_hyp', 'weightNorm'],\n",
      "      dtype='object')\n"
     ]
    }
   ],
   "source": [
    "print(df.keys())"
   ]
  },
  {
   "cell_type": "code",
   "execution_count": 22,
   "metadata": {},
   "outputs": [
    {
     "data": {
      "text/plain": [
       "<matplotlib.legend.Legend at 0x7f151d8e2d30>"
      ]
     },
     "execution_count": 22,
     "metadata": {},
     "output_type": "execute_result"
    },
    {
     "data": {
      "image/png": "[encoded data removed]",
      "text/plain": [
       "<Figure size 720x432 with 1 Axes>"
      ]
     },
     "metadata": {
      "needs_background": "light"
     },
     "output_type": "display_data"
    }
   ],
   "source": [
    "import numpy as np\n",
    "bins = np.linspace(0,600, 40)\n",
    "fig = plot_hist(df, 'HNL_CM_mass_1', r'$\\tilde{m}_{HNL,1}$', bins, mode='simple_signal_label', return_counts=False)\n",
    "ax = fig[0].axes[0]\n",
    "y_min, y_max = ax.get_ylim()\n",
    "ax.axvline(thresh, color='k', linestyle='--', label='$X_0$')\n",
    "ax.legend()"
   ]
  }
 ],
 "metadata": {
  "kernelspec": {
   "display_name": "Python 3",
   "language": "python",
   "name": "python3"
  },
  "language_info": {
   "codemirror_mode": {
    "name": "ipython",
    "version": 3
   },
   "file_extension": ".py",
   "mimetype": "text/x-python",
   "name": "python",
   "nbconvert_exporter": "python",
   "pygments_lexer": "ipython3",
   "version": "3.8.13"
  },
  "orig_nbformat": 4
 },
 "nbformat": 4,
 "nbformat_minor": 2
}
