{
 "cells": [
  {
   "attachments": {},
   "cell_type": "markdown",
   "metadata": {},
   "source": [
    "# DNN_model.ipynb"
   ]
  },
  {
   "cell_type": "code",
   "execution_count": null,
   "metadata": {},
   "outputs": [],
   "source": [
    "import numpy as np"
   ]
  },
  {
   "cell_type": "code",
   "execution_count": null,
   "metadata": {},
   "outputs": [],
   "source": [
    "def filename_to_index(data):\n",
    "    names = np.unique(np.array(data['event_type']))\n",
    "    indices = np.arange(len(names))\n",
    "    map = dict(zip(names, indices))\n",
    "    \n",
    "    return data, map"
   ]
  },
  {
   "cell_type": "code",
   "execution_count": null,
   "metadata": {},
   "outputs": [],
   "source": [
    "def normalize_weights(data):\n",
    "    N = len(data['event'])\n",
    "    Ns = sum(data['signal_label'])\n",
    "    Nb = N-Ns\n",
    "    sum_wb = sum(data['genWeight'][i] for i in range(N) if data['signal_label'][i] == 0)\n",
    "    sum_ws = sum(data['genWeight'][i] for i in range(N) if data['signal_label'][i] == 1)\n",
    "\n",
    "    #The sum of all weights for both signal and background should be Nb\n",
    "    array_label = np.array(data['signal_label'])\n",
    "    array_weight = np.array(data['genWeight'])\n",
    "    array_weight *= (Nb*(array_label/sum_ws + (1-array_label)/sum_wb))\n",
    "    data['genWeight'] = array_weight.tolist()\n",
    "    return data"
   ]
  },
  {
   "cell_type": "code",
   "execution_count": null,
   "metadata": {},
   "outputs": [],
   "source": [
    "data = normalize_weights(data)\n",
    "print(\"Total background weight : \", sum(data['genWeight'][i] for i in range(N) if data['signal_label'][i] == 0))\n",
    "print(\"Total signal weight : \", sum(data['genWeight'][i] for i in range(N) if data['signal_label'][i] == 1))\n",
    "print(\"Number of background events : \", len(data['event'])-sum(data['signal_label']))"
   ]
  },
  {
   "attachments": {},
   "cell_type": "markdown",
   "metadata": {},
   "source": [
    "# Test of function \"bucketize\""
   ]
  },
  {
   "cell_type": "code",
   "execution_count": null,
   "metadata": {},
   "outputs": [],
   "source": [
    "import os\n",
    "import fnmatch\n",
    "from data_extractor import Data_extractor_v1\n",
    "import pandas as pd\n",
    "from utils import bucketize\n",
    "\n",
    "path = \"/data/hnl/prompt_tau/anatuple/nanoV10/TEST9/\"\n",
    "channels = os.listdir(path)\n",
    "data = None\n",
    "for channel in channels:\n",
    "    extractor = Data_extractor_v1(channel)\n",
    "    data = extractor(path+channel+'/anatuple/', data=data)\n",
    "    print(channel, \" done\")"
   ]
  },
  {
   "cell_type": "code",
   "execution_count": null,
   "metadata": {},
   "outputs": [],
   "source": [
    "data_processed = pd.DataFrame(data)\n",
    "print(np.unique(data_processed['channel']))\n",
    "print(sum(data_processed['channel'] == 'tee'))\n",
    "print(sum(data_processed['channel'] == 'tem'))\n",
    "print(sum(data_processed['channel'] == 'tmm'))\n",
    "print(sum(data_processed['channel'] == 'tte'))\n",
    "print(sum(data_processed['channel'] == 'ttm'))\n",
    "data_processed, dictionary = bucketize(data_processed, 'channel')\n",
    "print(np.unique(data_processed['channel']))\n",
    "print(sum(data_processed['channel'] == dictionary['tee']))\n",
    "print(sum(data_processed['channel'] == dictionary['tem']))\n",
    "print(sum(data_processed['channel'] == dictionary['tmm']))\n",
    "print(sum(data_processed['channel'] == dictionary['tte']))\n",
    "print(sum(data_processed['channel'] == dictionary['ttm']))"
   ]
  }
 ],
 "metadata": {
  "language_info": {
   "name": "python"
  },
  "orig_nbformat": 4
 },
 "nbformat": 4,
 "nbformat_minor": 2
}
