{
 "cells": [
  {
   "attachments": {},
   "cell_type": "markdown",
   "metadata": {},
   "source": [
    "# DNN_model.ipynb"
   ]
  },
  {
   "cell_type": "code",
   "execution_count": null,
   "metadata": {},
   "outputs": [],
   "source": [
    "import numpy as np"
   ]
  },
  {
   "cell_type": "code",
   "execution_count": null,
   "metadata": {},
   "outputs": [],
   "source": [
    "def filename_to_index(data):\n",
    "    names = np.unique(np.array(data['event_type']))\n",
    "    indices = np.arange(len(names))\n",
    "    map = dict(zip(names, indices))\n",
    "    \n",
    "    return data, map"
   ]
  },
  {
   "cell_type": "code",
   "execution_count": null,
   "metadata": {},
   "outputs": [],
   "source": [
    "def normalize_weights(data):\n",
    "    N = len(data['event'])\n",
    "    Ns = sum(data['signal_label'])\n",
    "    Nb = N-Ns\n",
    "    sum_wb = sum(data['genWeight'][i] for i in range(N) if data['signal_label'][i] == 0)\n",
    "    sum_ws = sum(data['genWeight'][i] for i in range(N) if data['signal_label'][i] == 1)\n",
    "\n",
    "    #The sum of all weights for both signal and background should be Nb\n",
    "    array_label = np.array(data['signal_label'])\n",
    "    array_weight = np.array(data['genWeight'])\n",
    "    array_weight *= (Nb*(array_label/sum_ws + (1-array_label)/sum_wb))\n",
    "    data['genWeight'] = array_weight.tolist()\n",
    "    return data"
   ]
  },
  {
   "cell_type": "code",
   "execution_count": null,
   "metadata": {},
   "outputs": [],
   "source": [
    "data = normalize_weights(data)\n",
    "print(\"Total background weight : \", sum(data['genWeight'][i] for i in range(N) if data['signal_label'][i] == 0))\n",
    "print(\"Total signal weight : \", sum(data['genWeight'][i] for i in range(N) if data['signal_label'][i] == 1))\n",
    "print(\"Number of background events : \", len(data['event'])-sum(data['signal_label']))"
   ]
  },
  {
   "attachments": {},
   "cell_type": "markdown",
   "metadata": {},
   "source": [
    "# Test of function \"bucketize\""
   ]
  },
  {
   "cell_type": "code",
   "execution_count": null,
   "metadata": {},
   "outputs": [],
   "source": [
    "import os\n",
    "import fnmatch\n",
    "from data_extractor import Data_extractor_v1\n",
    "import pandas as pd\n",
    "from utils import bucketize\n",
    "\n",
    "path = \"/data/hnl/prompt_tau/anatuple/nanoV10/TEST9/\"\n",
    "channels = os.listdir(path)\n",
    "data = None\n",
    "for channel in channels:\n",
    "    extractor = Data_extractor_v1(channel)\n",
    "    data = extractor(path+channel+'/anatuple/', data=data)\n",
    "    print(channel, \" done\")"
   ]
  },
  {
   "cell_type": "code",
   "execution_count": null,
   "metadata": {},
   "outputs": [],
   "source": [
    "data_processed = pd.DataFrame(data)\n",
    "print(np.unique(data_processed['channel']))\n",
    "print(sum(data_processed['channel'] == 'tee'))\n",
    "print(sum(data_processed['channel'] == 'tem'))\n",
    "print(sum(data_processed['channel'] == 'tmm'))\n",
    "print(sum(data_processed['channel'] == 'tte'))\n",
    "print(sum(data_processed['channel'] == 'ttm'))\n",
    "data_processed, dictionary = bucketize(data_processed, 'channel')\n",
    "print(np.unique(data_processed['channel']))\n",
    "print(sum(data_processed['channel'] == dictionary['tee']))\n",
    "print(sum(data_processed['channel'] == dictionary['tem']))\n",
    "print(sum(data_processed['channel'] == dictionary['tmm']))\n",
    "print(sum(data_processed['channel'] == dictionary['tte']))\n",
    "print(sum(data_processed['channel'] == dictionary['ttm']))"
   ]
  },
  {
   "attachments": {},
   "cell_type": "markdown",
   "metadata": {},
   "source": [
    "# feature_importance_analysis.ipynb (before v4)"
   ]
  },
  {
   "cell_type": "code",
   "execution_count": null,
   "metadata": {},
   "outputs": [],
   "source": [
    "import tensorflow as tf\n",
    "import numpy as np\n",
    "import pandas as pd\n",
    "from TP4b.metrics import fi_perm\n",
    "from dnn_tau import Dnn_tau\n",
    "from data_extractor import Data_extractor_v2, output_vars_v2\n",
    "import os\n",
    "import fnmatch\n",
    "from utils import normalize, bucketize, split_dataset\n",
    "from copy import deepcopy\n",
    "import pickle\n",
    "from TP4b.metrics import *"
   ]
  },
  {
   "cell_type": "code",
   "execution_count": null,
   "metadata": {},
   "outputs": [],
   "source": [
    "path = \"/data/hnl/prompt_tau/anatuple/nanoV10/TEST9/\"\n",
    "features = deepcopy(output_vars_v2)\n",
    "features.extend(['signal_label', 'channel', 'event_type', 'mass_hyp'])\n",
    "channels = os.listdir(path)\n",
    "relative_path = \"/anatuple/\""
   ]
  },
  {
   "cell_type": "code",
   "execution_count": null,
   "metadata": {},
   "outputs": [],
   "source": [
    "values = []\n",
    "for i in range(len(features)):\n",
    "    values.append([])\n",
    "data = dict(zip(features, values))\n",
    "\n",
    "for channel in channels:\n",
    "    extractor = Data_extractor_v2(channel)\n",
    "    data = extractor(path+channel+relative_path, data=data)"
   ]
  },
  {
   "cell_type": "code",
   "execution_count": null,
   "metadata": {},
   "outputs": [],
   "source": [
    "N = len(data['event'])\n",
    "n_bkg = N-sum([data['signal_label'][i] for i in range(len(data['signal_label']))])\n",
    "data_norm = normalize(pd.DataFrame(data), 'mass_hyp', n_bkg)\n",
    "data_norm = normalize(data_norm, 'signal_label', n_bkg)\n",
    "data_norm = normalize(data_norm, 'channel', n_bkg)\n",
    "data_processed, channel_indices = bucketize(data_norm, 'channel')\n",
    "print(list(data_processed.keys()))\n",
    "print(channel_indices)"
   ]
  },
  {
   "cell_type": "code",
   "execution_count": null,
   "metadata": {},
   "outputs": [],
   "source": [
    "input_vars = ['deltaphi_12', 'deltaphi_13', 'deltaphi_23', 'deltaeta_12', 'deltaeta_13', 'deltaeta_23', 'deltaR_12', 'deltaR_13', 'deltaR_23',\n",
    "              'pt_123', 'mt_12', 'mt_13', 'mt_23', 'Mt_tot', 'signal_label', 'channel', 'mass_hyp']"
   ]
  },
  {
   "cell_type": "code",
   "execution_count": null,
   "metadata": {},
   "outputs": [],
   "source": [
    "train, val, test, meas = split_dataset(data_processed)"
   ]
  },
  {
   "cell_type": "code",
   "execution_count": null,
   "metadata": {},
   "outputs": [],
   "source": [
    "extracted_data_path = \"extracted_data/TEST9_global_v2_\"\n",
    "train.to_pickle(extracted_data_path+\"train\")\n",
    "test.to_pickle(extracted_data_path+\"test\")\n",
    "val.to_pickle(extracted_data_path+\"val\")\n",
    "meas.to_pickle(extracted_data_path+\"meas\")"
   ]
  },
  {
   "cell_type": "code",
   "execution_count": null,
   "metadata": {},
   "outputs": [],
   "source": [
    "extracted_data_path = \"extracted_data/TEST9_global_v2_\"\n",
    "train = pd.read_pickle(extracted_data_path+\"train\")\n",
    "test = pd.read_pickle(extracted_data_path+\"test\")\n",
    "val = pd.read_pickle(extracted_data_path+\"val\")\n",
    "meas = pd.read_pickle(extracted_data_path+\"meas\")\n",
    "\n",
    "input_vars = ['deltaphi_12', 'deltaphi_13', 'deltaphi_23', 'deltaeta_12', 'deltaeta_13', 'deltaeta_23', 'deltaR_12', 'deltaR_13', 'deltaR_23',\n",
    "              'pt_123', 'mt_12', 'mt_13', 'mt_23', 'Mt_tot', 'signal_label', 'channel', 'mass_hyp']\n",
    "\n",
    "x_train = train[input_vars]\n",
    "x_test = test[input_vars]\n",
    "x_val = val[input_vars]\n",
    "x_meas = meas[input_vars]\n",
    "\n",
    "label_train = x_train.pop('signal_label').astype(float)\n",
    "label_val = x_val.pop('signal_label').astype(float)\n",
    "label_test = x_test.pop('signal_label').astype(float)\n",
    "label_meas = x_meas.pop('signal_label').astype(float)\n",
    "\n",
    "learning_features = list(x_train.keys())"
   ]
  },
  {
   "cell_type": "code",
   "execution_count": null,
   "metadata": {},
   "outputs": [],
   "source": [
    "depths = [len(learning_features)*2]*5\n",
    "print(depths)\n",
    "model = Dnn_tau(list(x_train.keys()), widths=depths)\n",
    "model.compile(loss='binary_crossentropy', \n",
    "                  optimizer='adam', \n",
    "                  metrics=['MSE', 'accuracy'])\n",
    "\n",
    "early_stopping = tf.keras.callbacks.EarlyStopping(monitor='accuracy', patience=7)\n",
    "checkpoint = tf.keras.callbacks.ModelCheckpoint(\n",
    "    filepath=\"./saved_models/checkpoint\",\n",
    "    monitor = \"val_loss\",\n",
    "    save_best_only = True\n",
    ")\n",
    "history = model.fit(x_train, label_train, sample_weight=train['genWeight'], validation_data=(x_val, label_val), epochs=100000, verbose=1, \n",
    "                    batch_size = 400, callbacks=[early_stopping, checkpoint])\n",
    "model = tf.keras.models.load_model('./saved_models/checkpoint')\n",
    "model.save('./saved_models/TEST9_global_v2')\n",
    "# Save history\n",
    "filename = \"./saved_history/TEST9_global_vs.pkl\"\n",
    "with open(filename, \"wb\") as file:\n",
    "    pickle.dump(history.history, file)"
   ]
  },
  {
   "cell_type": "code",
   "execution_count": null,
   "metadata": {},
   "outputs": [],
   "source": [
    "model = tf.keras.models.load_model('./saved_models/TEST9_global_v2')"
   ]
  },
  {
   "cell_type": "code",
   "execution_count": null,
   "metadata": {},
   "outputs": [],
   "source": [
    "print(model.metrics_names)"
   ]
  },
  {
   "cell_type": "code",
   "execution_count": null,
   "metadata": {},
   "outputs": [],
   "source": [
    "delta_loss_perm = []\n",
    "loss_no_shuffle = fi_perm(model, test, input_vars, [])\n",
    "for key in learning_features:\n",
    "    loss_shuffle = fi_perm(model, test, input_vars, key)\n",
    "    delta_loss_perm.append(loss_shuffle-loss_no_shuffle)\n",
    "delta_loss_perm = dict(zip(learning_features, delta_loss_perm))\n",
    "print(delta_loss_perm)"
   ]
  },
  {
   "cell_type": "code",
   "execution_count": null,
   "metadata": {},
   "outputs": [],
   "source": [
    "filename = \"./saved_results/TEST9_global_v1_loss_shuffle.pkl\"\n",
    "with open(filename, \"wb\") as file:\n",
    "    pickle.dump(delta_loss_perm, file)"
   ]
  },
  {
   "cell_type": "code",
   "execution_count": null,
   "metadata": {},
   "outputs": [],
   "source": [
    "filename = \"./saved_results/TEST9_global_v1_loss_shuffle.pkl\"\n",
    "with open(filename, \"rb\") as f:\n",
    "    delta_loss_perm = pickle.load(f)"
   ]
  },
  {
   "cell_type": "code",
   "execution_count": null,
   "metadata": {},
   "outputs": [],
   "source": [
    "for key in delta_loss_perm:\n",
    "    print(key, \"  \\t: {:.5f}\".format(delta_loss_perm[key]))"
   ]
  },
  {
   "cell_type": "code",
   "execution_count": null,
   "metadata": {},
   "outputs": [],
   "source": [
    "from TP4b.metrics import fi_mutual_info\n",
    "mis = fi_mutual_info(model, test, input_vars)"
   ]
  },
  {
   "attachments": {},
   "cell_type": "markdown",
   "metadata": {},
   "source": [
    "# Test of poisson significance estimator with one variable"
   ]
  },
  {
   "cell_type": "code",
   "execution_count": 1,
   "metadata": {},
   "outputs": [],
   "source": [
    "from metrics import poisson_significance\n",
    "import pandas as pd\n",
    "from utils import plot_hist\n",
    "import matplotlib.pyplot as plt\n",
    "import numpy as np"
   ]
  },
  {
   "cell_type": "code",
   "execution_count": 2,
   "metadata": {},
   "outputs": [
    {
     "name": "stderr",
     "output_type": "stream",
     "text": [
      "100%|██████████| 200/200 [00:03<00:00, 50.19it/s]\n"
     ]
    }
   ],
   "source": [
    "df = pd.read_pickle('extracted_data/TEST9_global_v4_all_normalized')\n",
    "scores = df['HNL_CM_mass_1']\n",
    "signal_label = df['signal_label']\n",
    "weights = df['genWeight']\n",
    "bins = np.linspace(0,400,200)\n",
    "\n",
    "sig, bins = poisson_significance(scores, signal_label, weights, bins)"
   ]
  },
  {
   "cell_type": "code",
   "execution_count": 3,
   "metadata": {},
   "outputs": [],
   "source": [
    "thresh = bins[np.argmax(sig)]"
   ]
  },
  {
   "cell_type": "code",
   "execution_count": 4,
   "metadata": {},
   "outputs": [
    {
     "name": "stdout",
     "output_type": "stream",
     "text": [
      "200\n",
      "200\n"
     ]
    }
   ],
   "source": [
    "print(len(bins))\n",
    "print(len(sig))"
   ]
  },
  {
   "cell_type": "code",
   "execution_count": 5,
   "metadata": {},
   "outputs": [
    {
     "data": {
      "image/png": "[encoded data removed]",
      "text/plain": [
       "<Figure size 432x288 with 1 Axes>"
      ]
     },
     "metadata": {
      "needs_background": "light"
     },
     "output_type": "display_data"
    }
   ],
   "source": [
    "plt.plot(bins, sig)\n",
    "plt.xlabel('$X_0$')\n",
    "plt.ylabel(r'$\\frac{S_{X_0}}{\\sqrt{B_{X_0}}}$')\n",
    "plt.grid()"
   ]
  },
  {
   "cell_type": "code",
   "execution_count": 6,
   "metadata": {},
   "outputs": [
    {
     "data": {
      "text/plain": [
       "<matplotlib.legend.Legend at 0x7ff98a17de50>"
      ]
     },
     "execution_count": 6,
     "metadata": {},
     "output_type": "execute_result"
    },
    {
     "data": {
      "image/png": "[encoded data removed]",
      "text/plain": [
       "<Figure size 720x432 with 1 Axes>"
      ]
     },
     "metadata": {
      "needs_background": "light"
     },
     "output_type": "display_data"
    }
   ],
   "source": [
    "import numpy as np\n",
    "bins = np.linspace(0,600, 40)\n",
    "fig = plot_hist(df, 'HNL_CM_mass_1', r'$\\tilde{m}_{HNL,1}$', bins, mode='simple_signal_label', return_counts=True)\n",
    "ax = fig[0].axes[0]\n",
    "y_min, y_max = ax.get_ylim()\n",
    "ax.axvline(thresh, color='k', linestyle='--', label='$X_0$')\n",
    "ax.legend()"
   ]
  }
 ],
 "metadata": {
  "kernelspec": {
   "display_name": "Python 3",
   "language": "python",
   "name": "python3"
  },
  "language_info": {
   "codemirror_mode": {
    "name": "ipython",
    "version": 3
   },
   "file_extension": ".py",
   "mimetype": "text/x-python",
   "name": "python",
   "nbconvert_exporter": "python",
   "pygments_lexer": "ipython3",
   "version": "3.8.13"
  },
  "orig_nbformat": 4
 },
 "nbformat": 4,
 "nbformat_minor": 2
}
