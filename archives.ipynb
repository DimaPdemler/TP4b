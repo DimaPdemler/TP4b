{
 "cells": [
  {
   "attachments": {},
   "cell_type": "markdown",
   "metadata": {},
   "source": [
    "# DNN_model.ipynb"
   ]
  },
  {
   "cell_type": "code",
   "execution_count": null,
   "metadata": {},
   "outputs": [],
   "source": [
    "import numpy as np"
   ]
  },
  {
   "cell_type": "code",
   "execution_count": null,
   "metadata": {},
   "outputs": [],
   "source": [
    "def filename_to_index(data):\n",
    "    names = np.unique(np.array(data['event_type']))\n",
    "    indices = np.arange(len(names))\n",
    "    map = dict(zip(names, indices))\n",
    "    \n",
    "    return data, map"
   ]
  },
  {
   "cell_type": "code",
   "execution_count": null,
   "metadata": {},
   "outputs": [],
   "source": [
    "def normalize_weights(data):\n",
    "    N = len(data['event'])\n",
    "    Ns = sum(data['signal_label'])\n",
    "    Nb = N-Ns\n",
    "    sum_wb = sum(data['genWeight'][i] for i in range(N) if data['signal_label'][i] == 0)\n",
    "    sum_ws = sum(data['genWeight'][i] for i in range(N) if data['signal_label'][i] == 1)\n",
    "\n",
    "    #The sum of all weights for both signal and background should be Nb\n",
    "    array_label = np.array(data['signal_label'])\n",
    "    array_weight = np.array(data['genWeight'])\n",
    "    array_weight *= (Nb*(array_label/sum_ws + (1-array_label)/sum_wb))\n",
    "    data['genWeight'] = array_weight.tolist()\n",
    "    return data"
   ]
  },
  {
   "cell_type": "code",
   "execution_count": null,
   "metadata": {},
   "outputs": [],
   "source": [
    "data = normalize_weights(data)\n",
    "print(\"Total background weight : \", sum(data['genWeight'][i] for i in range(N) if data['signal_label'][i] == 0))\n",
    "print(\"Total signal weight : \", sum(data['genWeight'][i] for i in range(N) if data['signal_label'][i] == 1))\n",
    "print(\"Number of background events : \", len(data['event'])-sum(data['signal_label']))"
   ]
  }
 ],
 "metadata": {
  "language_info": {
   "name": "python"
  },
  "orig_nbformat": 4
 },
 "nbformat": 4,
 "nbformat_minor": 2
}
