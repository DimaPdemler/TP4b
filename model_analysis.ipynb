{
 "cells": [
  {
   "attachments": {},
   "cell_type": "markdown",
   "metadata": {},
   "source": [
    "## Compare accuracies"
   ]
  },
  {
   "cell_type": "code",
   "execution_count": 1,
   "metadata": {},
   "outputs": [],
   "source": [
    "import os\n",
    "import fnmatch\n",
    "import pandas as pd\n",
    "import pickle\n",
    "import tensorflow as tf\n",
    "import matplotlib.pyplot as plt\n",
    "from utils import isolate_int, flatten_2D_list\n",
    "from data_extractor import output_vars_v4\n",
    "import numpy as np\n",
    "from copy import deepcopy"
   ]
  },
  {
   "cell_type": "code",
   "execution_count": 2,
   "metadata": {},
   "outputs": [],
   "source": [
    "path = 'saved_models/'\n",
    "model_prefixes = ['TEST9_global_v4_all_channels_depth_', 'TEST9_sel1_depth_']\n",
    "labels = ['All features', 'Selection of features']\n",
    "val = pd.read_pickle('extracted_data/TEST9_global_v4_val')"
   ]
  },
  {
   "cell_type": "code",
   "execution_count": 19,
   "metadata": {},
   "outputs": [],
   "source": [
    "vars_list = []\n",
    "\n",
    "with open('saved_results/features&label_all_v4', 'rb') as file:\n",
    "        vars_all_v4 = pickle.load(file)\n",
    "vars_list.append(vars_all_v4)\n",
    "\n",
    "with open('saved_results/features&label_sel1', 'rb') as file:\n",
    "        vars_sel1 = pickle.load(file)\n",
    "vars_list.append(vars_sel1)"
   ]
  },
  {
   "cell_type": "code",
   "execution_count": 20,
   "metadata": {},
   "outputs": [
    {
     "name": "stdout",
     "output_type": "stream",
     "text": [
      "['mt_1MET', 'HNL_CM_mass_with_MET_1', 'mt_12', 'mass_12', 'pt_2', 'mass_123', 'HNL_CM_mass_2', 'mt_1(3MET)', 'mt_23', 'HNL_CM_mass_1', 'HNL_CM_mass_with_MET_2', 'mt_3MET', 'pt_MET', 'mass_23', 'mt_2(1MET)', 'mt_1(2MET)', 'mt_MET(23)', 'Mt_tot', 'mt_MET(13)', 'mass_hyp', 'pt_123', 'pt_1', 'mt_2MET', 'mt_3(2MET)', 'mt_1(23)', 'mt_2(13)', 'mass_13', 'mt_13', 'channel', 'signal_label']\n"
     ]
    }
   ],
   "source": [
    "print(vars_sel1)"
   ]
  },
  {
   "cell_type": "code",
   "execution_count": 21,
   "metadata": {},
   "outputs": [],
   "source": [
    "model_names_list = []\n",
    "depths_list = []\n",
    "for model_prefix in model_prefixes:\n",
    "    model_names = fnmatch.filter(os.listdir(path), model_prefix+'*')\n",
    "    model_names_list.append(model_names)\n",
    "    depths = []\n",
    "    for name in model_names:\n",
    "        depth = isolate_int(name, separators='_')[0]\n",
    "        depths.append(depth)\n",
    "    depths_list.append(depths)"
   ]
  },
  {
   "cell_type": "code",
   "execution_count": 22,
   "metadata": {},
   "outputs": [],
   "source": [
    "def eval_accuracies(model_names, val, selected_vars):\n",
    "    x_val = val[selected_vars]\n",
    "    label_val = x_val.pop('signal_label').astype(float)\n",
    "    weighted_accs = []\n",
    "    for model_name in model_names:\n",
    "        model = tf.keras.models.load_model(path+model_name)\n",
    "        results = model.evaluate(x_val, label_val, sample_weight=val['genWeight'])\n",
    "        weighted_accs.append(results[-1])\n",
    "    return weighted_accs\n"
   ]
  },
  {
   "cell_type": "code",
   "execution_count": 23,
   "metadata": {},
   "outputs": [
    {
     "name": "stdout",
     "output_type": "stream",
     "text": [
      "6295/6295 [==============================] - 27s 4ms/step - loss: 0.1534 - accuracy: 0.6268 - weighted_accuracy: 0.9472\n",
      "6295/6295 [==============================] - 26s 4ms/step - loss: 0.1449 - accuracy: 0.6651 - weighted_accuracy: 0.9482\n",
      "6295/6295 [==============================] - 29s 5ms/step - loss: 0.1842 - accuracy: 0.6193 - weighted_accuracy: 0.9427\n",
      "6295/6295 [==============================] - 32s 5ms/step - loss: 0.1903 - accuracy: 0.6459 - weighted_accuracy: 0.9408\n",
      "6295/6295 [==============================] - 26s 4ms/step - loss: 1.9130 - accuracy: 0.3188 - weighted_accuracy: 0.2451\n",
      "6295/6295 [==============================] - 23s 4ms/step - loss: 2.8683 - accuracy: 0.2566 - weighted_accuracy: 0.3313\n",
      "6295/6295 [==============================] - 32s 5ms/step - loss: 1.0265 - accuracy: 0.3766 - weighted_accuracy: 0.2698\n",
      "6295/6295 [==============================] - 32s 5ms/step - loss: 1.1888 - accuracy: 0.4178 - weighted_accuracy: 0.2108\n",
      "6295/6295 [==============================] - 27s 4ms/step - loss: 0.9783 - accuracy: 0.1223 - weighted_accuracy: 0.6227\n",
      "6295/6295 [==============================] - 30s 5ms/step - loss: 1.2076 - accuracy: 0.5206 - weighted_accuracy: 0.2214\n",
      "6295/6295 [==============================] - 25s 4ms/step - loss: 1.5799 - accuracy: 0.1913 - weighted_accuracy: 0.4410\n",
      "6295/6295 [==============================] - 28s 4ms/step - loss: 2.5706 - accuracy: 0.2675 - weighted_accuracy: 0.2857\n",
      "6295/6295 [==============================] - 24s 4ms/step - loss: 4.1818 - accuracy: 0.3573 - weighted_accuracy: 0.2039\n",
      "6295/6295 [==============================] - 28s 4ms/step - loss: 1.5414 - accuracy: 0.2920 - weighted_accuracy: 0.2334\n",
      "6295/6295 [==============================] - 24s 4ms/step - loss: 3.0647 - accuracy: 0.4050 - weighted_accuracy: 0.1799\n"
     ]
    }
   ],
   "source": [
    "weighted_accs_list = []\n",
    "for i, model_names in enumerate(model_names_list):\n",
    "    weighted_accs = eval_accuracies(model_names, val, vars_list[i])\n",
    "    weighted_accs_list.append(weighted_accs)"
   ]
  },
  {
   "cell_type": "code",
   "execution_count": 24,
   "metadata": {},
   "outputs": [
    {
     "data": {
      "image/png": "[encoded data removed]",
      "text/plain": [
       "<Figure size 432x288 with 1 Axes>"
      ]
     },
     "metadata": {
      "needs_background": "light"
     },
     "output_type": "display_data"
    }
   ],
   "source": [
    "for i in range(len(depths_list)):\n",
    "    x, y = zip(*sorted(list(zip(depths_list[i], weighted_accs_list[i])), key=lambda x: x[0]))\n",
    "    plt.plot(x, y,label=labels[i])\n",
    "plt.xlabel('$n_{layers}$')\n",
    "plt.ylabel('Weighted accuracy')\n",
    "plt.legend()\n",
    "plt.grid()"
   ]
  },
  {
   "cell_type": "code",
   "execution_count": 25,
   "metadata": {},
   "outputs": [
    {
     "data": {
      "text/plain": [
       "14486"
      ]
     },
     "execution_count": 25,
     "metadata": {},
     "output_type": "execute_result"
    },
    {
     "ename": "",
     "evalue": "",
     "output_type": "error",
     "traceback": [
      "\u001b[1;31mThe Kernel crashed while executing code in the the current cell or a previous cell. Please review the code in the cell(s) to identify a possible cause of the failure. Click <a href='https://aka.ms/vscodeJupyterKernelCrash'>here</a> for more info. View Jupyter <a href='command:jupyter.viewOutput'>log</a> for further details."
     ]
    }
   ],
   "source": [
    "import os \n",
    "os.getpid()"
   ]
  }
 ],
 "metadata": {
  "kernelspec": {
   "display_name": "Python 3",
   "language": "python",
   "name": "python3"
  },
  "language_info": {
   "codemirror_mode": {
    "name": "ipython",
    "version": 3
   },
   "file_extension": ".py",
   "mimetype": "text/x-python",
   "name": "python",
   "nbconvert_exporter": "python",
   "pygments_lexer": "ipython3",
   "version": "3.8.13"
  },
  "orig_nbformat": 4
 },
 "nbformat": 4,
 "nbformat_minor": 2
}
