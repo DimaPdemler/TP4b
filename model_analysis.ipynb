{
 "cells": [
  {
   "attachments": {},
   "cell_type": "markdown",
   "metadata": {},
   "source": [
    "# Compare accuracies"
   ]
  },
  {
   "cell_type": "code",
   "execution_count": 1,
   "metadata": {},
   "outputs": [],
   "source": [
    "import os\n",
    "import fnmatch\n",
    "import pandas as pd\n",
    "import pickle\n",
    "import tensorflow as tf\n",
    "import matplotlib.pyplot as plt\n",
    "from utils import isolate_int, flatten_2D_list\n",
    "from data_extractor import output_vars_v4\n",
    "import numpy as np\n",
    "from copy import deepcopy"
   ]
  },
  {
   "cell_type": "code",
   "execution_count": 2,
   "metadata": {},
   "outputs": [],
   "source": [
    "path = 'saved_models/'\n",
    "model_prefixes = ['TEST9_global_v4_all_channels_depth_', 'TEST9_sel1_depth_']\n",
    "labels = ['All features', 'Selection of features']\n",
    "val = pd.read_pickle('extracted_data/TEST9_global_v4_val')"
   ]
  },
  {
   "cell_type": "code",
   "execution_count": 3,
   "metadata": {},
   "outputs": [],
   "source": [
    "vars_list = []\n",
    "\n",
    "with open('saved_results/features&label_all_v4', 'rb') as file:\n",
    "        vars_all_v4 = pickle.load(file)\n",
    "vars_list.append(vars_all_v4)\n",
    "\n",
    "with open('saved_results/features&label_sel1', 'rb') as file:\n",
    "        vars_sel1 = pickle.load(file)\n",
    "vars_list.append(vars_sel1)"
   ]
  },
  {
   "cell_type": "code",
   "execution_count": 4,
   "metadata": {},
   "outputs": [
    {
     "name": "stdout",
     "output_type": "stream",
     "text": [
      "['mt_1MET', 'HNL_CM_mass_with_MET_1', 'mt_12', 'mass_12', 'pt_2', 'mass_123', 'HNL_CM_mass_2', 'mt_1(3MET)', 'mt_23', 'HNL_CM_mass_1', 'HNL_CM_mass_with_MET_2', 'mt_3MET', 'pt_MET', 'mass_23', 'mt_2(1MET)', 'mt_1(2MET)', 'mt_MET(23)', 'Mt_tot', 'mt_MET(13)', 'mass_hyp', 'pt_123', 'pt_1', 'mt_2MET', 'mt_3(2MET)', 'mt_1(23)', 'mt_2(13)', 'mass_13', 'mt_13', 'channel', 'signal_label']\n"
     ]
    }
   ],
   "source": [
    "print(vars_sel1)"
   ]
  },
  {
   "cell_type": "code",
   "execution_count": 5,
   "metadata": {},
   "outputs": [],
   "source": [
    "model_names_list = []\n",
    "depths_list = []\n",
    "for model_prefix in model_prefixes:\n",
    "    model_names = fnmatch.filter(os.listdir(path), model_prefix+'*')\n",
    "    model_names_list.append(model_names)\n",
    "    depths = []\n",
    "    for name in model_names:\n",
    "        depth = isolate_int(name, separators='_')[0]\n",
    "        depths.append(depth)\n",
    "    depths_list.append(depths)"
   ]
  },
  {
   "cell_type": "code",
   "execution_count": 6,
   "metadata": {},
   "outputs": [],
   "source": [
    "def eval_accuracies(model_names, val, selected_vars):\n",
    "    x_val = val[selected_vars]\n",
    "    label_val = x_val.pop('signal_label').astype(float)\n",
    "    weighted_accs = []\n",
    "    for model_name in model_names:\n",
    "        model = tf.keras.models.load_model(path+model_name)\n",
    "        results = model.evaluate(x_val, label_val, sample_weight=val['genWeight'])\n",
    "        weighted_accs.append(results[-1])\n",
    "    return weighted_accs\n"
   ]
  },
  {
   "cell_type": "code",
   "execution_count": 7,
   "metadata": {},
   "outputs": [
    {
     "name": "stderr",
     "output_type": "stream",
     "text": [
      "2023-05-27 14:46:05.588797: I tensorflow/core/platform/cpu_feature_guard.cc:151] This TensorFlow binary is optimized with oneAPI Deep Neural Network Library (oneDNN) to use the following CPU instructions in performance-critical operations:  AVX2 AVX512F FMA\n",
      "To enable them in other operations, rebuild TensorFlow with the appropriate compiler flags.\n",
      "2023-05-27 14:46:06.557796: I tensorflow/core/common_runtime/gpu/gpu_device.cc:1525] Created device /job:localhost/replica:0/task:0/device:GPU:0 with 6673 MB memory:  -> device: 0, name: Quadro RTX 4000, pci bus id: 0000:17:00.0, compute capability: 7.5\n",
      "2023-05-27 14:46:06.558531: I tensorflow/core/common_runtime/gpu/gpu_device.cc:1525] Created device /job:localhost/replica:0/task:0/device:GPU:1 with 6653 MB memory:  -> device: 1, name: Quadro RTX 4000, pci bus id: 0000:65:00.0, compute capability: 7.5\n"
     ]
    },
    {
     "name": "stdout",
     "output_type": "stream",
     "text": [
      "6295/6295 [==============================] - 25s 4ms/step - loss: 0.1408 - accuracy: 0.6294 - weighted_accuracy: 0.9484\n",
      "6295/6295 [==============================] - 27s 4ms/step - loss: 0.1534 - accuracy: 0.6268 - weighted_accuracy: 0.9472\n",
      "6295/6295 [==============================] - 26s 4ms/step - loss: 0.1449 - accuracy: 0.6651 - weighted_accuracy: 0.9482\n",
      "6295/6295 [==============================] - 25s 4ms/step - loss: 0.1401 - accuracy: 0.6476 - weighted_accuracy: 0.9524\n",
      "6295/6295 [==============================] - 24s 4ms/step - loss: 0.1344 - accuracy: 0.6306 - weighted_accuracy: 0.9521\n",
      "6295/6295 [==============================] - 29s 5ms/step - loss: 0.1842 - accuracy: 0.6193 - weighted_accuracy: 0.9427\n",
      "6295/6295 [==============================] - 32s 5ms/step - loss: 0.1903 - accuracy: 0.6459 - weighted_accuracy: 0.9408\n",
      "6295/6295 [==============================] - 23s 4ms/step - loss: 0.1478 - accuracy: 0.6645 - weighted_accuracy: 0.9468\n",
      "6295/6295 [==============================] - 26s 4ms/step - loss: 0.1466 - accuracy: 0.6566 - weighted_accuracy: 0.9453\n",
      "6295/6295 [==============================] - 23s 4ms/step - loss: 0.1569 - accuracy: 0.6624 - weighted_accuracy: 0.9429\n",
      "6295/6295 [==============================] - 31s 5ms/step - loss: 0.1860 - accuracy: 0.7069 - weighted_accuracy: 0.9305\n",
      "6295/6295 [==============================] - 32s 5ms/step - loss: 0.1928 - accuracy: 0.7241 - weighted_accuracy: 0.9270\n",
      "6295/6295 [==============================] - 27s 4ms/step - loss: 0.1566 - accuracy: 0.6470 - weighted_accuracy: 0.9430\n",
      "6295/6295 [==============================] - 30s 5ms/step - loss: 0.2025 - accuracy: 0.7204 - weighted_accuracy: 0.9262\n",
      "6295/6295 [==============================] - 25s 4ms/step - loss: 0.1460 - accuracy: 0.6537 - weighted_accuracy: 0.9442\n",
      "6295/6295 [==============================] - 27s 4ms/step - loss: 0.1624 - accuracy: 0.6083 - weighted_accuracy: 0.9401\n",
      "6295/6295 [==============================] - 24s 4ms/step - loss: 0.1451 - accuracy: 0.6594 - weighted_accuracy: 0.9455\n",
      "6295/6295 [==============================] - 29s 5ms/step - loss: 0.1848 - accuracy: 0.5888 - weighted_accuracy: 0.9350\n",
      "6295/6295 [==============================] - 24s 4ms/step - loss: 0.1582 - accuracy: 0.6425 - weighted_accuracy: 0.9407\n"
     ]
    }
   ],
   "source": [
    "weighted_accs_list = []\n",
    "for i, model_names in enumerate(model_names_list):\n",
    "    weighted_accs = eval_accuracies(model_names, val, vars_list[i])\n",
    "    weighted_accs_list.append(weighted_accs)"
   ]
  },
  {
   "cell_type": "code",
   "execution_count": 21,
   "metadata": {},
   "outputs": [
    {
     "data": {
      "image/png": "[encoded data removed]",
      "text/plain": [
       "<Figure size 432x288 with 1 Axes>"
      ]
     },
     "metadata": {
      "needs_background": "light"
     },
     "output_type": "display_data"
    }
   ],
   "source": [
    "for i in range(len(depths_list)):\n",
    "    x, y = zip(*sorted(list(zip(depths_list[i], weighted_accs_list[i])), key=lambda x: x[0]))\n",
    "    plt.plot(x, y,label=labels[i])\n",
    "plt.xlabel(r'$\\mathrm{n_{layers}}$')\n",
    "plt.ylabel('Weighted accuracy')\n",
    "plt.legend()\n",
    "plt.grid()"
   ]
  },
  {
   "attachments": {},
   "cell_type": "markdown",
   "metadata": {},
   "source": [
    "# Compare poisson significance estimator"
   ]
  },
  {
   "cell_type": "code",
   "execution_count": 23,
   "metadata": {},
   "outputs": [],
   "source": [
    "from metrics import poisson_significance\n",
    "import pandas as pd\n",
    "from utils import plot_hist, isolate_int\n",
    "import matplotlib.pyplot as plt\n",
    "import numpy as np\n",
    "import pickle\n",
    "import os\n",
    "import fnmatch"
   ]
  },
  {
   "cell_type": "code",
   "execution_count": 21,
   "metadata": {},
   "outputs": [],
   "source": [
    "path = 'saved_models/'\n",
    "model_prefixes = ['TEST9_global_v4_all_channels_depth_', 'TEST9_sel1_depth_']\n",
    "labels = ['All features', 'Selection of features']\n",
    "val = pd.read_pickle('extracted_data/TEST9_global_v4_val')\n",
    "vars_list = []\n",
    "\n",
    "with open('saved_results/features&label_all_v4', 'rb') as file:\n",
    "        vars_all_v4 = pickle.load(file)\n",
    "vars_list.append(vars_all_v4)\n",
    "\n",
    "with open('saved_results/features&label_sel1', 'rb') as file:\n",
    "        vars_sel1 = pickle.load(file)\n",
    "vars_list.append(vars_sel1)"
   ]
  },
  {
   "cell_type": "code",
   "execution_count": 24,
   "metadata": {},
   "outputs": [],
   "source": [
    "model_names_list = []\n",
    "depths_list = []\n",
    "for model_prefix in model_prefixes:\n",
    "    model_names = fnmatch.filter(os.listdir(path), model_prefix+'*')\n",
    "    model_names_list.append(model_names)\n",
    "    depths = []\n",
    "    for name in model_names:\n",
    "        depth = isolate_int(name, separators='_')[0]\n",
    "        depths.append(depth)\n",
    "    depths_list.append(depths)"
   ]
  },
  {
   "cell_type": "code",
   "execution_count": null,
   "metadata": {},
   "outputs": [],
   "source": [
    "for i, model_names in enumerate(model_names_list):\n",
    "    "
   ]
  }
 ],
 "metadata": {
  "kernelspec": {
   "display_name": "Python 3",
   "language": "python",
   "name": "python3"
  },
  "language_info": {
   "codemirror_mode": {
    "name": "ipython",
    "version": 3
   },
   "file_extension": ".py",
   "mimetype": "text/x-python",
   "name": "python",
   "nbconvert_exporter": "python",
   "pygments_lexer": "ipython3",
   "version": "3.8.13"
  },
  "orig_nbformat": 4
 },
 "nbformat": 4,
 "nbformat_minor": 2
}
