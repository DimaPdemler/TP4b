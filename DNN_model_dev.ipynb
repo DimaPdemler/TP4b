{
 "cells": [
  {
   "cell_type": "code",
   "execution_count": 1,
   "metadata": {},
   "outputs": [],
   "source": [
    "import numpy as np\n",
    "import tensorflow as tf\n",
    "import uproot\n",
    "import awkward as ak\n",
    "import vector\n",
    "import numba as nb\n",
    "import os\n",
    "import fnmatch\n",
    "from dnn_tau import Dnn_tau\n",
    "from kinematic import *\n",
    "from utils import isolate_int, normalize\n",
    "import pandas as pd"
   ]
  },
  {
   "cell_type": "code",
   "execution_count": 2,
   "metadata": {},
   "outputs": [
    {
     "name": "stdout",
     "output_type": "stream",
     "text": [
      "DYJetsToLL_0J_anatuple.root\n",
      "DYJetsToLL_1J_anatuple.root\n",
      "DYJetsToLL_2J_anatuple.root\n",
      "DYJetsToLL_LHEFilterPtZ-0To50_anatuple.root\n",
      "DYJetsToLL_LHEFilterPtZ-100To250_anatuple.root\n",
      "DYJetsToLL_LHEFilterPtZ-250To400_anatuple.root\n",
      "DYJetsToLL_LHEFilterPtZ-400To650_anatuple.root\n",
      "DYJetsToLL_LHEFilterPtZ-50To100_anatuple.root\n",
      "DYJetsToLL_LHEFilterPtZ-650ToInf_anatuple.root\n",
      "DYJetsToLL_M-50_anatuple.root\n",
      "EWKWMinus2Jets_WToLNu_M-50_anatuple.root\n",
      "EWKWPlus2Jets_WToLNu_M-50_anatuple.root\n",
      "EWKZ2Jets_ZToLL_M-50_anatuple.root\n",
      "GluGluHToTauTau_anatuple.root\n",
      "HNL_tau_M-1000_anatuple.root\n",
      "HNL_tau_M-100_anatuple.root\n",
      "HNL_tau_M-125_anatuple.root\n",
      "HNL_tau_M-150_anatuple.root\n",
      "HNL_tau_M-200_anatuple.root\n",
      "HNL_tau_M-250_anatuple.root\n",
      "HNL_tau_M-300_anatuple.root\n",
      "HNL_tau_M-350_anatuple.root\n",
      "HNL_tau_M-400_anatuple.root\n",
      "HNL_tau_M-450_anatuple.root\n",
      "HNL_tau_M-500_anatuple.root\n",
      "HNL_tau_M-600_anatuple.root\n",
      "HNL_tau_M-700_anatuple.root\n",
      "HNL_tau_M-800_anatuple.root\n",
      "HNL_tau_M-85_anatuple.root\n",
      "HNL_tau_M-900_anatuple.root\n",
      "SingleMuon_2018_anatuple.root\n",
      "ST_t-channel_antitop_4f_InclusiveDecays_anatuple.root\n",
      "ST_t-channel_top_4f_InclusiveDecays_anatuple.root\n",
      "ST_tW_antitop_5f_inclusiveDecays_anatuple.root\n",
      "ST_tW_top_5f_inclusiveDecays_anatuple.root\n",
      "ttHToTauTau_anatuple.root\n",
      "TTTo2L2Nu_anatuple.root\n",
      "TTToHadronic_anatuple.root\n",
      "TTToSemiLeptonic_anatuple.root\n",
      "TTWJetsToLNu_anatuple.root\n",
      "TTWW_anatuple.root\n",
      "TTWZ_anatuple.root\n",
      "TTZToLLNuNu_M-10_anatuple.root\n",
      "TTZZ_anatuple.root\n",
      "W1JetsToLNu_anatuple.root\n",
      "W2JetsToLNu_anatuple.root\n",
      "W3JetsToLNu_anatuple.root\n",
      "W4JetsToLNu_anatuple.root\n",
      "WJetsToLNu_anatuple.root\n",
      "WJetsToLNu_HT-100To200_anatuple.root\n",
      "WJetsToLNu_HT-1200To2500_anatuple.root\n",
      "WJetsToLNu_HT-200To400_anatuple.root\n",
      "WJetsToLNu_HT-2500ToInf_anatuple.root\n",
      "WJetsToLNu_HT-400To600_anatuple.root\n",
      "WJetsToLNu_HT-600To800_anatuple.root\n",
      "WJetsToLNu_HT-70To100_anatuple.root\n",
      "WJetsToLNu_HT-800To1200_anatuple.root\n",
      "WminusHToTauTau_anatuple.root\n",
      "WplusHToTauTau_anatuple.root\n",
      "WToMuNu_M-200_anatuple.root\n",
      "WToTauNu_M-200_anatuple.root\n",
      "WW_anatuple.root\n",
      "WWW_anatuple.root\n",
      "WWZ_anatuple.root\n",
      "WZ_anatuple.root\n",
      "WZZ_anatuple.root\n",
      "ZHToTauTau_anatuple.root\n",
      "ZZ_anatuple.root\n",
      "ZZZ_anatuple.root\n"
     ]
    }
   ],
   "source": [
    "!ls /data/hnl/prompt_tau/anatuple/nanoV10/TEST6/ttm_DeepTau2p5"
   ]
  },
  {
   "attachments": {},
   "cell_type": "markdown",
   "metadata": {},
   "source": [
    "# Data extraction and preprocessing"
   ]
  },
  {
   "cell_type": "code",
   "execution_count": 3,
   "metadata": {},
   "outputs": [],
   "source": [
    "import os\n",
    "def extract_data(path, signal_prefix, channel, real_data_prefix = ['EGamma', 'SingleMuon', 'Tau'], data = None, file_list = None):\n",
    "    \"\"\"\n",
    "    Arguments :\n",
    "        -path : the path to the root files\n",
    "        -signal_prefix : beginning of names of the files containing the signal (here \"HNL\"). It can be a string or a list of strings\n",
    "        -channel : \"tee\" \"tem\" \"tmm\" \"tte\" or \"ttm\", describing the 3 prompt leptons\n",
    "        -real_data_prefix : beginning of filenames that correspond to real data, and that will be ignored\n",
    "        -data : dictionnary to which the extracted data will be appended (if None, the dictionary will be created)\n",
    "        -file_list : list of root files from which data will be extracted (if None, all root files present in path will be used).\n",
    "    Output : \n",
    "        -data : dictionary containing the event indices, the variables of interest and the label of the event.\n",
    "        \"\"\"\n",
    "    if data == None:\n",
    "        data = {'event':[], 'genWeight':[], 'deltaR_mt1':[], 'deltaR_mt2':[], 'pt_mtt':[], 'mt_tt':[], 'Mt_tot':[], 'channel':[], 'mass_hyp':[], 'event_type':[], 'n_tauh':[], 'signal_label':[]}\n",
    "\n",
    "    if file_list == None:\n",
    "        file_list = fnmatch.filter(os.listdir(path), '*.root')\n",
    "\n",
    "    # Necessary variables from the root files\n",
    "    # variables = ['event', 'genWeight', 'MET_pt', 'MET_phi', 'Muon_eta', 'Muon_mass', 'Muon_phi', 'Muon_pt', 'Tau1_eta', 'Tau1_mass', 'Tau1_phi',\n",
    "    #               'Tau1_pt', 'Tau2_eta', 'Tau2_mass', 'Tau2_phi', 'Tau2_pt', 'Tau1_genPartFlav', 'Tau2_genPartFlav', 'channel']\n",
    "    variables = ['event', 'genWeight', 'MET_pt', 'MET_phi', 'Muon_eta', 'Muon_mass', 'Muon_phi', 'Muon_pt', 'Tau1_eta', 'Tau1_mass', 'Tau1_phi',\n",
    "                  'Tau1_pt', 'Tau2_eta', 'Tau2_mass', 'Tau2_phi', 'Tau2_pt', 'Tau1_genPartFlav', 'Tau2_genPartFlav']\n",
    "    \n",
    "    # Create a list of all considered HNL mass hypothesis\n",
    "    if type(signal_prefix) != list:\n",
    "            signal_prefix = [signal_prefix]\n",
    "\n",
    "    mass_hyp = []\n",
    "    for filename in file_list:\n",
    "        for prefix in signal_prefix:\n",
    "            if filename[:len(prefix)] == prefix:\n",
    "                mass_hyp.append(isolate_int(filename, separators=['-', '_'])[0])\n",
    "    mass_hyp = np.unique(np.array(mass_hyp))\n",
    "\n",
    "    for filename in file_list:\n",
    "        if \"SingleMuon\" in filename:\n",
    "            continue\n",
    "\n",
    "        n_tauh = None\n",
    "        \n",
    "        anatuple = uproot.open(path+filename)['Event;1'].arrays(variables, library=\"np\")\n",
    "           \n",
    "        data['event'].extend(anatuple['event'].tolist())\n",
    "        data['genWeight'].extend(anatuple['genWeight'].tolist())\n",
    "        data['deltaR_mt1'].extend(deltaR(anatuple['Muon_eta'], anatuple['Tau1_eta'], anatuple['Muon_phi'], anatuple['Tau1_phi']).tolist())\n",
    "        data['deltaR_mt2'].extend(deltaR(anatuple['Muon_eta'], anatuple['Tau2_eta'], anatuple['Muon_phi'], anatuple['Tau2_phi']).tolist())\n",
    "        data['pt_mtt'].extend(sum_pt([anatuple['Muon_pt'], anatuple['Tau1_pt'], anatuple['Tau2_pt']], \n",
    "                                     [anatuple['Muon_phi'], anatuple['Tau1_phi'], anatuple['Tau2_phi']],\n",
    "                                     [anatuple['Muon_eta'], anatuple['Tau1_eta'], anatuple['Tau2_eta']],\n",
    "                                     [anatuple['Muon_mass'], anatuple['Tau1_mass'], anatuple['Tau2_mass']]).tolist())\n",
    "        data['mt_tt'].extend(transverse_mass(anatuple['Tau1_pt'], anatuple['Tau2_pt'], anatuple['Tau1_phi'], anatuple['Tau2_phi']).tolist())\n",
    "        data['Mt_tot'].extend(total_transverse_mass(anatuple['Muon_pt'], anatuple['Tau1_pt'], anatuple['Tau2_pt'], anatuple['MET_pt'],\n",
    "                                                    anatuple['Muon_phi'], anatuple['Tau1_phi'], anatuple['Tau2_phi'], anatuple['MET_phi']).tolist())\n",
    "        \n",
    "        data['event_type'].extend(([filename.replace('.root','')]*len(anatuple['event'])))\n",
    "        if np.array(n_tauh == None).any():\n",
    "            data['n_tauh'].extend(((anatuple['Tau1_genPartFlav']==5).astype(int) + (anatuple['Tau2_genPartFlav']==5).astype(int)).tolist())\n",
    "        else:\n",
    "            data['n_tauh'].extend(n_tauh.tolist())\n",
    "        \n",
    "        label = 0\n",
    "        \n",
    "        for prefix in signal_prefix:\n",
    "            if filename[:len(prefix)] == prefix:\n",
    "                label = 1\n",
    "                mass = isolate_int(filename,separators=['-', '_'])[0]\n",
    "        if label == 0:\n",
    "            mass = np.random.choice(mass_hyp, 1)[0]\n",
    "        data['signal_label'].extend([label]*len(anatuple['event']))\n",
    "        data['mass_hyp'].extend([mass]*len(anatuple['event']))\n",
    "        data['channel'].extend([channel]*len(anatuple['event']))\n",
    "\n",
    "    return data"
   ]
  },
  {
   "cell_type": "code",
   "execution_count": 4,
   "metadata": {},
   "outputs": [],
   "source": [
    "path = \"/data/hnl/prompt_tau/anatuple/nanoV10/TEST6/ttm_DeepTau2p5/\"\n",
    "data_old = extract_data(path, channel='ttm', signal_prefix='HNL')"
   ]
  },
  {
   "attachments": {},
   "cell_type": "markdown",
   "metadata": {},
   "source": [
    "### Comparison between extract function and extractor object"
   ]
  },
  {
   "cell_type": "code",
   "execution_count": 5,
   "metadata": {},
   "outputs": [
    {
     "name": "stdout",
     "output_type": "stream",
     "text": [
      "613875\n"
     ]
    }
   ],
   "source": [
    "file_list = fnmatch.filter(os.listdir(path), '*.root')\n",
    "n = 0\n",
    "p = 'SingleMuon'\n",
    "for file in file_list:\n",
    "    anatuple = uproot.open(path+file)['Event;1'].arrays(['event'], library=\"np\")\n",
    "    # print(file, \" : \", len(anatuple['event']))\n",
    "    if file[:len(p)] != p:\n",
    "        n += len(anatuple['event'])\n",
    "print(n)"
   ]
  },
  {
   "cell_type": "code",
   "execution_count": 6,
   "metadata": {},
   "outputs": [],
   "source": [
    "from data_extractor import Data_extractor_v1\n",
    "path = \"/data/hnl/prompt_tau/anatuple/nanoV10/TEST6/ttm_DeepTau2p5/\"\n",
    "extractor = Data_extractor_v1('ttm')\n",
    "data = extractor(path)"
   ]
  },
  {
   "cell_type": "code",
   "execution_count": 7,
   "metadata": {},
   "outputs": [
    {
     "name": "stdout",
     "output_type": "stream",
     "text": [
      "dict_keys(['event', 'genWeight', 'deltaR_12', 'deltaR_13', 'deltaR_23', 'pt_123', 'mt_12', 'mt_13', 'mt_23', 'Mt_tot', 'n_tauh', 'mass_hyp', 'signal_label', 'channel', 'event_type'])\n",
      "613875\n",
      "613875\n",
      "<class 'list'>\n",
      "<class 'numpy.ndarray'>\n",
      "5.789833446177187e-07\n",
      "True\n",
      "[0. 1. 2.]\n"
     ]
    }
   ],
   "source": [
    "import numpy as np\n",
    "# print(data.keys())\n",
    "print(data.keys())\n",
    "print(len(data_old['event']))\n",
    "print(len(data['event']))\n",
    "print(type(data_old['event']))\n",
    "print(type(data['event']))\n",
    "\n",
    "print(max(abs((np.array(data_old['deltaR_mt1'])-data['deltaR_13'])/data['deltaR_13'])))\n",
    "\n",
    "print((data['n_tauh'] == data_old['n_tauh']).all())\n",
    "print(np.unique(data['n_tauh']))"
   ]
  },
  {
   "attachments": {},
   "cell_type": "markdown",
   "metadata": {},
   "source": [
    "### Back to data preprocessing"
   ]
  },
  {
   "cell_type": "code",
   "execution_count": 8,
   "metadata": {},
   "outputs": [
    {
     "name": "stdout",
     "output_type": "stream",
     "text": [
      "event  :  613875\n",
      "genWeight  :  613875\n",
      "deltaR_12  :  613875\n",
      "deltaR_13  :  613875\n",
      "deltaR_23  :  613875\n",
      "pt_123  :  613875\n",
      "mt_12  :  613875\n",
      "mt_13  :  613875\n",
      "mt_23  :  613875\n",
      "Mt_tot  :  613875\n",
      "n_tauh  :  613875\n",
      "mass_hyp  :  613875\n",
      "signal_label  :  613875\n",
      "channel  :  613875\n",
      "event_type  :  613875\n"
     ]
    }
   ],
   "source": [
    "keys = data.keys()\n",
    "for key in keys:\n",
    "    print(key, \" : \", len(data[key]))"
   ]
  },
  {
   "cell_type": "code",
   "execution_count": 9,
   "metadata": {},
   "outputs": [
    {
     "name": "stdout",
     "output_type": "stream",
     "text": [
      "9808.753982757451\n",
      "0.44496843838929084\n"
     ]
    }
   ],
   "source": [
    "N = len(data['event'])\n",
    "print(sum(data['genWeight'][i] for i in range(N) if data['signal_label'][i] == 0))\n",
    "print(sum(data['genWeight'][i] for i in range(N) if data['signal_label'][i] == 1))"
   ]
  },
  {
   "cell_type": "code",
   "execution_count": 10,
   "metadata": {},
   "outputs": [
    {
     "name": "stdout",
     "output_type": "stream",
     "text": [
      "10.091320142794148\n",
      "2.4147184683486284e-08\n"
     ]
    }
   ],
   "source": [
    "print(max(np.abs(data['genWeight'])))\n",
    "print(min(np.abs(data['genWeight'])))"
   ]
  },
  {
   "cell_type": "code",
   "execution_count": 11,
   "metadata": {},
   "outputs": [],
   "source": [
    "from numbers import Number\n",
    "from utils import normalize, split_dataset, bucketize\n"
   ]
  },
  {
   "cell_type": "code",
   "execution_count": 12,
   "metadata": {},
   "outputs": [
    {
     "name": "stdout",
     "output_type": "stream",
     "text": [
      "613875\n"
     ]
    }
   ],
   "source": [
    "print(len(data['signal_label']))"
   ]
  },
  {
   "cell_type": "code",
   "execution_count": 19,
   "metadata": {},
   "outputs": [
    {
     "name": "stdout",
     "output_type": "stream",
     "text": [
      "Total background weight :  534760.0000000029\n",
      "Total signal weight :  534760.0000000112\n",
      "Number of background events :  534760.0\n"
     ]
    }
   ],
   "source": [
    "n_bkg = len(data['event'])-sum([data['signal_label'][i] for i in range(len(data['signal_label']))])\n",
    "data_processed = normalize(pd.DataFrame(data), 'mass_hyp', n_bkg)\n",
    "data_processed = normalize(data_processed, 'signal_label', n_bkg)\n",
    "print(\"Total background weight : \", sum(data_processed['genWeight'][i] for i in range(N) if data['signal_label'][i] == 0))\n",
    "print(\"Total signal weight : \", sum(data_processed['genWeight'][i] for i in range(N) if data['signal_label'][i] == 1))\n",
    "print(\"Number of background events : \", n_bkg)\n",
    "data_processed = normalize(data_processed, 'channel', n_bkg)"
   ]
  },
  {
   "cell_type": "code",
   "execution_count": 20,
   "metadata": {},
   "outputs": [
    {
     "name": "stdout",
     "output_type": "stream",
     "text": [
      "<class 'pandas.core.frame.DataFrame'>\n"
     ]
    }
   ],
   "source": [
    "print(type(data_processed))"
   ]
  },
  {
   "cell_type": "code",
   "execution_count": 21,
   "metadata": {},
   "outputs": [
    {
     "name": "stdout",
     "output_type": "stream",
     "text": [
      "0     0\n",
      "1     0\n",
      "2     0\n",
      "3     0\n",
      "4     0\n",
      "5     0\n",
      "6     0\n",
      "7     0\n",
      "8     0\n",
      "9     0\n",
      "10    0\n",
      "11    0\n",
      "12    0\n",
      "13    0\n",
      "14    0\n",
      "15    0\n",
      "16    0\n",
      "17    0\n",
      "18    0\n",
      "19    0\n",
      "Name: channel, dtype: int64\n"
     ]
    }
   ],
   "source": [
    "data_processed, class_names = bucketize(data_processed, 'channel')\n",
    "print(data_processed['channel'][:20])"
   ]
  },
  {
   "cell_type": "code",
   "execution_count": 22,
   "metadata": {},
   "outputs": [
    {
     "name": "stdout",
     "output_type": "stream",
     "text": [
      "{'ttm': 0}\n"
     ]
    }
   ],
   "source": [
    "print(class_names)"
   ]
  },
  {
   "cell_type": "code",
   "execution_count": 15,
   "metadata": {},
   "outputs": [
    {
     "name": "stdout",
     "output_type": "stream",
     "text": [
      "Total number of events :  613875\n",
      "Train set : 37.55 %\n",
      "Validation set : 12.52 %\n",
      "Test set : 25.02 %\n",
      "Measurement set : 24.91 %\n"
     ]
    }
   ],
   "source": [
    "input_vars = ['deltaR_12', 'deltaR_13', 'deltaR_23', 'pt_123',\n",
    "       'mt_12', 'mt_13', 'mt_23', 'Mt_tot', 'n_tauh', 'signal_label', 'mass_hyp', 'channel']\n",
    "train, val, test, meas = split_dataset(data_processed)\n",
    "x_train = train[input_vars]\n",
    "x_test = test[input_vars]\n",
    "x_val = val[input_vars]\n",
    "x_meas = meas[input_vars]"
   ]
  },
  {
   "cell_type": "code",
   "execution_count": 16,
   "metadata": {},
   "outputs": [],
   "source": [
    "label_train = x_train.pop('signal_label').astype(float)\n",
    "label_val = x_val.pop('signal_label').astype(float)\n",
    "label_test = x_test.pop('signal_label').astype(float)\n",
    "label_meas = x_meas.pop('signal_label').astype(float)"
   ]
  },
  {
   "cell_type": "code",
   "execution_count": 17,
   "metadata": {},
   "outputs": [
    {
     "data": {
      "text/plain": [
       "array([0., 0., 1., ..., 1., 1., 0.])"
      ]
     },
     "execution_count": 17,
     "metadata": {},
     "output_type": "execute_result"
    }
   ],
   "source": [
    "np.array(label_train)"
   ]
  },
  {
   "attachments": {},
   "cell_type": "markdown",
   "metadata": {},
   "source": [
    "# Model definition"
   ]
  },
  {
   "cell_type": "code",
   "execution_count": 18,
   "metadata": {},
   "outputs": [
    {
     "name": "stdout",
     "output_type": "stream",
     "text": [
      "['event', 'genWeight', 'deltaR_12', 'deltaR_13', 'deltaR_23', 'pt_123', 'mt_12', 'mt_13', 'mt_23', 'Mt_tot', 'n_tauh', 'mass_hyp', 'signal_label', 'channel', 'event_type']\n",
      "['deltaR_12', 'deltaR_13', 'deltaR_23', 'pt_123', 'mt_12', 'mt_13', 'mt_23', 'Mt_tot', 'n_tauh', 'mass_hyp', 'signal_label']\n"
     ]
    }
   ],
   "source": [
    "print(list(data.keys()))\n",
    "print(list(data.keys())[2:-2])"
   ]
  },
  {
   "cell_type": "code",
   "execution_count": null,
   "metadata": {},
   "outputs": [],
   "source": []
  },
  {
   "cell_type": "code",
   "execution_count": 19,
   "metadata": {},
   "outputs": [
    {
     "name": "stdout",
     "output_type": "stream",
     "text": [
      "Index(['deltaR_12', 'deltaR_13', 'deltaR_23', 'pt_123', 'mt_12', 'mt_13',\n",
      "       'mt_23', 'Mt_tot', 'n_tauh', 'mass_hyp'],\n",
      "      dtype='object')\n"
     ]
    }
   ],
   "source": [
    "print(x_train.keys())"
   ]
  },
  {
   "cell_type": "code",
   "execution_count": 20,
   "metadata": {},
   "outputs": [
    {
     "name": "stderr",
     "output_type": "stream",
     "text": [
      "2023-04-17 09:19:58.108684: I tensorflow/core/platform/cpu_feature_guard.cc:151] This TensorFlow binary is optimized with oneAPI Deep Neural Network Library (oneDNN) to use the following CPU instructions in performance-critical operations:  AVX2 AVX512F FMA\n",
      "To enable them in other operations, rebuild TensorFlow with the appropriate compiler flags.\n",
      "2023-04-17 09:19:58.987784: I tensorflow/core/common_runtime/gpu/gpu_device.cc:1525] Created device /job:localhost/replica:0/task:0/device:GPU:0 with 6673 MB memory:  -> device: 0, name: Quadro RTX 4000, pci bus id: 0000:17:00.0, compute capability: 7.5\n",
      "2023-04-17 09:19:58.988678: I tensorflow/core/common_runtime/gpu/gpu_device.cc:1525] Created device /job:localhost/replica:0/task:0/device:GPU:1 with 6653 MB memory:  -> device: 1, name: Quadro RTX 4000, pci bus id: 0000:65:00.0, compute capability: 7.5\n"
     ]
    }
   ],
   "source": [
    "model = Dnn_tau(depths=[20, 30, 20, 10])"
   ]
  },
  {
   "cell_type": "code",
   "execution_count": 21,
   "metadata": {},
   "outputs": [
    {
     "name": "stdout",
     "output_type": "stream",
     "text": [
      "Epoch 1/1000000\n"
     ]
    },
    {
     "ename": "AttributeError",
     "evalue": "in user code:\n\n    File \"/home/glardon/TP4b/dnn_tau.py\", line 27, in call  *\n        for key in x.keys():\n\n    AttributeError: 'Tensor' object has no attribute 'keys'\n",
     "output_type": "error",
     "traceback": [
      "\u001b[0;31m---------------------------------------------------------------------------\u001b[0m",
      "\u001b[0;31mAttributeError\u001b[0m                            Traceback (most recent call last)",
      "\u001b[1;32m/home/glardon/TP4b/DNN_model.ipynb Cell 26\u001b[0m in \u001b[0;36m<cell line: 16>\u001b[0;34m()\u001b[0m\n\u001b[1;32m      <a href='vscode-notebook-cell://ssh-remote%2Blphepc119.epfl.ch/home/glardon/TP4b/DNN_model.ipynb#X33sdnNjb2RlLXJlbW90ZQ%3D%3D?line=8'>9</a>\u001b[0m early_stopping \u001b[39m=\u001b[39m tf\u001b[39m.\u001b[39mkeras\u001b[39m.\u001b[39mcallbacks\u001b[39m.\u001b[39mEarlyStopping(monitor\u001b[39m=\u001b[39m\u001b[39m'\u001b[39m\u001b[39maccuracy\u001b[39m\u001b[39m'\u001b[39m, patience\u001b[39m=\u001b[39m\u001b[39m7\u001b[39m)\n\u001b[1;32m     <a href='vscode-notebook-cell://ssh-remote%2Blphepc119.epfl.ch/home/glardon/TP4b/DNN_model.ipynb#X33sdnNjb2RlLXJlbW90ZQ%3D%3D?line=9'>10</a>\u001b[0m checkpoint \u001b[39m=\u001b[39m tf\u001b[39m.\u001b[39mkeras\u001b[39m.\u001b[39mcallbacks\u001b[39m.\u001b[39mModelCheckpoint(\n\u001b[1;32m     <a href='vscode-notebook-cell://ssh-remote%2Blphepc119.epfl.ch/home/glardon/TP4b/DNN_model.ipynb#X33sdnNjb2RlLXJlbW90ZQ%3D%3D?line=10'>11</a>\u001b[0m     filepath\u001b[39m=\u001b[39m\u001b[39m\"\u001b[39m\u001b[39m./saved_models/checkpoint\u001b[39m\u001b[39m\"\u001b[39m,\n\u001b[1;32m     <a href='vscode-notebook-cell://ssh-remote%2Blphepc119.epfl.ch/home/glardon/TP4b/DNN_model.ipynb#X33sdnNjb2RlLXJlbW90ZQ%3D%3D?line=11'>12</a>\u001b[0m     monitor \u001b[39m=\u001b[39m \u001b[39m\"\u001b[39m\u001b[39mval_loss\u001b[39m\u001b[39m\"\u001b[39m,\n\u001b[1;32m     <a href='vscode-notebook-cell://ssh-remote%2Blphepc119.epfl.ch/home/glardon/TP4b/DNN_model.ipynb#X33sdnNjb2RlLXJlbW90ZQ%3D%3D?line=12'>13</a>\u001b[0m     save_best_only \u001b[39m=\u001b[39m \u001b[39mTrue\u001b[39;00m\n\u001b[1;32m     <a href='vscode-notebook-cell://ssh-remote%2Blphepc119.epfl.ch/home/glardon/TP4b/DNN_model.ipynb#X33sdnNjb2RlLXJlbW90ZQ%3D%3D?line=13'>14</a>\u001b[0m )\n\u001b[0;32m---> <a href='vscode-notebook-cell://ssh-remote%2Blphepc119.epfl.ch/home/glardon/TP4b/DNN_model.ipynb#X33sdnNjb2RlLXJlbW90ZQ%3D%3D?line=15'>16</a>\u001b[0m history \u001b[39m=\u001b[39m model\u001b[39m.\u001b[39;49mfit(x_train, label_train, sample_weight\u001b[39m=\u001b[39;49mtrain[\u001b[39m'\u001b[39;49m\u001b[39mgenWeight\u001b[39;49m\u001b[39m'\u001b[39;49m], validation_data\u001b[39m=\u001b[39;49m(x_val, label_val), epochs\u001b[39m=\u001b[39;49m\u001b[39m1000000\u001b[39;49m, verbose\u001b[39m=\u001b[39;49m\u001b[39m1\u001b[39;49m, \n\u001b[1;32m     <a href='vscode-notebook-cell://ssh-remote%2Blphepc119.epfl.ch/home/glardon/TP4b/DNN_model.ipynb#X33sdnNjb2RlLXJlbW90ZQ%3D%3D?line=16'>17</a>\u001b[0m                     batch_size \u001b[39m=\u001b[39;49m \u001b[39m400\u001b[39;49m, callbacks\u001b[39m=\u001b[39;49m[early_stopping, checkpoint])\n\u001b[1;32m     <a href='vscode-notebook-cell://ssh-remote%2Blphepc119.epfl.ch/home/glardon/TP4b/DNN_model.ipynb#X33sdnNjb2RlLXJlbW90ZQ%3D%3D?line=17'>18</a>\u001b[0m model \u001b[39m=\u001b[39m tf\u001b[39m.\u001b[39mkeras\u001b[39m.\u001b[39mmodels\u001b[39m.\u001b[39mload_model(\u001b[39m\"\u001b[39m\u001b[39m./saved_models/checkpoint\u001b[39m\u001b[39m\"\u001b[39m)\n",
      "File \u001b[0;32m/usr/local/miniconda3/envs/tau-ml/lib/python3.8/site-packages/tensorflow/python/keras/engine/training.py:1189\u001b[0m, in \u001b[0;36mModel.fit\u001b[0;34m(self, x, y, batch_size, epochs, verbose, callbacks, validation_split, validation_data, shuffle, class_weight, sample_weight, initial_epoch, steps_per_epoch, validation_steps, validation_batch_size, validation_freq, max_queue_size, workers, use_multiprocessing)\u001b[0m\n\u001b[1;32m   1182\u001b[0m \u001b[39mwith\u001b[39;00m trace\u001b[39m.\u001b[39mTrace(\n\u001b[1;32m   1183\u001b[0m     \u001b[39m'\u001b[39m\u001b[39mtrain\u001b[39m\u001b[39m'\u001b[39m,\n\u001b[1;32m   1184\u001b[0m     epoch_num\u001b[39m=\u001b[39mepoch,\n\u001b[1;32m   1185\u001b[0m     step_num\u001b[39m=\u001b[39mstep,\n\u001b[1;32m   1186\u001b[0m     batch_size\u001b[39m=\u001b[39mbatch_size,\n\u001b[1;32m   1187\u001b[0m     _r\u001b[39m=\u001b[39m\u001b[39m1\u001b[39m):\n\u001b[1;32m   1188\u001b[0m   callbacks\u001b[39m.\u001b[39mon_train_batch_begin(step)\n\u001b[0;32m-> 1189\u001b[0m   tmp_logs \u001b[39m=\u001b[39m \u001b[39mself\u001b[39;49m\u001b[39m.\u001b[39;49mtrain_function(iterator)\n\u001b[1;32m   1190\u001b[0m   \u001b[39mif\u001b[39;00m data_handler\u001b[39m.\u001b[39mshould_sync:\n\u001b[1;32m   1191\u001b[0m     context\u001b[39m.\u001b[39masync_wait()\n",
      "File \u001b[0;32m/usr/local/miniconda3/envs/tau-ml/lib/python3.8/site-packages/tensorflow/python/util/traceback_utils.py:153\u001b[0m, in \u001b[0;36mfilter_traceback.<locals>.error_handler\u001b[0;34m(*args, **kwargs)\u001b[0m\n\u001b[1;32m    151\u001b[0m \u001b[39mexcept\u001b[39;00m \u001b[39mException\u001b[39;00m \u001b[39mas\u001b[39;00m e:\n\u001b[1;32m    152\u001b[0m   filtered_tb \u001b[39m=\u001b[39m _process_traceback_frames(e\u001b[39m.\u001b[39m__traceback__)\n\u001b[0;32m--> 153\u001b[0m   \u001b[39mraise\u001b[39;00m e\u001b[39m.\u001b[39mwith_traceback(filtered_tb) \u001b[39mfrom\u001b[39;00m \u001b[39mNone\u001b[39m\n\u001b[1;32m    154\u001b[0m \u001b[39mfinally\u001b[39;00m:\n\u001b[1;32m    155\u001b[0m   \u001b[39mdel\u001b[39;00m filtered_tb\n",
      "File \u001b[0;32m/usr/local/miniconda3/envs/tau-ml/lib/python3.8/site-packages/tensorflow/python/framework/func_graph.py:1147\u001b[0m, in \u001b[0;36mfunc_graph_from_py_func.<locals>.autograph_handler\u001b[0;34m(*args, **kwargs)\u001b[0m\n\u001b[1;32m   1145\u001b[0m \u001b[39mexcept\u001b[39;00m \u001b[39mException\u001b[39;00m \u001b[39mas\u001b[39;00m e:  \u001b[39m# pylint:disable=broad-except\u001b[39;00m\n\u001b[1;32m   1146\u001b[0m   \u001b[39mif\u001b[39;00m \u001b[39mhasattr\u001b[39m(e, \u001b[39m\"\u001b[39m\u001b[39mag_error_metadata\u001b[39m\u001b[39m\"\u001b[39m):\n\u001b[0;32m-> 1147\u001b[0m     \u001b[39mraise\u001b[39;00m e\u001b[39m.\u001b[39mag_error_metadata\u001b[39m.\u001b[39mto_exception(e)\n\u001b[1;32m   1148\u001b[0m   \u001b[39melse\u001b[39;00m:\n\u001b[1;32m   1149\u001b[0m     \u001b[39mraise\u001b[39;00m\n",
      "\u001b[0;31mAttributeError\u001b[0m: in user code:\n\n    File \"/home/glardon/TP4b/dnn_tau.py\", line 27, in call  *\n        for key in x.keys():\n\n    AttributeError: 'Tensor' object has no attribute 'keys'\n"
     ]
    }
   ],
   "source": [
    "# model = create_model(feature_layer)\n",
    "# history = model.fit(feature_layer(dict(train)), label_train, validation_data=(val, label_val), epochs=200, verbose=1)\n",
    "# _, train_acc = model.evaluate(feature_layer(dict(train)), label_train, verbose=0)\n",
    "# _, test_acc = model.evaluate(feature_layer(dict(test)), label_test, verbose=0)\n",
    "model.compile(loss='binary_crossentropy', \n",
    "                  optimizer='adam', \n",
    "                  metrics=['accuracy'])\n",
    "\n",
    "early_stopping = tf.keras.callbacks.EarlyStopping(monitor='accuracy', patience=7)\n",
    "checkpoint = tf.keras.callbacks.ModelCheckpoint(\n",
    "    filepath=\"./saved_models/checkpoint\",\n",
    "    monitor = \"val_loss\",\n",
    "    save_best_only = True\n",
    ")\n",
    "\n",
    "history = model.fit(x_train, label_train, sample_weight=train['genWeight'], validation_data=(x_val, label_val), epochs=1000000, verbose=1, \n",
    "                    batch_size = 400, callbacks=[early_stopping, checkpoint])\n",
    "model = tf.keras.models.load_model(\"./saved_models/checkpoint\")\n",
    "# history = model.fit(x_train, label_train, validation_data=(x_val, label_val), epochs=1000000, verbose=1, batch_size = 300, callbacks=[callback])\n"
   ]
  },
  {
   "cell_type": "code",
   "execution_count": 41,
   "metadata": {},
   "outputs": [
    {
     "name": "stdout",
     "output_type": "stream",
     "text": [
      "Train: 0.657, Test: 0.659\n",
      "Model: \"dnn_tau_3\"\n",
      "_________________________________________________________________\n",
      " Layer (type)                Output Shape              Param #   \n",
      "=================================================================\n",
      " dense_15 (Dense)            multiple                  220       \n",
      "                                                                 \n",
      " dropout_12 (Dropout)        multiple                  0         \n",
      "                                                                 \n",
      " dense_16 (Dense)            multiple                  630       \n",
      "                                                                 \n",
      " dropout_13 (Dropout)        multiple                  0         \n",
      "                                                                 \n",
      " dense_17 (Dense)            multiple                  620       \n",
      "                                                                 \n",
      " dropout_14 (Dropout)        multiple                  0         \n",
      "                                                                 \n",
      " dense_18 (Dense)            multiple                  210       \n",
      "                                                                 \n",
      " dropout_15 (Dropout)        multiple                  0         \n",
      "                                                                 \n",
      " dense_19 (Dense)            multiple                  11        \n",
      "                                                                 \n",
      "=================================================================\n",
      "Total params: 1,691\n",
      "Trainable params: 1,691\n",
      "Non-trainable params: 0\n",
      "_________________________________________________________________\n"
     ]
    }
   ],
   "source": [
    "_, train_acc = model.evaluate(x_train, label_train, verbose=0)\n",
    "_, test_acc = model.evaluate(x_test, label_test, verbose=0)\n",
    "print('Train: %.3f, Test: %.3f' % (train_acc, test_acc))\n",
    "model.summary()"
   ]
  },
  {
   "cell_type": "code",
   "execution_count": 42,
   "metadata": {},
   "outputs": [
    {
     "name": "stdout",
     "output_type": "stream",
     "text": [
      "{'deltaR_12': 7.3256617, 'deltaR_13': 9.777188, 'deltaR_23': 9.543665, 'pt_123': 2.6818252, 'mt_12': 2.4419348, 'mt_13': 2.2846482, 'mt_23': 3.033737, 'Mt_tot': 3.192399, 'n_tauh': 38.76871, 'signal_label': 3.2963011}\n"
     ]
    }
   ],
   "source": [
    "weights, biases = model.layers[0].get_weights()\n",
    "print(dict(zip(input_vars, np.sum(np.abs(weights),axis=1))))"
   ]
  },
  {
   "cell_type": "code",
   "execution_count": 43,
   "metadata": {},
   "outputs": [],
   "source": [
    "import matplotlib.pyplot as plt\n",
    "import matplotlib as mpl\n",
    "mpl.rcParams.update(mpl.rcParamsDefault)\n",
    "fs = 14\n",
    "plt.rc('font', size=fs)          # controls default text sizes\n",
    "plt.rc('axes', titlesize=fs)     # fontsize of the axes title\n",
    "plt.rc('axes', labelsize=fs)    # fontsize of the x and y labels\n",
    "plt.rc('xtick', labelsize=fs)    # fontsize of the tick labels\n",
    "plt.rc('ytick', labelsize=fs)    # fontsize of the tick labels\n",
    "plt.rc('legend', fontsize=fs)    # legend fontsize\n",
    "plt.rc('figure', titlesize=fs)  # fontsize of the figure title"
   ]
  },
  {
   "cell_type": "code",
   "execution_count": 45,
   "metadata": {},
   "outputs": [
    {
     "data": {
      "image/png": "[encoded data removed]",
      "text/plain": [
       "<Figure size 1000x1000 with 2 Axes>"
      ]
     },
     "metadata": {},
     "output_type": "display_data"
    }
   ],
   "source": [
    "fig,ax = plt.subplots(2,1, figsize=(10,10))\n",
    "ax[0].set_title('Loss')\n",
    "ax[0].plot(history.history['loss'], label='train')\n",
    "ax[0].plot(history.history['val_loss'], label='test')\n",
    "ax[0].legend()\n",
    "ax[0].grid()\n",
    "\n",
    "ax[1].set_title('Accuracy')\n",
    "ax[1].plot(history.history['accuracy'], label='train')\n",
    "ax[1].plot(history.history['val_accuracy'], label='test')\n",
    "ax[1].legend()\n",
    "ax[1].grid()"
   ]
  }
 ],
 "metadata": {
  "kernelspec": {
   "display_name": "Python 3",
   "language": "python",
   "name": "python3"
  },
  "language_info": {
   "codemirror_mode": {
    "name": "ipython",
    "version": 3
   },
   "file_extension": ".py",
   "mimetype": "text/x-python",
   "name": "python",
   "nbconvert_exporter": "python",
   "pygments_lexer": "ipython3",
   "version": "3.8.13"
  },
  "orig_nbformat": 4
 },
 "nbformat": 4,
 "nbformat_minor": 2
}
