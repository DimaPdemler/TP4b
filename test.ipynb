{
 "cells": [
  {
   "cell_type": "code",
   "execution_count": 28,
   "metadata": {},
   "outputs": [],
   "source": [
    "import vector\n",
    "import numpy as np"
   ]
  },
  {
   "cell_type": "code",
   "execution_count": 9,
   "metadata": {},
   "outputs": [],
   "source": [
    "def pt(p):\n",
    "    z = np.array([0,0,1])\n",
    "    return np.linalg.norm(p-np.dot(p,z)*p)\n",
    "\n",
    "def phi(p):\n",
    "    return np.arctan(p[1]/p[0])\n",
    "\n",
    "def theta(p):\n",
    "    return np.arctan(p[2]/pt(p))\n",
    "\n",
    "def eta(p):\n",
    "    return -np.log(np.tan(theta(p)/2))"
   ]
  },
  {
   "cell_type": "code",
   "execution_count": 31,
   "metadata": {},
   "outputs": [],
   "source": [
    "def four_momentum(vector):\n",
    "    p = np.zeros((4,))\n",
    "    p[0] = vector.E\n",
    "    p[1] = vector.pt*np.cos(vector.phi)\n",
    "    p[2] = vector.pt*np.sin(vector.phi)\n",
    "    p[3] = vector.pt*np.sinh(vector.eta)\n",
    "\n",
    "    return p"
   ]
  },
  {
   "cell_type": "code",
   "execution_count": 32,
   "metadata": {},
   "outputs": [],
   "source": [
    "def mass(p):\n",
    "    return np.sqrt(p[0]**2-(p[1]**2+p[2]**2+p[3]**2))"
   ]
  },
  {
   "cell_type": "code",
   "execution_count": 36,
   "metadata": {},
   "outputs": [],
   "source": [
    "p = vector.array({\"pt\" : [2,3],\n",
    "                          \"phi\" : [np.pi/2,0.2],\n",
    "                          \"eta\" : [0,5],\n",
    "                          \"M\" : [10,6]})\n",
    "p1 = p[0]\n",
    "p2 = p[1]\n",
    "ptot = p[0]\n",
    "ptot += p2"
   ]
  },
  {
   "cell_type": "code",
   "execution_count": 43,
   "metadata": {},
   "outputs": [
    {
     "name": "stdout",
     "output_type": "stream",
     "text": [
      "[1.0198039e+01 1.2246468e-16 2.0000000e+00 0.0000000e+00] 10.0\n",
      "[222.71068259   2.94019973   0.59600799 222.60963173] 6.000000000001819\n"
     ]
    }
   ],
   "source": [
    "p1_4 = four_momentum(p1)\n",
    "p2_4 = four_momentum(p2)\n",
    "print(p1_4, mass(p1_4))\n",
    "print(p2_4, mass(p2_4))"
   ]
  },
  {
   "cell_type": "code",
   "execution_count": 42,
   "metadata": {},
   "outputs": [
    {
     "name": "stdout",
     "output_type": "stream",
     "text": [
      "[  2.94019973   2.59600799 222.60963173]\n",
      "pt :  49340.095376673904\n",
      "phi :  0.7233070492481141\n",
      "eta :  6.094224885451682\n",
      "Mass :  68.38157963745243\n"
     ]
    }
   ],
   "source": [
    "ptot_4 = p1_4 + p2_4\n",
    "print(ptot_4[1:])\n",
    "print(\"pt : \", pt(ptot_4[1:]))\n",
    "print(\"phi : \", phi(ptot_4[1:]))\n",
    "print(\"eta : \", eta(ptot_4[1:]))\n",
    "print(\"Mass : \", mass(ptot_4))"
   ]
  },
  {
   "cell_type": "code",
   "execution_count": null,
   "metadata": {},
   "outputs": [],
   "source": [
    "print(ptot)"
   ]
  },
  {
   "cell_type": "code",
   "execution_count": 17,
   "metadata": {},
   "outputs": [
    {
     "name": "stdout",
     "output_type": "stream",
     "text": [
      "{'tmm': 0, 'tee': 1, 'ttm': 2, 'tte': 3}\n",
      "{'tmm': 0, 'tee': 1, 'ttm': 2, 'tte': 3, 'bonsoir': 4}\n",
      "['tmm', 'tee', 'ttm', 'tte', 'bonsoir']\n",
      "[0, 1, 2, 3, 4]\n"
     ]
    }
   ],
   "source": [
    "dictionary = {'tmm' : 0, 'tee' : 1, 'ttm' : 2}\n",
    "dictionary['tte'] = len(dictionary)\n",
    "print(dictionary)\n",
    "dictionary['bonsoir'] = len(dictionary)\n",
    "print(dictionary)\n",
    "print(list(dictionary.keys()))\n",
    "print(list(dictionary.values()))"
   ]
  }
 ],
 "metadata": {
  "kernelspec": {
   "display_name": "Python 3",
   "language": "python",
   "name": "python3"
  },
  "language_info": {
   "codemirror_mode": {
    "name": "ipython",
    "version": 3
   },
   "file_extension": ".py",
   "mimetype": "text/x-python",
   "name": "python",
   "nbconvert_exporter": "python",
   "pygments_lexer": "ipython3",
   "version": "3.8.13"
  },
  "orig_nbformat": 4
 },
 "nbformat": 4,
 "nbformat_minor": 2
}
