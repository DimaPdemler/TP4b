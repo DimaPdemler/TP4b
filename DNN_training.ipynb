{
 "cells": [
  {
   "cell_type": "code",
   "execution_count": 1,
   "metadata": {},
   "outputs": [],
   "source": [
    "import pickle\n",
    "import pandas as pd\n",
    "import numpy as np\n",
    "from copy import deepcopy\n",
    "from train_model import train_model"
   ]
  },
  {
   "cell_type": "code",
   "execution_count": 2,
   "metadata": {},
   "outputs": [
    {
     "name": "stdout",
     "output_type": "stream",
     "text": [
      "Empty DataFrame\n",
      "Columns: [event, weightOriginal, charge_1, charge_2, charge_3, pt_1, pt_2, pt_3, pt_MET, eta_1, eta_2, eta_3, mass_1, mass_2, mass_3, deltaphi_12, deltaphi_13, deltaphi_23, deltaphi_1MET, deltaphi_2MET, deltaphi_3MET, deltaphi_1(23), deltaphi_2(13), deltaphi_3(12), deltaphi_MET(12), deltaphi_MET(13), deltaphi_MET(23), deltaphi_1(2MET), deltaphi_1(3MET), deltaphi_2(1MET), deltaphi_2(3MET), deltaphi_3(1MET), deltaphi_3(2MET), deltaeta_12, deltaeta_13, deltaeta_23, deltaeta_1(23), deltaeta_2(13), deltaeta_3(12), deltaR_12, deltaR_13, deltaR_23, deltaR_1(23), deltaR_2(13), deltaR_3(12), pt_123, mt_12, mt_13, mt_23, mt_1MET, mt_2MET, mt_3MET, mt_1(23), mt_2(13), mt_3(12), mt_MET(12), mt_MET(13), mt_MET(23), mt_1(2MET), mt_1(3MET), mt_2(1MET), mt_2(3MET), mt_3(1MET), mt_3(2MET), mass_12, mass_13, mass_23, mass_123, Mt_tot, HNL_CM_angle_with_MET_1, HNL_CM_angle_with_MET_2, W_CM_angle_to_plane_1, W_CM_angle_to_plane_2, W_CM_angle_to_plane_with_MET_1, W_CM_angle_to_plane_with_MET_2, HNL_CM_mass_1, HNL_CM_mass_2, HNL_CM_mass_with_MET_1, HNL_CM_mass_with_MET_2, W_CM_angle_12, W_CM_angle_13, W_CM_angle_23, W_CM_angle_1MET, W_CM_angle_2MET, W_CM_angle_3MET, n_tauh, signal_label, channel, event_type, mass_hyp, weightNorm]\n",
      "Index: []\n",
      "\n",
      "[0 rows x 91 columns]\n"
     ]
    }
   ],
   "source": [
    "cdpath=\"/home/ddemler/dmitri_stuff/\"\n",
    "\n",
    "train = pd.read_pickle(cdpath + 'extracted_data/TEST10_v4_train')\n",
    "val = pd.read_pickle(cdpath + 'extracted_data/TEST10_v4_val')\n",
    "meas = pd.read_pickle(cdpath + 'extracted_data/TEST10_v4_meas')\n",
    "test = pd.read_pickle(cdpath + 'extracted_data/TEST10_v4_test')\n",
    "\n",
    "print(test[:0])"
   ]
  },
  {
   "cell_type": "code",
   "execution_count": 3,
   "metadata": {},
   "outputs": [],
   "source": [
    "# filename = cdpath + 'saved_results/features_and_label_sel2'\n",
    "filename = cdpath + 'extracted_data/TEST10_channel_indices'\n",
    "model_prefix = 'TEST10_sel2'\n",
    "with open(filename, 'rb') as file:\n",
    "    features = pickle.load(file)"
   ]
  },
  {
   "cell_type": "code",
   "execution_count": 5,
   "metadata": {},
   "outputs": [
    {
     "name": "stdout",
     "output_type": "stream",
     "text": [
      "model defined\n",
      "Epoch 1/2\n",
      "1929/1929 [==============================] - 20s 10ms/step - loss: 0.2460 - accuracy: 0.5637 - weighted_accuracy: 0.9004 - val_loss: 0.1615 - val_accuracy: 0.6652 - val_weighted_accuracy: 0.9423\n",
      "INFO:tensorflow:Assets written to: ./saved_models/checkpoint/assets\n"
     ]
    },
    {
     "name": "stderr",
     "output_type": "stream",
     "text": [
      "INFO:tensorflow:Assets written to: ./saved_models/checkpoint/assets\n"
     ]
    },
    {
     "name": "stdout",
     "output_type": "stream",
     "text": [
      "Epoch 2/2\n",
      "1929/1929 [==============================] - 19s 10ms/step - loss: 0.1547 - accuracy: 0.5947 - weighted_accuracy: 0.9449 - val_loss: 0.1538 - val_accuracy: 0.5813 - val_weighted_accuracy: 0.9431\n",
      "INFO:tensorflow:Assets written to: ./saved_models/checkpoint/assets\n"
     ]
    },
    {
     "name": "stderr",
     "output_type": "stream",
     "text": [
      "INFO:tensorflow:Assets written to: ./saved_models/checkpoint/assets\n",
      "WARNING:absl:Found untraced functions such as dense_92_layer_call_fn, dense_92_layer_call_and_return_conditional_losses, embedding_10_layer_call_fn, embedding_10_layer_call_and_return_conditional_losses, dense_83_layer_call_fn while saving (showing 5 of 40). These functions will not be directly callable after loading.\n"
     ]
    },
    {
     "name": "stdout",
     "output_type": "stream",
     "text": [
      "/home/ddemler/dmitri_stuff/saved_models/TEST10_sel2_depth_9\n",
      "saved_history/TEST10_sel2_depth_9\n",
      "[]\n",
      "INFO:tensorflow:Assets written to: /home/ddemler/dmitri_stuff/saved_models/TEST10_sel2_depth_9saved_history/TEST10_sel2_depth_9_n_0/assets\n"
     ]
    },
    {
     "name": "stderr",
     "output_type": "stream",
     "text": [
      "INFO:tensorflow:Assets written to: /home/ddemler/dmitri_stuff/saved_models/TEST10_sel2_depth_9saved_history/TEST10_sel2_depth_9_n_0/assets\n"
     ]
    }
   ],
   "source": [
    "depths = [1,2,4,5,6,7,9,11,13,15]\n",
    "depths2=[9]\n",
    "# features2=[0,1,2,3,4]\n",
    "# print(features)\n",
    "selection = ['charge_1', 'charge_2', 'charge_3', 'pt_1',\n",
    "       'pt_2', 'pt_3', 'pt_MET', 'eta_1', 'eta_2', 'eta_3', 'mass_1', 'mass_2',\n",
    "       'mass_3', 'deltaphi_12', 'deltaphi_13', 'deltaphi_23', 'deltaphi_1MET',\n",
    "       'deltaphi_2MET', 'deltaphi_3MET', 'deltaphi_1(23)', 'deltaphi_2(13)',\n",
    "       'deltaphi_3(12)', 'deltaphi_MET(12)', 'deltaphi_MET(13)',\n",
    "       'deltaphi_MET(23)', 'deltaphi_1(2MET)', 'deltaphi_1(3MET)',\n",
    "       'deltaphi_2(1MET)', 'deltaphi_2(3MET)', 'deltaphi_3(1MET)',\n",
    "       'deltaphi_3(2MET)', 'deltaeta_12', 'deltaeta_13', 'deltaeta_23',\n",
    "       'deltaeta_1(23)', 'deltaeta_2(13)', 'deltaeta_3(12)', 'deltaR_12',\n",
    "       'deltaR_13', 'deltaR_23', 'deltaR_1(23)', 'deltaR_2(13)',\n",
    "       'deltaR_3(12)', 'pt_123', 'mt_12', 'mt_13', 'mt_23', 'mt_1MET',\n",
    "       'mt_2MET', 'mt_3MET', 'mt_1(23)', 'mt_2(13)', 'mt_3(12)', 'mt_MET(12)',\n",
    "       'mt_MET(13)', 'mt_MET(23)', 'mt_1(2MET)', 'mt_1(3MET)', 'mt_2(1MET)',\n",
    "       'mt_2(3MET)', 'mt_3(1MET)', 'mt_3(2MET)', 'mass_12', 'mass_13',\n",
    "       'mass_23', 'mass_123', 'Mt_tot', 'HNL_CM_angle_with_MET_1',\n",
    "       'HNL_CM_angle_with_MET_2', 'W_CM_angle_to_plane_1',\n",
    "       'W_CM_angle_to_plane_2', 'W_CM_angle_to_plane_with_MET_1',\n",
    "       'W_CM_angle_to_plane_with_MET_2', 'HNL_CM_mass_1', 'HNL_CM_mass_2',\n",
    "       'HNL_CM_mass_with_MET_1', 'HNL_CM_mass_with_MET_2', 'W_CM_angle_12',\n",
    "       'W_CM_angle_13', 'W_CM_angle_23', 'W_CM_angle_1MET', 'W_CM_angle_2MET',\n",
    "       'W_CM_angle_3MET', 'mass_hyp', 'signal_label', 'channel']\n",
    "for depth in depths2:\n",
    "    train_model(depth, train, val, selection, cdpath + 'saved_models/'+model_prefix+'_depth_{}'.format(depth), 'saved_history/'+model_prefix+'_depth_{}'.format(depth),epochs=2)\n",
    "    # train_model(depth, train, val, list(features.keys()), 'saved_models/'+model_prefix+'_depth_{}'.format(depth), 'saved_history/'+model_prefix+'_depth_{}'.format(depth))\n"
   ]
  },
  {
   "cell_type": "code",
   "execution_count": null,
   "metadata": {},
   "outputs": [],
   "source": []
  }
 ],
 "metadata": {
  "kernelspec": {
   "display_name": "Python 3",
   "language": "python",
   "name": "python3"
  },
  "language_info": {
   "codemirror_mode": {
    "name": "ipython",
    "version": 3
   },
   "file_extension": ".py",
   "mimetype": "text/x-python",
   "name": "python",
   "nbconvert_exporter": "python",
   "pygments_lexer": "ipython3",
   "version": "3.8.13"
  },
  "orig_nbformat": 4
 },
 "nbformat": 4,
 "nbformat_minor": 2
}
