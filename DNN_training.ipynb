{
 "cells": [
  {
   "cell_type": "code",
   "execution_count": 1,
   "metadata": {},
   "outputs": [],
   "source": [
    "import pickle\n",
    "import pandas as pd\n",
    "import numpy as np\n",
    "from copy import deepcopy\n",
    "from train_model import train_model"
   ]
  },
  {
   "cell_type": "code",
   "execution_count": 2,
   "metadata": {},
   "outputs": [],
   "source": [
    "train = pd.read_pickle('extracted_data/TEST9_global_v4_og_and_norm_weights_train')\n",
    "val = pd.read_pickle('extracted_data/TEST9_global_v4_og_and_norm_weights_val')\n",
    "meas = pd.read_pickle('extracted_data/TEST9_global_v4_og_and_norm_weights_meas')\n",
    "test = pd.read_pickle('extracted_data/TEST9_global_v4_og_and_norm_weights_test')"
   ]
  },
  {
   "cell_type": "code",
   "execution_count": 3,
   "metadata": {},
   "outputs": [],
   "source": [
    "filename = 'saved_results/features_and_label_sel2'\n",
    "model_prefix = 'TEST9_sel2'\n",
    "with open(filename, 'rb') as file:\n",
    "    features = pickle.load(file)"
   ]
  },
  {
   "cell_type": "code",
   "execution_count": null,
   "metadata": {},
   "outputs": [],
   "source": [
    "depths = [1,2,4,5,6,7,9,11,13,15]\n",
    "\n",
    "for depth in depths:\n",
    "    train_model(depth, train, val, features, 'saved_models/'+model_prefix+'_depth_{}'.format(depth), 'saved_history/'+model_prefix+'_depth_{}'.format(depth))\n",
    "    "
   ]
  }
 ],
 "metadata": {
  "kernelspec": {
   "display_name": "Python 3",
   "language": "python",
   "name": "python3"
  },
  "language_info": {
   "codemirror_mode": {
    "name": "ipython",
    "version": 3
   },
   "file_extension": ".py",
   "mimetype": "text/x-python",
   "name": "python",
   "nbconvert_exporter": "python",
   "pygments_lexer": "ipython3",
   "version": "3.8.13"
  },
  "orig_nbformat": 4
 },
 "nbformat": 4,
 "nbformat_minor": 2
}
