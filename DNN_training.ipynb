{
 "cells": [
  {
   "cell_type": "code",
   "execution_count": null,
   "metadata": {},
   "outputs": [],
   "source": [
    "import numpy as np\n",
    "import tensorflow as tf\n",
    "import uproot\n",
    "import awkward as ak\n",
    "import vector\n",
    "import numba as nb\n",
    "import os\n",
    "import fnmatch\n",
    "from dnn_tau import Dnn_tau\n",
    "from kinematic import *\n",
    "from utils import isolate_int, normalize\n",
    "import pandas as pd\n",
    "from numbers import Number\n",
    "from utils import normalize, split_dataset, bucketize"
   ]
  },
  {
   "cell_type": "code",
   "execution_count": null,
   "metadata": {},
   "outputs": [],
   "source": [
    "from data_extractor import Data_extractor_v1\n",
    "path = \"/data/hnl/prompt_tau/anatuple/nanoV10/TEST6/ttm_DeepTau2p5/\"\n",
    "extractor = Data_extractor_v1('ttm')\n",
    "data = extractor(path)"
   ]
  },
  {
   "cell_type": "code",
   "execution_count": null,
   "metadata": {},
   "outputs": [],
   "source": [
    "n_bkg = len(data['event'])-sum([data['signal_label'][i] for i in range(len(data['signal_label']))])\n",
    "data_processed = normalize(pd.DataFrame(data), 'mass_hyp', n_bkg)\n",
    "data_processed = normalize(data_processed, 'signal_label', n_bkg)\n",
    "print(\"Total background weight : \", sum(data_processed['genWeight'][i] for i in range(N) if data['signal_label'][i] == 0))\n",
    "print(\"Total signal weight : \", sum(data_processed['genWeight'][i] for i in range(N) if data['signal_label'][i] == 1))\n",
    "print(\"Number of background events : \", n_bkg)\n",
    "data_processed = normalize(data_processed, 'channel', n_bkg)"
   ]
  },
  {
   "cell_type": "code",
   "execution_count": null,
   "metadata": {},
   "outputs": [],
   "source": [
    "data_processed = bucketize(data_processed, 'channel')\n",
    "print(data_processed['channel'][:20])"
   ]
  }
 ],
 "metadata": {
  "language_info": {
   "name": "python"
  },
  "orig_nbformat": 4
 },
 "nbformat": 4,
 "nbformat_minor": 2
}
