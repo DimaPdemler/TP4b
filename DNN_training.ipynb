{
 "cells": [
  {
   "cell_type": "code",
   "execution_count": 2,
   "metadata": {},
   "outputs": [],
   "source": [
    "import numpy as np\n",
    "import tensorflow as tf\n",
    "import uproot\n",
    "import awkward as ak\n",
    "import vector\n",
    "import numba as nb\n",
    "import os\n",
    "import fnmatch\n",
    "from dnn_tau import Dnn_tau\n",
    "from kinematic import *\n",
    "from utils import isolate_int, normalize\n",
    "import pandas as pd\n",
    "from numbers import Number\n",
    "from utils import normalize, split_dataset, bucketize, plot_hist\n",
    "from data_extractor import Data_extractor_v1\n",
    "import matplotlib.pyplot as plt"
   ]
  },
  {
   "cell_type": "code",
   "execution_count": 3,
   "metadata": {},
   "outputs": [],
   "source": [
    "path = \"/data/hnl/prompt_tau/anatuple/nanoV10/TEST9/ttm/anatuple/\"\n",
    "extractor = Data_extractor_v1('ttm')\n",
    "data = extractor(path)"
   ]
  },
  {
   "cell_type": "code",
   "execution_count": 4,
   "metadata": {},
   "outputs": [
    {
     "name": "stdout",
     "output_type": "stream",
     "text": [
      "Total background weight :  801843.0000000028\n",
      "Total signal weight :  801843.0000000059\n",
      "Number of background events :  801843.0\n",
      "Total number of events :  891987\n"
     ]
    }
   ],
   "source": [
    "N = len(data['event'])\n",
    "n_bkg = N-sum([data['signal_label'][i] for i in range(len(data['signal_label']))])\n",
    "data_norm = normalize(pd.DataFrame(data), 'mass_hyp', n_bkg)\n",
    "data_norm = normalize(data_norm, 'signal_label', n_bkg)\n",
    "print(\"Total background weight : \", sum(data_norm['genWeight'][i] for i in range(N) if data['signal_label'][i] == 0))\n",
    "print(\"Total signal weight : \", sum(data_norm['genWeight'][i] for i in range(N) if data['signal_label'][i] == 1))\n",
    "print(\"Number of background events : \", n_bkg)\n",
    "print(\"Total number of events : \", N)\n",
    "data_norm = normalize(data_norm, 'channel', n_bkg)"
   ]
  },
  {
   "cell_type": "code",
   "execution_count": 5,
   "metadata": {},
   "outputs": [
    {
     "name": "stdout",
     "output_type": "stream",
     "text": [
      "['event', 'genWeight', 'deltaR_12', 'deltaR_13', 'deltaR_23', 'pt_123', 'mt_12', 'mt_13', 'mt_23', 'Mt_tot', 'n_tauh', 'mass_hyp', 'signal_label', 'channel', 'event_type']\n"
     ]
    }
   ],
   "source": [
    "data_processed, channel_indices = bucketize(data_norm, 'channel')\n",
    "print(list(data_processed.keys()))"
   ]
  },
  {
   "cell_type": "code",
   "execution_count": 6,
   "metadata": {},
   "outputs": [],
   "source": [
    "input_vars = ['deltaR_13', 'deltaR_23', 'pt_123', 'mt_12', 'Mt_tot', 'channel', 'mass_hyp', 'signal_label']"
   ]
  },
  {
   "cell_type": "code",
   "execution_count": 63,
   "metadata": {},
   "outputs": [],
   "source": [
    "model = Dnn_tau(input_vars)\n",
    "model.compile(loss='binary_crossentropy', \n",
    "                  optimizer='adam', \n",
    "                  metrics=['accuracy'])\n",
    "\n",
    "early_stopping = tf.keras.callbacks.EarlyStopping(monitor='accuracy', patience=7)\n",
    "checkpoint = tf.keras.callbacks.ModelCheckpoint(\n",
    "    filepath=\"./saved_models/checkpoint\",\n",
    "    monitor = \"val_loss\",\n",
    "    save_best_only = True\n",
    ")"
   ]
  },
  {
   "cell_type": "code",
   "execution_count": 7,
   "metadata": {},
   "outputs": [
    {
     "name": "stdout",
     "output_type": "stream",
     "text": [
      "Total number of events :  891987\n",
      "Train set : 37.58 %\n",
      "Validation set : 12.53 %\n",
      "Test set : 25.00 %\n",
      "Measurement set : 24.90 %\n"
     ]
    }
   ],
   "source": [
    "train, val, test, meas = split_dataset(data_processed)\n",
    "x_train = train[input_vars]\n",
    "x_test = test[input_vars]\n",
    "x_val = val[input_vars]\n",
    "x_meas = meas[input_vars]\n",
    "\n",
    "label_train = x_train.pop('signal_label').astype(float)\n",
    "label_val = x_val.pop('signal_label').astype(float)\n",
    "label_test = x_test.pop('signal_label').astype(float)\n",
    "label_meas = x_meas.pop('signal_label').astype(float)"
   ]
  },
  {
   "cell_type": "code",
   "execution_count": 65,
   "metadata": {},
   "outputs": [
    {
     "name": "stdout",
     "output_type": "stream",
     "text": [
      "Epoch 1/1000000\n",
      "838/838 [==============================] - 6s 6ms/step - loss: 0.7975 - accuracy: 0.4850 - val_loss: 0.7045 - val_accuracy: 0.4961\n",
      "INFO:tensorflow:Assets written to: ./saved_models/checkpoint/assets\n"
     ]
    },
    {
     "name": "stderr",
     "output_type": "stream",
     "text": [
      "INFO:tensorflow:Assets written to: ./saved_models/checkpoint/assets\n"
     ]
    },
    {
     "name": "stdout",
     "output_type": "stream",
     "text": [
      "Epoch 2/1000000\n",
      "838/838 [==============================] - 5s 6ms/step - loss: 0.5074 - accuracy: 0.5292 - val_loss: 0.6728 - val_accuracy: 0.5651\n",
      "INFO:tensorflow:Assets written to: ./saved_models/checkpoint/assets\n"
     ]
    },
    {
     "name": "stderr",
     "output_type": "stream",
     "text": [
      "INFO:tensorflow:Assets written to: ./saved_models/checkpoint/assets\n"
     ]
    },
    {
     "name": "stdout",
     "output_type": "stream",
     "text": [
      "Epoch 3/1000000\n",
      "838/838 [==============================] - 5s 6ms/step - loss: 0.4725 - accuracy: 0.5603 - val_loss: 0.6641 - val_accuracy: 0.5603\n",
      "INFO:tensorflow:Assets written to: ./saved_models/checkpoint/assets\n"
     ]
    },
    {
     "name": "stderr",
     "output_type": "stream",
     "text": [
      "INFO:tensorflow:Assets written to: ./saved_models/checkpoint/assets\n"
     ]
    },
    {
     "name": "stdout",
     "output_type": "stream",
     "text": [
      "Epoch 4/1000000\n",
      "838/838 [==============================] - 5s 6ms/step - loss: 0.4523 - accuracy: 0.5663 - val_loss: 0.6716 - val_accuracy: 0.5712\n",
      "Epoch 5/1000000\n",
      "838/838 [==============================] - 5s 6ms/step - loss: 0.4386 - accuracy: 0.5696 - val_loss: 0.6609 - val_accuracy: 0.5718\n",
      "INFO:tensorflow:Assets written to: ./saved_models/checkpoint/assets\n"
     ]
    },
    {
     "name": "stderr",
     "output_type": "stream",
     "text": [
      "INFO:tensorflow:Assets written to: ./saved_models/checkpoint/assets\n"
     ]
    },
    {
     "name": "stdout",
     "output_type": "stream",
     "text": [
      "Epoch 6/1000000\n",
      "838/838 [==============================] - 5s 6ms/step - loss: 0.4270 - accuracy: 0.5795 - val_loss: 0.6323 - val_accuracy: 0.5886\n",
      "INFO:tensorflow:Assets written to: ./saved_models/checkpoint/assets\n"
     ]
    },
    {
     "name": "stderr",
     "output_type": "stream",
     "text": [
      "INFO:tensorflow:Assets written to: ./saved_models/checkpoint/assets\n"
     ]
    },
    {
     "name": "stdout",
     "output_type": "stream",
     "text": [
      "Epoch 7/1000000\n",
      "838/838 [==============================] - 5s 6ms/step - loss: 0.4099 - accuracy: 0.5971 - val_loss: 0.6496 - val_accuracy: 0.5909\n",
      "Epoch 8/1000000\n",
      "838/838 [==============================] - 5s 6ms/step - loss: 0.4039 - accuracy: 0.6052 - val_loss: 0.6361 - val_accuracy: 0.6068\n",
      "Epoch 9/1000000\n",
      "838/838 [==============================] - 5s 6ms/step - loss: 0.3959 - accuracy: 0.6135 - val_loss: 0.6289 - val_accuracy: 0.6156\n",
      "INFO:tensorflow:Assets written to: ./saved_models/checkpoint/assets\n"
     ]
    },
    {
     "name": "stderr",
     "output_type": "stream",
     "text": [
      "INFO:tensorflow:Assets written to: ./saved_models/checkpoint/assets\n"
     ]
    },
    {
     "name": "stdout",
     "output_type": "stream",
     "text": [
      "Epoch 10/1000000\n",
      "838/838 [==============================] - 5s 6ms/step - loss: 0.3861 - accuracy: 0.6163 - val_loss: 0.6177 - val_accuracy: 0.6220\n",
      "INFO:tensorflow:Assets written to: ./saved_models/checkpoint/assets\n"
     ]
    },
    {
     "name": "stderr",
     "output_type": "stream",
     "text": [
      "INFO:tensorflow:Assets written to: ./saved_models/checkpoint/assets\n"
     ]
    },
    {
     "name": "stdout",
     "output_type": "stream",
     "text": [
      "Epoch 11/1000000\n",
      "838/838 [==============================] - 5s 6ms/step - loss: 0.3813 - accuracy: 0.6334 - val_loss: 0.6071 - val_accuracy: 0.6527\n",
      "INFO:tensorflow:Assets written to: ./saved_models/checkpoint/assets\n"
     ]
    },
    {
     "name": "stderr",
     "output_type": "stream",
     "text": [
      "INFO:tensorflow:Assets written to: ./saved_models/checkpoint/assets\n"
     ]
    },
    {
     "name": "stdout",
     "output_type": "stream",
     "text": [
      "Epoch 12/1000000\n",
      "838/838 [==============================] - 5s 6ms/step - loss: 0.3789 - accuracy: 0.6437 - val_loss: 0.6283 - val_accuracy: 0.6410\n",
      "Epoch 13/1000000\n",
      "838/838 [==============================] - 5s 6ms/step - loss: 0.3796 - accuracy: 0.6447 - val_loss: 0.6123 - val_accuracy: 0.6467\n",
      "Epoch 14/1000000\n",
      "838/838 [==============================] - 5s 6ms/step - loss: 0.3772 - accuracy: 0.6413 - val_loss: 0.5947 - val_accuracy: 0.6531\n",
      "INFO:tensorflow:Assets written to: ./saved_models/checkpoint/assets\n"
     ]
    },
    {
     "name": "stderr",
     "output_type": "stream",
     "text": [
      "INFO:tensorflow:Assets written to: ./saved_models/checkpoint/assets\n"
     ]
    },
    {
     "name": "stdout",
     "output_type": "stream",
     "text": [
      "Epoch 15/1000000\n",
      "838/838 [==============================] - 5s 6ms/step - loss: 0.3769 - accuracy: 0.6517 - val_loss: 0.5957 - val_accuracy: 0.6532\n",
      "Epoch 16/1000000\n",
      "838/838 [==============================] - 5s 6ms/step - loss: 0.3718 - accuracy: 0.6536 - val_loss: 0.6149 - val_accuracy: 0.6619\n",
      "Epoch 17/1000000\n",
      "838/838 [==============================] - 5s 6ms/step - loss: 0.3735 - accuracy: 0.6594 - val_loss: 0.5775 - val_accuracy: 0.6758\n",
      "INFO:tensorflow:Assets written to: ./saved_models/checkpoint/assets\n"
     ]
    },
    {
     "name": "stderr",
     "output_type": "stream",
     "text": [
      "INFO:tensorflow:Assets written to: ./saved_models/checkpoint/assets\n"
     ]
    },
    {
     "name": "stdout",
     "output_type": "stream",
     "text": [
      "Epoch 18/1000000\n",
      "838/838 [==============================] - 5s 6ms/step - loss: 0.3731 - accuracy: 0.6585 - val_loss: 0.6324 - val_accuracy: 0.6534\n",
      "Epoch 19/1000000\n",
      "838/838 [==============================] - 5s 6ms/step - loss: 0.3720 - accuracy: 0.6688 - val_loss: 0.6278 - val_accuracy: 0.6526\n",
      "Epoch 20/1000000\n",
      "838/838 [==============================] - 5s 6ms/step - loss: 0.3720 - accuracy: 0.6679 - val_loss: 0.5892 - val_accuracy: 0.6645\n",
      "Epoch 21/1000000\n",
      "838/838 [==============================] - 5s 6ms/step - loss: 0.3691 - accuracy: 0.6686 - val_loss: 0.6064 - val_accuracy: 0.6586\n",
      "Epoch 22/1000000\n",
      "838/838 [==============================] - 5s 6ms/step - loss: 0.3720 - accuracy: 0.6654 - val_loss: 0.6081 - val_accuracy: 0.6540\n",
      "Epoch 23/1000000\n",
      "838/838 [==============================] - 5s 6ms/step - loss: 0.3695 - accuracy: 0.6610 - val_loss: 0.6185 - val_accuracy: 0.6527\n",
      "Epoch 24/1000000\n",
      "838/838 [==============================] - 5s 6ms/step - loss: 0.3654 - accuracy: 0.6663 - val_loss: 0.6102 - val_accuracy: 0.6663\n",
      "Epoch 25/1000000\n",
      "838/838 [==============================] - 5s 6ms/step - loss: 0.3658 - accuracy: 0.6666 - val_loss: 0.5976 - val_accuracy: 0.6744\n",
      "Epoch 26/1000000\n",
      "838/838 [==============================] - 5s 6ms/step - loss: 0.3656 - accuracy: 0.6703 - val_loss: 0.6177 - val_accuracy: 0.6587\n",
      "Epoch 27/1000000\n",
      "838/838 [==============================] - 5s 6ms/step - loss: 0.3657 - accuracy: 0.6682 - val_loss: 0.5702 - val_accuracy: 0.6800\n",
      "INFO:tensorflow:Assets written to: ./saved_models/checkpoint/assets\n"
     ]
    },
    {
     "name": "stderr",
     "output_type": "stream",
     "text": [
      "INFO:tensorflow:Assets written to: ./saved_models/checkpoint/assets\n"
     ]
    },
    {
     "name": "stdout",
     "output_type": "stream",
     "text": [
      "Epoch 28/1000000\n",
      "838/838 [==============================] - 5s 6ms/step - loss: 0.3649 - accuracy: 0.6683 - val_loss: 0.5611 - val_accuracy: 0.6754\n",
      "INFO:tensorflow:Assets written to: ./saved_models/checkpoint/assets\n"
     ]
    },
    {
     "name": "stderr",
     "output_type": "stream",
     "text": [
      "INFO:tensorflow:Assets written to: ./saved_models/checkpoint/assets\n"
     ]
    },
    {
     "name": "stdout",
     "output_type": "stream",
     "text": [
      "Epoch 29/1000000\n",
      "838/838 [==============================] - 5s 6ms/step - loss: 0.3655 - accuracy: 0.6637 - val_loss: 0.5621 - val_accuracy: 0.6763\n",
      "Epoch 30/1000000\n",
      "838/838 [==============================] - 5s 6ms/step - loss: 0.3637 - accuracy: 0.6656 - val_loss: 0.6125 - val_accuracy: 0.6597\n",
      "Epoch 31/1000000\n",
      "838/838 [==============================] - 5s 6ms/step - loss: 0.3641 - accuracy: 0.6668 - val_loss: 0.5744 - val_accuracy: 0.6780\n",
      "Epoch 32/1000000\n",
      "838/838 [==============================] - 5s 6ms/step - loss: 0.3636 - accuracy: 0.6796 - val_loss: 0.6077 - val_accuracy: 0.6759\n",
      "Epoch 33/1000000\n",
      "838/838 [==============================] - 5s 6ms/step - loss: 0.3644 - accuracy: 0.6686 - val_loss: 0.6098 - val_accuracy: 0.6668\n",
      "Epoch 34/1000000\n",
      "838/838 [==============================] - 5s 6ms/step - loss: 0.3633 - accuracy: 0.6709 - val_loss: 0.6123 - val_accuracy: 0.6587\n",
      "Epoch 35/1000000\n",
      "838/838 [==============================] - 5s 6ms/step - loss: 0.3624 - accuracy: 0.6729 - val_loss: 0.5872 - val_accuracy: 0.6849\n",
      "Epoch 36/1000000\n",
      "838/838 [==============================] - 5s 6ms/step - loss: 0.3635 - accuracy: 0.6774 - val_loss: 0.6726 - val_accuracy: 0.6561\n",
      "Epoch 37/1000000\n",
      "838/838 [==============================] - 5s 6ms/step - loss: 0.3647 - accuracy: 0.6688 - val_loss: 0.5823 - val_accuracy: 0.6621\n",
      "Epoch 38/1000000\n",
      "838/838 [==============================] - 5s 6ms/step - loss: 0.3652 - accuracy: 0.6648 - val_loss: 0.6292 - val_accuracy: 0.6449\n",
      "Epoch 39/1000000\n",
      "838/838 [==============================] - 5s 6ms/step - loss: 0.3621 - accuracy: 0.6522 - val_loss: 0.6015 - val_accuracy: 0.6508\n"
     ]
    }
   ],
   "source": [
    "history = model.fit(x_train, label_train, sample_weight=train['genWeight'], validation_data=(x_val, label_val), epochs=1000000, verbose=1, \n",
    "                    batch_size = 400, callbacks=[early_stopping, checkpoint])"
   ]
  },
  {
   "cell_type": "code",
   "execution_count": 66,
   "metadata": {},
   "outputs": [
    {
     "name": "stdout",
     "output_type": "stream",
     "text": [
      "INFO:tensorflow:Assets written to: ./saved_models/TEST9_with_initial_vars_for_score_hist/assets\n"
     ]
    },
    {
     "name": "stderr",
     "output_type": "stream",
     "text": [
      "INFO:tensorflow:Assets written to: ./saved_models/TEST9_with_initial_vars_for_score_hist/assets\n"
     ]
    }
   ],
   "source": [
    "model.save('./saved_models/TEST9_with_initial_vars_for_score_hist')"
   ]
  },
  {
   "cell_type": "code",
   "execution_count": 8,
   "metadata": {},
   "outputs": [
    {
     "name": "stderr",
     "output_type": "stream",
     "text": [
      "2023-04-24 15:33:06.319284: I tensorflow/core/platform/cpu_feature_guard.cc:151] This TensorFlow binary is optimized with oneAPI Deep Neural Network Library (oneDNN) to use the following CPU instructions in performance-critical operations:  AVX2 AVX512F FMA\n",
      "To enable them in other operations, rebuild TensorFlow with the appropriate compiler flags.\n",
      "2023-04-24 15:33:07.248401: I tensorflow/core/common_runtime/gpu/gpu_device.cc:1525] Created device /job:localhost/replica:0/task:0/device:GPU:0 with 409 MB memory:  -> device: 0, name: Quadro RTX 4000, pci bus id: 0000:17:00.0, compute capability: 7.5\n",
      "2023-04-24 15:33:07.249106: I tensorflow/core/common_runtime/gpu/gpu_device.cc:1525] Created device /job:localhost/replica:0/task:0/device:GPU:1 with 6398 MB memory:  -> device: 1, name: Quadro RTX 4000, pci bus id: 0000:65:00.0, compute capability: 7.5\n"
     ]
    },
    {
     "name": "stdout",
     "output_type": "stream",
     "text": [
      "Train accuracy: 0.645, Test accuracy: 0.643\n",
      "Train loss: 0.532, Test loss: 0.533\n"
     ]
    }
   ],
   "source": [
    "model = tf.keras.models.load_model(\"./saved_models/TEST9_with_initial_vars_for_score_hist\")\n",
    "\n",
    "train_loss, train_acc = model.evaluate(x_train, label_train, verbose=0)\n",
    "test_loss, test_acc = model.evaluate(x_test, label_test, verbose=0)\n",
    "print('Train accuracy: %.3f, Test accuracy: %.3f' % (train_acc, test_acc))\n",
    "print('Train loss: %.3f, Test loss: %.3f' % (train_loss, test_loss))\n"
   ]
  },
  {
   "cell_type": "code",
   "execution_count": 71,
   "metadata": {},
   "outputs": [],
   "source": [
    "scores = model.predict(x_test)\n",
    "output_test = pd.DataFrame({'scores':np.ravel(scores), 'genWeight':test['genWeight'], 'signal_label':label_test})"
   ]
  },
  {
   "cell_type": "code",
   "execution_count": 76,
   "metadata": {},
   "outputs": [],
   "source": [
    "import matplotlib as mpl\n",
    "import matplotlib.pyplot as plt\n",
    "mpl.rcParams.update({\"font.size\": 16, \"font.family\": \"serif\"})\n",
    "colors = plt.rcParams['axes.prop_cycle'].by_key()['color']"
   ]
  },
  {
   "cell_type": "code",
   "execution_count": 81,
   "metadata": {},
   "outputs": [
    {
     "name": "stdout",
     "output_type": "stream",
     "text": [
      "scores\n",
      "0\n",
      "['scores', 'genWeight', 'signal_label']\n",
      "scores\n",
      "0\n",
      "['scores', 'genWeight', 'signal_label']\n"
     ]
    },
    {
     "data": {
      "image/png": "[encoded data removed]",
      "text/plain": [
       "<Figure size 720x432 with 1 Axes>"
      ]
     },
     "metadata": {
      "needs_background": "light"
     },
     "output_type": "display_data"
    }
   ],
   "source": [
    "bins_list = np.linspace(0,1,19)\n",
    "figs, counts = plot_hist(output_test, 'scores', 'DNN score', bins_list, normalize = True, mode='simple_signal_label', return_counts=True)\n",
    "figs[0].savefig(\"Images/TEST9_ttm_score_hist.pdf\")"
   ]
  },
  {
   "cell_type": "code",
   "execution_count": 91,
   "metadata": {},
   "outputs": [
    {
     "name": "stdout",
     "output_type": "stream",
     "text": [
      "Missclassified signal : 5.47%\n",
      "Correctly classified signal : 94.53%\n",
      "Missclassified background : 28.85%\n",
      "Correctly classified background : 71.15%\n"
     ]
    }
   ],
   "source": [
    "bins_center = (bins_list[1:]+bins_list[:-1])/2\n",
    "classed_bkg = (bins_center < 0.5)\n",
    "values_s = counts[0]['signal']['counts']\n",
    "values_b = counts[0]['bkg']['counts']\n",
    "ratio_miss_s = values_s[classed_bkg].sum()/values_s.sum()\n",
    "ratio_well_s = values_s[(1-classed_bkg).astype(bool)].sum()/values_s.sum()\n",
    "ratio_miss_b = values_b[(1-classed_bkg).astype(bool)].sum()/values_b.sum()\n",
    "ratio_well_b = values_b[classed_bkg].sum()/values_b.sum()\n",
    "print(\"Missclassified signal : {:.2f}%\".format(ratio_miss_s*100))\n",
    "print(\"Correctly classified signal : {:.2f}%\".format(ratio_well_s*100))\n",
    "print(\"Missclassified background : {:.2f}%\".format(ratio_miss_b*100))\n",
    "print(\"Correctly classified background : {:.2f}%\".format(ratio_well_b*100))\n"
   ]
  },
  {
   "attachments": {},
   "cell_type": "markdown",
   "metadata": {},
   "source": [
    "## Training with selection of important variables "
   ]
  },
  {
   "cell_type": "code",
   "execution_count": 2,
   "metadata": {},
   "outputs": [],
   "source": [
    "import pickle\n",
    "import pandas as pd\n",
    "import numpy as np\n",
    "from copy import deepcopy\n",
    "from train_model import train_model"
   ]
  },
  {
   "cell_type": "code",
   "execution_count": 2,
   "metadata": {},
   "outputs": [],
   "source": [
    "train = pd.read_pickle('extracted_data/TEST9_global_v4_train')\n",
    "val = pd.read_pickle('extracted_data/TEST9_global_v4_val')\n",
    "meas = pd.read_pickle('extracted_data/TEST9_global_v4_meas')\n",
    "test = pd.read_pickle('extracted_data/TEST9_global_v4_test')"
   ]
  },
  {
   "cell_type": "code",
   "execution_count": 6,
   "metadata": {},
   "outputs": [],
   "source": [
    "filename = \"saved_results/selected_vars_threshold_100\"\n",
    "with open(filename, 'rb') as file:\n",
    "    features = pickle.load(file)\n",
    "\n",
    "features.append('channel')\n",
    "selected_vars = deepcopy(features)\n",
    "selected_vars.append('signal_label')"
   ]
  },
  {
   "cell_type": "code",
   "execution_count": 7,
   "metadata": {},
   "outputs": [
    {
     "name": "stdout",
     "output_type": "stream",
     "text": [
      "['mt_1MET', 'HNL_CM_mass_with_MET_1', 'mt_12', 'mass_12', 'pt_2', 'mass_123', 'HNL_CM_mass_2', 'mt_1(3MET)', 'mt_23', 'HNL_CM_mass_1', 'HNL_CM_mass_with_MET_2', 'mt_3MET', 'pt_MET', 'mass_23', 'mt_2(1MET)', 'mt_1(2MET)', 'mt_MET(23)', 'Mt_tot', 'mt_MET(13)', 'mass_hyp', 'pt_123', 'pt_1', 'mt_2MET', 'mt_3(2MET)', 'mt_1(23)', 'mt_2(13)', 'mass_13', 'mt_13', 'channel', 'signal_label']\n"
     ]
    }
   ],
   "source": [
    "print(selected_vars)"
   ]
  },
  {
   "cell_type": "code",
   "execution_count": 4,
   "metadata": {},
   "outputs": [],
   "source": [
    "with open('saved_results/features&label_sel1', 'wb') as file:\n",
    "    pickle.dump(selected_vars, file)"
   ]
  },
  {
   "cell_type": "code",
   "execution_count": 4,
   "metadata": {},
   "outputs": [
    {
     "name": "stderr",
     "output_type": "stream",
     "text": [
      "2023-05-22 21:52:34.491366: I tensorflow/core/platform/cpu_feature_guard.cc:151] This TensorFlow binary is optimized with oneAPI Deep Neural Network Library (oneDNN) to use the following CPU instructions in performance-critical operations:  AVX2 AVX512F FMA\n",
      "To enable them in other operations, rebuild TensorFlow with the appropriate compiler flags.\n",
      "2023-05-22 21:52:35.458404: I tensorflow/core/common_runtime/gpu/gpu_device.cc:1525] Created device /job:localhost/replica:0/task:0/device:GPU:0 with 6673 MB memory:  -> device: 0, name: Quadro RTX 4000, pci bus id: 0000:17:00.0, compute capability: 7.5\n",
      "2023-05-22 21:52:35.459182: I tensorflow/core/common_runtime/gpu/gpu_device.cc:1525] Created device /job:localhost/replica:0/task:0/device:GPU:1 with 6653 MB memory:  -> device: 1, name: Quadro RTX 4000, pci bus id: 0000:65:00.0, compute capability: 7.5\n"
     ]
    },
    {
     "name": "stdout",
     "output_type": "stream",
     "text": [
      "Epoch 1/100000\n",
      "1727/1727 [==============================] - 11s 6ms/step - loss: 1.7617 - accuracy: 0.5651 - weighted_accuracy: 0.8723 - val_loss: 1.1634 - val_accuracy: 0.5989 - val_weighted_accuracy: 0.8944\n",
      "INFO:tensorflow:Assets written to: ./saved_models/checkpoint/assets\n",
      "Epoch 2/100000\n",
      "   1/1727 [..............................] - ETA: 6s - loss: 0.6631 - accuracy: 0.5657 - weighted_accuracy: 0.9051"
     ]
    },
    {
     "name": "stderr",
     "output_type": "stream",
     "text": [
      "2023-05-22 21:52:47.893559: W tensorflow/python/util/util.cc:368] Sets are not currently considered sequences, but this may change in the future, so consider avoiding using them.\n"
     ]
    },
    {
     "name": "stdout",
     "output_type": "stream",
     "text": [
      "1727/1727 [==============================] - 10s 6ms/step - loss: 0.4270 - accuracy: 0.6025 - weighted_accuracy: 0.8983 - val_loss: 0.2525 - val_accuracy: 0.5604 - val_weighted_accuracy: 0.9053\n",
      "INFO:tensorflow:Assets written to: ./saved_models/checkpoint/assets\n",
      "Epoch 3/100000\n",
      "1727/1727 [==============================] - 10s 6ms/step - loss: 0.2330 - accuracy: 0.6112 - weighted_accuracy: 0.9152 - val_loss: 0.2097 - val_accuracy: 0.6542 - val_weighted_accuracy: 0.9198\n",
      "INFO:tensorflow:Assets written to: ./saved_models/checkpoint/assets\n",
      "Epoch 4/100000\n",
      "1727/1727 [==============================] - 10s 6ms/step - loss: 0.2081 - accuracy: 0.6260 - weighted_accuracy: 0.9238 - val_loss: 0.1983 - val_accuracy: 0.6197 - val_weighted_accuracy: 0.9276\n",
      "INFO:tensorflow:Assets written to: ./saved_models/checkpoint/assets\n",
      "Epoch 5/100000\n",
      "1727/1727 [==============================] - 10s 6ms/step - loss: 0.2010 - accuracy: 0.6261 - weighted_accuracy: 0.9260 - val_loss: 0.1933 - val_accuracy: 0.6103 - val_weighted_accuracy: 0.9271\n",
      "INFO:tensorflow:Assets written to: ./saved_models/checkpoint/assets\n",
      "Epoch 6/100000\n",
      "1727/1727 [==============================] - 10s 6ms/step - loss: 0.1953 - accuracy: 0.6322 - weighted_accuracy: 0.9276 - val_loss: 0.1989 - val_accuracy: 0.6573 - val_weighted_accuracy: 0.9266\n",
      "Epoch 7/100000\n",
      "1727/1727 [==============================] - 10s 6ms/step - loss: 0.1956 - accuracy: 0.6329 - weighted_accuracy: 0.9277 - val_loss: 0.2030 - val_accuracy: 0.6346 - val_weighted_accuracy: 0.9235\n",
      "Epoch 8/100000\n",
      "1727/1727 [==============================] - 10s 6ms/step - loss: 0.1932 - accuracy: 0.6322 - weighted_accuracy: 0.9282 - val_loss: 0.1933 - val_accuracy: 0.6380 - val_weighted_accuracy: 0.9279\n",
      "Epoch 9/100000\n",
      "1727/1727 [==============================] - 10s 6ms/step - loss: 0.1899 - accuracy: 0.6387 - weighted_accuracy: 0.9303 - val_loss: 0.1833 - val_accuracy: 0.6485 - val_weighted_accuracy: 0.9312\n",
      "INFO:tensorflow:Assets written to: ./saved_models/checkpoint/assets\n",
      "Epoch 10/100000\n",
      "1727/1727 [==============================] - 10s 6ms/step - loss: 0.1894 - accuracy: 0.6387 - weighted_accuracy: 0.9300 - val_loss: 0.1859 - val_accuracy: 0.6309 - val_weighted_accuracy: 0.9305\n",
      "Epoch 11/100000\n",
      "1727/1727 [==============================] - 10s 6ms/step - loss: 0.1870 - accuracy: 0.6462 - weighted_accuracy: 0.9310 - val_loss: 0.1857 - val_accuracy: 0.6269 - val_weighted_accuracy: 0.9304\n",
      "Epoch 12/100000\n",
      "1727/1727 [==============================] - 10s 6ms/step - loss: 0.1890 - accuracy: 0.6432 - weighted_accuracy: 0.9311 - val_loss: 0.1848 - val_accuracy: 0.6336 - val_weighted_accuracy: 0.9298\n",
      "Epoch 13/100000\n",
      "1727/1727 [==============================] - 10s 6ms/step - loss: 0.1869 - accuracy: 0.6384 - weighted_accuracy: 0.9306 - val_loss: 0.1948 - val_accuracy: 0.6882 - val_weighted_accuracy: 0.9277\n",
      "Epoch 14/100000\n",
      "1727/1727 [==============================] - 10s 6ms/step - loss: 0.1876 - accuracy: 0.6473 - weighted_accuracy: 0.9305 - val_loss: 0.1915 - val_accuracy: 0.6376 - val_weighted_accuracy: 0.9271\n",
      "Epoch 15/100000\n",
      "1727/1727 [==============================] - 10s 6ms/step - loss: 0.1899 - accuracy: 0.6346 - weighted_accuracy: 0.9289 - val_loss: 0.1861 - val_accuracy: 0.6337 - val_weighted_accuracy: 0.9301\n",
      "Epoch 16/100000\n",
      "1727/1727 [==============================] - 10s 6ms/step - loss: 0.1871 - accuracy: 0.6369 - weighted_accuracy: 0.9304 - val_loss: 0.1817 - val_accuracy: 0.6440 - val_weighted_accuracy: 0.9327\n",
      "INFO:tensorflow:Assets written to: ./saved_models/checkpoint/assets\n",
      "Epoch 17/100000\n",
      "1727/1727 [==============================] - 10s 6ms/step - loss: 0.1853 - accuracy: 0.6424 - weighted_accuracy: 0.9322 - val_loss: 0.1811 - val_accuracy: 0.6654 - val_weighted_accuracy: 0.9344\n",
      "INFO:tensorflow:Assets written to: ./saved_models/checkpoint/assets\n",
      "Epoch 18/100000\n",
      "1727/1727 [==============================] - 10s 6ms/step - loss: 0.1856 - accuracy: 0.6460 - weighted_accuracy: 0.9306 - val_loss: 0.1896 - val_accuracy: 0.6389 - val_weighted_accuracy: 0.9292\n",
      "Epoch 19/100000\n",
      "1727/1727 [==============================] - 10s 6ms/step - loss: 0.1827 - accuracy: 0.6527 - weighted_accuracy: 0.9333 - val_loss: 0.1815 - val_accuracy: 0.6514 - val_weighted_accuracy: 0.9294\n",
      "Epoch 20/100000\n",
      "1727/1727 [==============================] - 10s 6ms/step - loss: 0.1886 - accuracy: 0.6354 - weighted_accuracy: 0.9299 - val_loss: 0.1794 - val_accuracy: 0.6553 - val_weighted_accuracy: 0.9331\n",
      "INFO:tensorflow:Assets written to: ./saved_models/checkpoint/assets\n",
      "Epoch 21/100000\n",
      "1727/1727 [==============================] - 10s 6ms/step - loss: 0.1874 - accuracy: 0.6367 - weighted_accuracy: 0.9300 - val_loss: 0.1872 - val_accuracy: 0.6626 - val_weighted_accuracy: 0.9289\n",
      "Epoch 22/100000\n",
      "1727/1727 [==============================] - 10s 6ms/step - loss: 0.1863 - accuracy: 0.6402 - weighted_accuracy: 0.9306 - val_loss: 0.1815 - val_accuracy: 0.6539 - val_weighted_accuracy: 0.9313\n",
      "Epoch 23/100000\n",
      "1727/1727 [==============================] - 10s 6ms/step - loss: 0.1846 - accuracy: 0.6415 - weighted_accuracy: 0.9320 - val_loss: 0.1829 - val_accuracy: 0.6218 - val_weighted_accuracy: 0.9308\n",
      "Epoch 24/100000\n",
      "1727/1727 [==============================] - 10s 6ms/step - loss: 0.1817 - accuracy: 0.6442 - weighted_accuracy: 0.9341 - val_loss: 0.1853 - val_accuracy: 0.6262 - val_weighted_accuracy: 0.9283\n",
      "Epoch 25/100000\n",
      "1727/1727 [==============================] - 10s 6ms/step - loss: 0.1805 - accuracy: 0.6449 - weighted_accuracy: 0.9351 - val_loss: 0.1874 - val_accuracy: 0.6709 - val_weighted_accuracy: 0.9328\n",
      "Epoch 26/100000\n",
      "1727/1727 [==============================] - 10s 6ms/step - loss: 0.1789 - accuracy: 0.6468 - weighted_accuracy: 0.9351 - val_loss: 0.1847 - val_accuracy: 0.6264 - val_weighted_accuracy: 0.9292\n",
      "Epoch 27/100000\n",
      "1727/1727 [==============================] - 10s 6ms/step - loss: 0.1811 - accuracy: 0.6417 - weighted_accuracy: 0.9329 - val_loss: 0.1825 - val_accuracy: 0.6605 - val_weighted_accuracy: 0.9348\n",
      "Epoch 28/100000\n",
      "1727/1727 [==============================] - 10s 6ms/step - loss: 0.1786 - accuracy: 0.6515 - weighted_accuracy: 0.9343 - val_loss: 0.1793 - val_accuracy: 0.6474 - val_weighted_accuracy: 0.9338\n",
      "INFO:tensorflow:Assets written to: ./saved_models/checkpoint/assets\n",
      "Epoch 29/100000\n",
      "1727/1727 [==============================] - 10s 6ms/step - loss: 0.1799 - accuracy: 0.6464 - weighted_accuracy: 0.9334 - val_loss: 0.1810 - val_accuracy: 0.6167 - val_weighted_accuracy: 0.9286\n"
     ]
    },
    {
     "name": "stderr",
     "output_type": "stream",
     "text": [
      "WARNING:absl:Found untraced functions such as dense_1_layer_call_fn, dense_1_layer_call_and_return_conditional_losses, embedding_layer_call_fn, embedding_layer_call_and_return_conditional_losses, dense_layer_call_fn while saving (showing 5 of 8). These functions will not be directly callable after loading.\n"
     ]
    },
    {
     "name": "stdout",
     "output_type": "stream",
     "text": [
      "INFO:tensorflow:Assets written to: saved_models/TEST9_sel1_depth_1/assets\n"
     ]
    },
    {
     "name": "stderr",
     "output_type": "stream",
     "text": [
      "INFO:tensorflow:Assets written to: saved_models/TEST9_sel1_depth_1/assets\n"
     ]
    }
   ],
   "source": [
    "depths = [1]\n",
    "\n",
    "for depth in depths:\n",
    "    train_model(depth, train, val, selected_vars, 'saved_models/TEST9_sel1_depth_{}'.format(depth), 'saved_history/TEST9_sel1_depth_{}'.format(depth))\n",
    "    "
   ]
  }
 ],
 "metadata": {
  "kernelspec": {
   "display_name": "Python 3",
   "language": "python",
   "name": "python3"
  },
  "language_info": {
   "codemirror_mode": {
    "name": "ipython",
    "version": 3
   },
   "file_extension": ".py",
   "mimetype": "text/x-python",
   "name": "python",
   "nbconvert_exporter": "python",
   "pygments_lexer": "ipython3",
   "version": "3.8.13"
  },
  "orig_nbformat": 4
 },
 "nbformat": 4,
 "nbformat_minor": 2
}
