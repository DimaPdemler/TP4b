{
 "cells": [
  {
   "cell_type": "code",
   "execution_count": 1,
   "metadata": {},
   "outputs": [],
   "source": [
    "import pickle\n",
    "import pandas as pd\n",
    "import numpy as np\n",
    "from copy import deepcopy\n",
    "from train_model import train_model"
   ]
  },
  {
   "cell_type": "code",
   "execution_count": 2,
   "metadata": {},
   "outputs": [],
   "source": [
    "train = pd.read_pickle('extracted_data/TEST9_global_v4_or&norm_weights_train')\n",
    "val = pd.read_pickle('extracted_data/TEST9_global_v4_or&norm_weights_val')\n",
    "meas = pd.read_pickle('extracted_data/TEST9_global_v4_or&norm_weights_meas')\n",
    "test = pd.read_pickle('extracted_data/TEST9_global_v4_or&norm_weights_test')"
   ]
  },
  {
   "cell_type": "code",
   "execution_count": 3,
   "metadata": {},
   "outputs": [],
   "source": [
    "filename = 'saved_results/features&label_all_v4'\n",
    "model_prefix = 'TEST9_global_v4_all_channels'\n",
    "with open(filename, 'rb') as file:\n",
    "    features = pickle.load(file)"
   ]
  },
  {
   "cell_type": "code",
   "execution_count": 4,
   "metadata": {},
   "outputs": [
    {
     "name": "stderr",
     "output_type": "stream",
     "text": [
      "2023-05-28 22:41:11.991081: I tensorflow/core/platform/cpu_feature_guard.cc:151] This TensorFlow binary is optimized with oneAPI Deep Neural Network Library (oneDNN) to use the following CPU instructions in performance-critical operations:  AVX2 AVX512F FMA\n",
      "To enable them in other operations, rebuild TensorFlow with the appropriate compiler flags.\n",
      "2023-05-28 22:41:12.969400: I tensorflow/core/common_runtime/gpu/gpu_device.cc:1525] Created device /job:localhost/replica:0/task:0/device:GPU:0 with 6673 MB memory:  -> device: 0, name: Quadro RTX 4000, pci bus id: 0000:17:00.0, compute capability: 7.5\n",
      "2023-05-28 22:41:12.970151: I tensorflow/core/common_runtime/gpu/gpu_device.cc:1525] Created device /job:localhost/replica:0/task:0/device:GPU:1 with 6653 MB memory:  -> device: 1, name: Quadro RTX 4000, pci bus id: 0000:65:00.0, compute capability: 7.5\n"
     ]
    },
    {
     "name": "stdout",
     "output_type": "stream",
     "text": [
      "model defined\n",
      "Epoch 1/100000\n",
      "1727/1727 [==============================] - 13s 7ms/step - loss: 1.8200 - accuracy: 0.5562 - weighted_accuracy: 0.8714 - val_loss: 1.4737 - val_accuracy: 0.5916 - val_weighted_accuracy: 0.8932\n"
     ]
    },
    {
     "name": "stderr",
     "output_type": "stream",
     "text": [
      "2023-05-28 22:41:27.578422: W tensorflow/python/util/util.cc:368] Sets are not currently considered sequences, but this may change in the future, so consider avoiding using them.\n"
     ]
    },
    {
     "name": "stdout",
     "output_type": "stream",
     "text": [
      "INFO:tensorflow:Assets written to: ./saved_models/checkpoint/assets\n",
      "Epoch 2/100000\n",
      "1727/1727 [==============================] - 11s 7ms/step - loss: 0.5478 - accuracy: 0.5897 - weighted_accuracy: 0.8983 - val_loss: 0.2462 - val_accuracy: 0.6076 - val_weighted_accuracy: 0.9136\n",
      "INFO:tensorflow:Assets written to: ./saved_models/checkpoint/assets\n",
      "Epoch 3/100000\n",
      "1727/1727 [==============================] - 11s 7ms/step - loss: 0.2203 - accuracy: 0.6220 - weighted_accuracy: 0.9202 - val_loss: 0.2678 - val_accuracy: 0.6129 - val_weighted_accuracy: 0.9078\n",
      "Epoch 4/100000\n",
      "1727/1727 [==============================] - 11s 7ms/step - loss: 0.1972 - accuracy: 0.6321 - weighted_accuracy: 0.9275 - val_loss: 0.1989 - val_accuracy: 0.6776 - val_weighted_accuracy: 0.9307\n",
      "INFO:tensorflow:Assets written to: ./saved_models/checkpoint/assets\n",
      "Epoch 5/100000\n",
      "1727/1727 [==============================] - 11s 7ms/step - loss: 0.1835 - accuracy: 0.6374 - weighted_accuracy: 0.9329 - val_loss: 0.1853 - val_accuracy: 0.6087 - val_weighted_accuracy: 0.9322\n",
      "INFO:tensorflow:Assets written to: ./saved_models/checkpoint/assets\n",
      "Epoch 6/100000\n",
      "1727/1727 [==============================] - 11s 7ms/step - loss: 0.1796 - accuracy: 0.6407 - weighted_accuracy: 0.9354 - val_loss: 0.1809 - val_accuracy: 0.6123 - val_weighted_accuracy: 0.9358\n",
      "INFO:tensorflow:Assets written to: ./saved_models/checkpoint/assets\n",
      "Epoch 7/100000\n",
      "1727/1727 [==============================] - 11s 7ms/step - loss: 0.1792 - accuracy: 0.6402 - weighted_accuracy: 0.9346 - val_loss: 0.1735 - val_accuracy: 0.6413 - val_weighted_accuracy: 0.9412\n",
      "INFO:tensorflow:Assets written to: ./saved_models/checkpoint/assets\n",
      "Epoch 8/100000\n",
      "1727/1727 [==============================] - 11s 7ms/step - loss: 0.1746 - accuracy: 0.6388 - weighted_accuracy: 0.9371 - val_loss: 0.2010 - val_accuracy: 0.6993 - val_weighted_accuracy: 0.9298\n",
      "Epoch 9/100000\n",
      "1727/1727 [==============================] - 11s 7ms/step - loss: 0.1728 - accuracy: 0.6447 - weighted_accuracy: 0.9380 - val_loss: 0.1688 - val_accuracy: 0.6540 - val_weighted_accuracy: 0.9416\n",
      "INFO:tensorflow:Assets written to: ./saved_models/checkpoint/assets\n",
      "Epoch 10/100000\n",
      "1727/1727 [==============================] - 11s 7ms/step - loss: 0.1651 - accuracy: 0.6483 - weighted_accuracy: 0.9405 - val_loss: 0.1647 - val_accuracy: 0.6741 - val_weighted_accuracy: 0.9440\n",
      "INFO:tensorflow:Assets written to: ./saved_models/checkpoint/assets\n",
      "Epoch 11/100000\n",
      "1727/1727 [==============================] - 11s 7ms/step - loss: 0.1649 - accuracy: 0.6438 - weighted_accuracy: 0.9401 - val_loss: 0.1765 - val_accuracy: 0.6863 - val_weighted_accuracy: 0.9387\n",
      "Epoch 12/100000\n",
      "1727/1727 [==============================] - 12s 7ms/step - loss: 0.1649 - accuracy: 0.6474 - weighted_accuracy: 0.9405 - val_loss: 0.1694 - val_accuracy: 0.6198 - val_weighted_accuracy: 0.9413\n",
      "Epoch 13/100000\n",
      "1727/1727 [==============================] - 11s 7ms/step - loss: 0.1621 - accuracy: 0.6484 - weighted_accuracy: 0.9416 - val_loss: 0.1640 - val_accuracy: 0.6571 - val_weighted_accuracy: 0.9434\n",
      "INFO:tensorflow:Assets written to: ./saved_models/checkpoint/assets\n",
      "Epoch 14/100000\n",
      "1727/1727 [==============================] - 11s 7ms/step - loss: 0.1613 - accuracy: 0.6476 - weighted_accuracy: 0.9430 - val_loss: 0.1694 - val_accuracy: 0.6741 - val_weighted_accuracy: 0.9453\n",
      "Epoch 15/100000\n",
      "1727/1727 [==============================] - 12s 7ms/step - loss: 0.1618 - accuracy: 0.6438 - weighted_accuracy: 0.9421 - val_loss: 0.1668 - val_accuracy: 0.6214 - val_weighted_accuracy: 0.9405\n",
      "Epoch 16/100000\n",
      "1727/1727 [==============================] - 11s 7ms/step - loss: 0.1603 - accuracy: 0.6470 - weighted_accuracy: 0.9422 - val_loss: 0.1902 - val_accuracy: 0.6435 - val_weighted_accuracy: 0.9324\n",
      "Epoch 17/100000\n",
      "1727/1727 [==============================] - 11s 7ms/step - loss: 0.1612 - accuracy: 0.6466 - weighted_accuracy: 0.9423 - val_loss: 0.1583 - val_accuracy: 0.6095 - val_weighted_accuracy: 0.9451\n",
      "INFO:tensorflow:Assets written to: ./saved_models/checkpoint/assets\n",
      "Epoch 18/100000\n",
      "1727/1727 [==============================] - 11s 7ms/step - loss: 0.1588 - accuracy: 0.6490 - weighted_accuracy: 0.9428 - val_loss: 0.1571 - val_accuracy: 0.6296 - val_weighted_accuracy: 0.9438\n",
      "INFO:tensorflow:Assets written to: ./saved_models/checkpoint/assets\n",
      "Epoch 19/100000\n",
      "1727/1727 [==============================] - 11s 7ms/step - loss: 0.1583 - accuracy: 0.6466 - weighted_accuracy: 0.9429 - val_loss: 0.1696 - val_accuracy: 0.6459 - val_weighted_accuracy: 0.9439\n",
      "Epoch 20/100000\n",
      "1727/1727 [==============================] - 12s 7ms/step - loss: 0.1629 - accuracy: 0.6441 - weighted_accuracy: 0.9415 - val_loss: 0.1646 - val_accuracy: 0.6683 - val_weighted_accuracy: 0.9448\n",
      "Epoch 21/100000\n",
      "1727/1727 [==============================] - 11s 7ms/step - loss: 0.1568 - accuracy: 0.6464 - weighted_accuracy: 0.9436 - val_loss: 0.1704 - val_accuracy: 0.6363 - val_weighted_accuracy: 0.9376\n",
      "Epoch 22/100000\n",
      "1727/1727 [==============================] - 12s 7ms/step - loss: 0.1585 - accuracy: 0.6471 - weighted_accuracy: 0.9433 - val_loss: 0.1553 - val_accuracy: 0.6697 - val_weighted_accuracy: 0.9485\n",
      "INFO:tensorflow:Assets written to: ./saved_models/checkpoint/assets\n",
      "Epoch 23/100000\n",
      "1727/1727 [==============================] - 11s 6ms/step - loss: 0.1532 - accuracy: 0.6520 - weighted_accuracy: 0.9462 - val_loss: 0.1609 - val_accuracy: 0.6521 - val_weighted_accuracy: 0.9458\n",
      "Epoch 24/100000\n",
      "1727/1727 [==============================] - 12s 7ms/step - loss: 0.1557 - accuracy: 0.6437 - weighted_accuracy: 0.9446 - val_loss: 0.1573 - val_accuracy: 0.6220 - val_weighted_accuracy: 0.9454\n",
      "Epoch 25/100000\n",
      "1727/1727 [==============================] - 11s 7ms/step - loss: 0.1557 - accuracy: 0.6459 - weighted_accuracy: 0.9451 - val_loss: 0.1621 - val_accuracy: 0.6039 - val_weighted_accuracy: 0.9382\n",
      "Epoch 26/100000\n",
      "1727/1727 [==============================] - 11s 7ms/step - loss: 0.1533 - accuracy: 0.6482 - weighted_accuracy: 0.9451 - val_loss: 0.1570 - val_accuracy: 0.6262 - val_weighted_accuracy: 0.9455\n",
      "Epoch 27/100000\n",
      "1727/1727 [==============================] - 12s 7ms/step - loss: 0.1518 - accuracy: 0.6461 - weighted_accuracy: 0.9468 - val_loss: 0.1650 - val_accuracy: 0.6404 - val_weighted_accuracy: 0.9414\n",
      "Epoch 28/100000\n",
      "1727/1727 [==============================] - 11s 7ms/step - loss: 0.1540 - accuracy: 0.6460 - weighted_accuracy: 0.9461 - val_loss: 0.1729 - val_accuracy: 0.6573 - val_weighted_accuracy: 0.9428\n",
      "Epoch 29/100000\n",
      "1727/1727 [==============================] - 11s 7ms/step - loss: 0.1533 - accuracy: 0.6496 - weighted_accuracy: 0.9460 - val_loss: 0.1628 - val_accuracy: 0.6662 - val_weighted_accuracy: 0.9448\n",
      "Epoch 30/100000\n",
      "1727/1727 [==============================] - 11s 7ms/step - loss: 0.1550 - accuracy: 0.6469 - weighted_accuracy: 0.9443 - val_loss: 0.1621 - val_accuracy: 0.6439 - val_weighted_accuracy: 0.9471\n",
      "Epoch 31/100000\n",
      "1727/1727 [==============================] - 12s 7ms/step - loss: 0.1521 - accuracy: 0.6479 - weighted_accuracy: 0.9461 - val_loss: 0.1546 - val_accuracy: 0.6398 - val_weighted_accuracy: 0.9475\n",
      "INFO:tensorflow:Assets written to: ./saved_models/checkpoint/assets\n",
      "Epoch 32/100000\n",
      "1727/1727 [==============================] - 12s 7ms/step - loss: 0.1521 - accuracy: 0.6471 - weighted_accuracy: 0.9464 - val_loss: 0.1478 - val_accuracy: 0.6470 - val_weighted_accuracy: 0.9503\n",
      "INFO:tensorflow:Assets written to: ./saved_models/checkpoint/assets\n",
      "Epoch 33/100000\n",
      "1727/1727 [==============================] - 11s 7ms/step - loss: 0.1505 - accuracy: 0.6481 - weighted_accuracy: 0.9465 - val_loss: 0.1525 - val_accuracy: 0.6813 - val_weighted_accuracy: 0.9503\n"
     ]
    },
    {
     "name": "stderr",
     "output_type": "stream",
     "text": [
      "WARNING:absl:Found untraced functions such as dense_2_layer_call_fn, dense_2_layer_call_and_return_conditional_losses, embedding_layer_call_fn, embedding_layer_call_and_return_conditional_losses, dense_layer_call_fn while saving (showing 5 of 12). These functions will not be directly callable after loading.\n"
     ]
    },
    {
     "name": "stdout",
     "output_type": "stream",
     "text": [
      "INFO:tensorflow:Assets written to: saved_models/TEST9_global_v4_all_channels_depth_2/assets\n"
     ]
    },
    {
     "name": "stderr",
     "output_type": "stream",
     "text": [
      "INFO:tensorflow:Assets written to: saved_models/TEST9_global_v4_all_channels_depth_2/assets\n"
     ]
    },
    {
     "ename": "",
     "evalue": "",
     "output_type": "error",
     "traceback": [
      "\u001b[1;31mThe Kernel crashed while executing code in the the current cell or a previous cell. Please review the code in the cell(s) to identify a possible cause of the failure. Click <a href='https://aka.ms/vscodeJupyterKernelCrash'>here</a> for more info. View Jupyter <a href='command:jupyter.viewOutput'>log</a> for further details."
     ]
    }
   ],
   "source": [
    "depths = [2]\n",
    "\n",
    "for depth in depths:\n",
    "    train_model(depth, train, val, features, 'saved_models/'+model_prefix+'_depth_{}'.format(depth), 'saved_history/'+model_prefix+'_depth_{}'.format(depth))\n",
    "    "
   ]
  }
 ],
 "metadata": {
  "kernelspec": {
   "display_name": "Python 3",
   "language": "python",
   "name": "python3"
  },
  "language_info": {
   "codemirror_mode": {
    "name": "ipython",
    "version": 3
   },
   "file_extension": ".py",
   "mimetype": "text/x-python",
   "name": "python",
   "nbconvert_exporter": "python",
   "pygments_lexer": "ipython3",
   "version": "3.8.13"
  },
  "orig_nbformat": 4
 },
 "nbformat": 4,
 "nbformat_minor": 2
}
