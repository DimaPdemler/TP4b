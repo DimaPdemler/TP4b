{
 "cells": [
  {
   "cell_type": "code",
   "execution_count": 1,
   "metadata": {},
   "outputs": [],
   "source": [
    "import numpy as np\n",
    "import tensorflow as tf\n",
    "import uproot\n",
    "import awkward as ak\n",
    "import vector\n",
    "import numba as nb\n",
    "import os\n",
    "import fnmatch\n",
    "from dnn_tau import Dnn_tau\n",
    "from kinematic import *\n",
    "from utils import isolate_int, normalize\n",
    "import pandas as pd\n",
    "from numbers import Number\n",
    "from utils import normalize, split_dataset, bucketize\n",
    "from data_extractor import Data_extractor_v1\n",
    "import matplotlib.pyplot as plt"
   ]
  },
  {
   "cell_type": "code",
   "execution_count": 2,
   "metadata": {},
   "outputs": [],
   "source": [
    "path = \"/data/hnl/prompt_tau/anatuple/nanoV10/TEST6/ttm_DeepTau2p5/\"\n",
    "extractor = Data_extractor_v1('ttm')\n",
    "data = extractor(path)"
   ]
  },
  {
   "cell_type": "code",
   "execution_count": 4,
   "metadata": {},
   "outputs": [
    {
     "name": "stdout",
     "output_type": "stream",
     "text": [
      "Total background weight :  534759.9999999978\n",
      "Total signal weight :  534760.0000000101\n",
      "Number of background events :  534760.0\n"
     ]
    }
   ],
   "source": [
    "N = len(data['event'])\n",
    "n_bkg = N-sum([data['signal_label'][i] for i in range(len(data['signal_label']))])\n",
    "data_norm = normalize(pd.DataFrame(data), 'mass_hyp', n_bkg)\n",
    "data_norm = normalize(data_norm, 'signal_label', n_bkg)\n",
    "print(\"Total background weight : \", sum(data_norm['genWeight'][i] for i in range(N) if data['signal_label'][i] == 0))\n",
    "print(\"Total signal weight : \", sum(data_norm['genWeight'][i] for i in range(N) if data['signal_label'][i] == 1))\n",
    "print(\"Number of background events : \", n_bkg)\n",
    "data_norm = normalize(data_norm, 'channel', n_bkg)"
   ]
  },
  {
   "cell_type": "code",
   "execution_count": 5,
   "metadata": {},
   "outputs": [
    {
     "name": "stdout",
     "output_type": "stream",
     "text": [
      "['event', 'genWeight', 'deltaR_12', 'deltaR_13', 'deltaR_23', 'pt_123', 'mt_12', 'mt_13', 'mt_23', 'Mt_tot', 'n_tauh', 'mass_hyp', 'signal_label', 'channel', 'event_type']\n"
     ]
    }
   ],
   "source": [
    "data_processed, channel_indices = bucketize(data_norm, 'channel')\n",
    "print(list(data_processed.keys()))"
   ]
  },
  {
   "cell_type": "code",
   "execution_count": 6,
   "metadata": {},
   "outputs": [],
   "source": [
    "input_vars = ['deltaR_13', 'deltaR_23', 'pt_123', 'mt_12', 'Mt_tot', 'channel', 'mass_hyp', 'signal_label']"
   ]
  },
  {
   "cell_type": "code",
   "execution_count": 33,
   "metadata": {},
   "outputs": [],
   "source": [
    "model = Dnn_tau(input_vars)\n",
    "model.compile(loss='binary_crossentropy', \n",
    "                  optimizer='adam', \n",
    "                  metrics=['accuracy'])\n",
    "\n",
    "early_stopping = tf.keras.callbacks.EarlyStopping(monitor='accuracy', patience=7)\n",
    "checkpoint = tf.keras.callbacks.ModelCheckpoint(\n",
    "    filepath=\"./saved_models/checkpoint\",\n",
    "    monitor = \"val_loss\",\n",
    "    save_best_only = True\n",
    ")"
   ]
  },
  {
   "cell_type": "code",
   "execution_count": 8,
   "metadata": {},
   "outputs": [
    {
     "name": "stdout",
     "output_type": "stream",
     "text": [
      "Total number of events :  613875\n",
      "Train set : 37.55 %\n",
      "Validation set : 12.52 %\n",
      "Test set : 25.02 %\n",
      "Measurement set : 24.91 %\n"
     ]
    }
   ],
   "source": [
    "train, val, test, meas = split_dataset(data_processed)\n",
    "x_train = train[input_vars]\n",
    "x_test = test[input_vars]\n",
    "x_val = val[input_vars]\n",
    "x_meas = meas[input_vars]\n",
    "\n",
    "label_train = x_train.pop('signal_label').astype(float)\n",
    "label_val = x_val.pop('signal_label').astype(float)\n",
    "label_test = x_test.pop('signal_label').astype(float)\n",
    "label_meas = x_meas.pop('signal_label').astype(float)"
   ]
  },
  {
   "cell_type": "code",
   "execution_count": 35,
   "metadata": {},
   "outputs": [
    {
     "name": "stdout",
     "output_type": "stream",
     "text": [
      "Epoch 1/1000000\n",
      "577/577 [==============================] - 4s 7ms/step - loss: 1.4598 - accuracy: 0.4979 - val_loss: 0.9634 - val_accuracy: 0.3921\n",
      "INFO:tensorflow:Assets written to: ./saved_models/checkpoint/assets\n",
      "Epoch 2/1000000\n",
      "577/577 [==============================] - 4s 6ms/step - loss: 0.6283 - accuracy: 0.3536 - val_loss: 0.7925 - val_accuracy: 0.3550\n",
      "INFO:tensorflow:Assets written to: ./saved_models/checkpoint/assets\n",
      "Epoch 3/1000000\n",
      "577/577 [==============================] - 4s 6ms/step - loss: 0.5010 - accuracy: 0.4663 - val_loss: 0.7242 - val_accuracy: 0.5206\n",
      "INFO:tensorflow:Assets written to: ./saved_models/checkpoint/assets\n",
      "Epoch 4/1000000\n",
      "577/577 [==============================] - 4s 6ms/step - loss: 0.4302 - accuracy: 0.5341 - val_loss: 0.6944 - val_accuracy: 0.5420\n",
      "INFO:tensorflow:Assets written to: ./saved_models/checkpoint/assets\n",
      "Epoch 5/1000000\n",
      "577/577 [==============================] - 4s 6ms/step - loss: 0.4019 - accuracy: 0.5540 - val_loss: 0.6786 - val_accuracy: 0.5562\n",
      "INFO:tensorflow:Assets written to: ./saved_models/checkpoint/assets\n",
      "Epoch 6/1000000\n",
      "577/577 [==============================] - 4s 6ms/step - loss: 0.3930 - accuracy: 0.5678 - val_loss: 0.6817 - val_accuracy: 0.5745\n",
      "Epoch 7/1000000\n",
      "577/577 [==============================] - 4s 7ms/step - loss: 0.3803 - accuracy: 0.5798 - val_loss: 0.6759 - val_accuracy: 0.5946\n",
      "INFO:tensorflow:Assets written to: ./saved_models/checkpoint/assets\n",
      "Epoch 8/1000000\n",
      "577/577 [==============================] - 4s 6ms/step - loss: 0.3703 - accuracy: 0.5909 - val_loss: 0.6813 - val_accuracy: 0.5877\n",
      "Epoch 9/1000000\n",
      "577/577 [==============================] - 4s 7ms/step - loss: 0.3664 - accuracy: 0.5915 - val_loss: 0.6820 - val_accuracy: 0.5907\n",
      "Epoch 10/1000000\n",
      "577/577 [==============================] - 4s 7ms/step - loss: 0.3617 - accuracy: 0.5955 - val_loss: 0.6903 - val_accuracy: 0.5924\n",
      "Epoch 11/1000000\n",
      "577/577 [==============================] - 4s 7ms/step - loss: 0.3598 - accuracy: 0.6028 - val_loss: 0.6753 - val_accuracy: 0.6040\n",
      "INFO:tensorflow:Assets written to: ./saved_models/checkpoint/assets\n",
      "Epoch 12/1000000\n",
      "577/577 [==============================] - 4s 7ms/step - loss: 0.3568 - accuracy: 0.6086 - val_loss: 0.6820 - val_accuracy: 0.6035\n",
      "Epoch 13/1000000\n",
      "577/577 [==============================] - 4s 7ms/step - loss: 0.3526 - accuracy: 0.6071 - val_loss: 0.6549 - val_accuracy: 0.6024\n",
      "INFO:tensorflow:Assets written to: ./saved_models/checkpoint/assets\n",
      "Epoch 14/1000000\n",
      "577/577 [==============================] - 4s 7ms/step - loss: 0.3524 - accuracy: 0.6117 - val_loss: 0.6529 - val_accuracy: 0.6171\n",
      "INFO:tensorflow:Assets written to: ./saved_models/checkpoint/assets\n",
      "Epoch 15/1000000\n",
      "577/577 [==============================] - 4s 7ms/step - loss: 0.3498 - accuracy: 0.6173 - val_loss: 0.6499 - val_accuracy: 0.6202\n",
      "INFO:tensorflow:Assets written to: ./saved_models/checkpoint/assets\n",
      "Epoch 16/1000000\n",
      "577/577 [==============================] - 4s 7ms/step - loss: 0.3479 - accuracy: 0.6202 - val_loss: 0.6712 - val_accuracy: 0.6114\n",
      "Epoch 17/1000000\n",
      "577/577 [==============================] - 4s 7ms/step - loss: 0.3477 - accuracy: 0.6211 - val_loss: 0.6386 - val_accuracy: 0.6149\n",
      "INFO:tensorflow:Assets written to: ./saved_models/checkpoint/assets\n",
      "Epoch 18/1000000\n",
      "577/577 [==============================] - 4s 6ms/step - loss: 0.3454 - accuracy: 0.6198 - val_loss: 0.6702 - val_accuracy: 0.6171\n",
      "Epoch 19/1000000\n",
      "577/577 [==============================] - 4s 7ms/step - loss: 0.3465 - accuracy: 0.6178 - val_loss: 0.6366 - val_accuracy: 0.6121\n",
      "INFO:tensorflow:Assets written to: ./saved_models/checkpoint/assets\n",
      "Epoch 20/1000000\n",
      "577/577 [==============================] - 4s 6ms/step - loss: 0.3457 - accuracy: 0.6165 - val_loss: 0.6335 - val_accuracy: 0.6229\n",
      "INFO:tensorflow:Assets written to: ./saved_models/checkpoint/assets\n",
      "Epoch 21/1000000\n",
      "577/577 [==============================] - 4s 6ms/step - loss: 0.3453 - accuracy: 0.6204 - val_loss: 0.6335 - val_accuracy: 0.6250\n",
      "Epoch 22/1000000\n",
      "577/577 [==============================] - 4s 7ms/step - loss: 0.3443 - accuracy: 0.6218 - val_loss: 0.6596 - val_accuracy: 0.6026\n",
      "Epoch 23/1000000\n",
      "577/577 [==============================] - 4s 7ms/step - loss: 0.3429 - accuracy: 0.6180 - val_loss: 0.6313 - val_accuracy: 0.6166\n",
      "INFO:tensorflow:Assets written to: ./saved_models/checkpoint/assets\n",
      "Epoch 24/1000000\n",
      "577/577 [==============================] - 4s 6ms/step - loss: 0.3397 - accuracy: 0.6215 - val_loss: 0.6452 - val_accuracy: 0.6234\n",
      "Epoch 25/1000000\n",
      "577/577 [==============================] - 4s 7ms/step - loss: 0.3391 - accuracy: 0.6215 - val_loss: 0.6632 - val_accuracy: 0.6119\n",
      "Epoch 26/1000000\n",
      "577/577 [==============================] - 4s 7ms/step - loss: 0.3405 - accuracy: 0.6206 - val_loss: 0.6708 - val_accuracy: 0.6172\n",
      "Epoch 27/1000000\n",
      "577/577 [==============================] - 4s 7ms/step - loss: 0.3384 - accuracy: 0.6223 - val_loss: 0.6618 - val_accuracy: 0.6195\n",
      "Epoch 28/1000000\n",
      "577/577 [==============================] - 4s 6ms/step - loss: 0.3396 - accuracy: 0.6225 - val_loss: 0.6282 - val_accuracy: 0.6247\n",
      "INFO:tensorflow:Assets written to: ./saved_models/checkpoint/assets\n",
      "Epoch 29/1000000\n",
      "577/577 [==============================] - 4s 6ms/step - loss: 0.3388 - accuracy: 0.6220 - val_loss: 0.6427 - val_accuracy: 0.6228\n",
      "Epoch 30/1000000\n",
      "577/577 [==============================] - 4s 7ms/step - loss: 0.3361 - accuracy: 0.6227 - val_loss: 0.6770 - val_accuracy: 0.6264\n",
      "Epoch 31/1000000\n",
      "577/577 [==============================] - 4s 6ms/step - loss: 0.3372 - accuracy: 0.6232 - val_loss: 0.6408 - val_accuracy: 0.6256\n",
      "Epoch 32/1000000\n",
      "577/577 [==============================] - 4s 7ms/step - loss: 0.3372 - accuracy: 0.6222 - val_loss: 0.6959 - val_accuracy: 0.6194\n",
      "Epoch 33/1000000\n",
      "577/577 [==============================] - 4s 7ms/step - loss: 0.3377 - accuracy: 0.6218 - val_loss: 0.6918 - val_accuracy: 0.6185\n",
      "Epoch 34/1000000\n",
      "577/577 [==============================] - 4s 7ms/step - loss: 0.3375 - accuracy: 0.6253 - val_loss: 0.6833 - val_accuracy: 0.6123\n",
      "Epoch 35/1000000\n",
      "577/577 [==============================] - 4s 7ms/step - loss: 0.3364 - accuracy: 0.6218 - val_loss: 0.7154 - val_accuracy: 0.6223\n",
      "Epoch 36/1000000\n",
      "577/577 [==============================] - 4s 7ms/step - loss: 0.3376 - accuracy: 0.6238 - val_loss: 0.6565 - val_accuracy: 0.6321\n",
      "Epoch 37/1000000\n",
      "577/577 [==============================] - 4s 7ms/step - loss: 0.3359 - accuracy: 0.6214 - val_loss: 0.7121 - val_accuracy: 0.6157\n",
      "Epoch 38/1000000\n",
      "577/577 [==============================] - 4s 7ms/step - loss: 0.3344 - accuracy: 0.6221 - val_loss: 0.6239 - val_accuracy: 0.6313\n",
      "INFO:tensorflow:Assets written to: ./saved_models/checkpoint/assets\n",
      "Epoch 39/1000000\n",
      "577/577 [==============================] - 4s 6ms/step - loss: 0.3358 - accuracy: 0.6251 - val_loss: 0.6353 - val_accuracy: 0.6308\n",
      "Epoch 40/1000000\n",
      "577/577 [==============================] - 4s 7ms/step - loss: 0.3344 - accuracy: 0.6269 - val_loss: 0.6323 - val_accuracy: 0.6353\n",
      "Epoch 41/1000000\n",
      "577/577 [==============================] - 4s 7ms/step - loss: 0.3350 - accuracy: 0.6252 - val_loss: 0.7022 - val_accuracy: 0.6218\n",
      "Epoch 42/1000000\n",
      "577/577 [==============================] - 4s 7ms/step - loss: 0.3344 - accuracy: 0.6243 - val_loss: 0.6228 - val_accuracy: 0.6148\n",
      "INFO:tensorflow:Assets written to: ./saved_models/checkpoint/assets\n",
      "Epoch 43/1000000\n",
      "577/577 [==============================] - 4s 7ms/step - loss: 0.3332 - accuracy: 0.6244 - val_loss: 0.6231 - val_accuracy: 0.6246\n",
      "Epoch 44/1000000\n",
      "577/577 [==============================] - 4s 7ms/step - loss: 0.3348 - accuracy: 0.6212 - val_loss: 0.6936 - val_accuracy: 0.6176\n",
      "Epoch 45/1000000\n",
      "577/577 [==============================] - 4s 6ms/step - loss: 0.3331 - accuracy: 0.6273 - val_loss: 0.6514 - val_accuracy: 0.6267\n",
      "Epoch 46/1000000\n",
      "577/577 [==============================] - 4s 6ms/step - loss: 0.3350 - accuracy: 0.6251 - val_loss: 0.6558 - val_accuracy: 0.6209\n",
      "Epoch 47/1000000\n",
      "577/577 [==============================] - 4s 7ms/step - loss: 0.3368 - accuracy: 0.6286 - val_loss: 0.6820 - val_accuracy: 0.6273\n",
      "Epoch 48/1000000\n",
      "577/577 [==============================] - 4s 7ms/step - loss: 0.3359 - accuracy: 0.6310 - val_loss: 0.6608 - val_accuracy: 0.6148\n",
      "Epoch 49/1000000\n",
      "577/577 [==============================] - 4s 7ms/step - loss: 0.3335 - accuracy: 0.6226 - val_loss: 0.6875 - val_accuracy: 0.6142\n",
      "Epoch 50/1000000\n",
      "577/577 [==============================] - 4s 7ms/step - loss: 0.3337 - accuracy: 0.6204 - val_loss: 0.6640 - val_accuracy: 0.6227\n",
      "Epoch 51/1000000\n",
      "577/577 [==============================] - 4s 7ms/step - loss: 0.3332 - accuracy: 0.6216 - val_loss: 0.6565 - val_accuracy: 0.6248\n",
      "Epoch 52/1000000\n",
      "577/577 [==============================] - 4s 7ms/step - loss: 0.3326 - accuracy: 0.6189 - val_loss: 0.6717 - val_accuracy: 0.6318\n",
      "Epoch 53/1000000\n",
      "577/577 [==============================] - 4s 7ms/step - loss: 0.3348 - accuracy: 0.6205 - val_loss: 0.6225 - val_accuracy: 0.6326\n",
      "INFO:tensorflow:Assets written to: ./saved_models/checkpoint/assets\n",
      "Epoch 54/1000000\n",
      "577/577 [==============================] - 4s 6ms/step - loss: 0.3349 - accuracy: 0.6247 - val_loss: 0.6894 - val_accuracy: 0.6291\n",
      "Epoch 55/1000000\n",
      "577/577 [==============================] - 4s 7ms/step - loss: 0.3331 - accuracy: 0.6224 - val_loss: 0.6474 - val_accuracy: 0.6295\n"
     ]
    }
   ],
   "source": [
    "\n",
    "history = model.fit(x_train, label_train, sample_weight=train['genWeight'], validation_data=(x_val, label_val), epochs=1000000, verbose=1, \n",
    "                    batch_size = 400, callbacks=[early_stopping, checkpoint])"
   ]
  },
  {
   "cell_type": "code",
   "execution_count": 9,
   "metadata": {},
   "outputs": [
    {
     "name": "stderr",
     "output_type": "stream",
     "text": [
      "2023-04-24 08:00:13.523173: I tensorflow/core/platform/cpu_feature_guard.cc:151] This TensorFlow binary is optimized with oneAPI Deep Neural Network Library (oneDNN) to use the following CPU instructions in performance-critical operations:  AVX2 AVX512F FMA\n",
      "To enable them in other operations, rebuild TensorFlow with the appropriate compiler flags.\n",
      "2023-04-24 08:00:14.368659: I tensorflow/core/common_runtime/gpu/gpu_device.cc:1525] Created device /job:localhost/replica:0/task:0/device:GPU:0 with 6673 MB memory:  -> device: 0, name: Quadro RTX 4000, pci bus id: 0000:17:00.0, compute capability: 7.5\n",
      "2023-04-24 08:00:14.369406: I tensorflow/core/common_runtime/gpu/gpu_device.cc:1525] Created device /job:localhost/replica:0/task:0/device:GPU:1 with 6653 MB memory:  -> device: 1, name: Quadro RTX 4000, pci bus id: 0000:65:00.0, compute capability: 7.5\n"
     ]
    },
    {
     "name": "stdout",
     "output_type": "stream",
     "text": [
      "Train: 0.614, Test: 0.612\n"
     ]
    }
   ],
   "source": [
    "model = tf.keras.models.load_model(\"./saved_models/checkpoint\")\n",
    "\n",
    "_, train_acc = model.evaluate(x_train, label_train, verbose=0)\n",
    "_, test_acc = model.evaluate(x_test, label_test, verbose=0)\n",
    "print('Train: %.3f, Test: %.3f' % (train_acc, test_acc))"
   ]
  },
  {
   "cell_type": "code",
   "execution_count": 10,
   "metadata": {},
   "outputs": [],
   "source": [
    "scores = model.predict(x_test)"
   ]
  },
  {
   "cell_type": "code",
   "execution_count": 12,
   "metadata": {},
   "outputs": [],
   "source": [
    "output_test = pd.DataFrame({'scores': np.ravel(scores), 'genWeight': np.zeros(len(scores), dtype=np.float64)})\n",
    "output_test['genWeight'] = test['genWeight']"
   ]
  },
  {
   "cell_type": "code",
   "execution_count": 33,
   "metadata": {},
   "outputs": [],
   "source": [
    "def plot_hist(dataframe, keys, keys_label, bins_list, normalize = True, mode='n_tauh', return_counts = False):\n",
    "    colors = plt.rcParams['axes.prop_cycle'].by_key()['color']\n",
    "\n",
    "    if type(dataframe) == dict:\n",
    "        data_pd = pd.DataFrame(dataframe)\n",
    "    else:\n",
    "        data_pd = dataframe.copy()\n",
    "\n",
    "    sub_df = {}\n",
    "    if mode == 'n_tauh':\n",
    "        sub_df_keys =  [\"signal\", \"bkg_0\", \"bkg_1\", \"bkg_2\"]\n",
    "        event_type_labels = [\"signal\", r\"$background\\ 0\\times\\tau_h$\", r\"$background\\ 1\\times\\tau_h$\", r\"$background\\ 2\\times\\tau_h$\"]\n",
    "        signal = data_pd.loc[data_pd['signal_label']==1]\n",
    "        background = data_pd.loc[data_pd['signal_label']==0]\n",
    "        background_0 = background.loc[background['n_tauh']==0]\n",
    "        background_1 = background.loc[background['n_tauh']==1]\n",
    "        background_2 = background.loc[background['n_tauh']==2]\n",
    "        sub_df[sub_df_keys[0]] = signal\n",
    "        sub_df[sub_df_keys[1]] = background_0\n",
    "        sub_df[sub_df_keys[2]] = background_1\n",
    "        sub_df[sub_df_keys[3]] = background_2\n",
    "    if mode == 'simple':\n",
    "        sub_df_keys = ['Data']\n",
    "        event_type_labels = [None]\n",
    "        sub_df['Data'] = data_pd\n",
    "    else:\n",
    "        raise ValueError(f\"The mode {mode} is not valid\")\n",
    "    \n",
    "    figs = []\n",
    "    counts = []\n",
    "\n",
    "    if type(keys) != list:\n",
    "        keys = [keys]\n",
    "        keys_label = [keys_label]\n",
    "        bins_list = [bins_list]\n",
    "    \n",
    "    for i,key in enumerate(keys):\n",
    "        fig, ax = plt.subplots(1, 1, figsize=(10, 6))\n",
    "\n",
    "        # dictionary for counts/errors\n",
    "        sub_dicts = []\n",
    "        for i in range(len(list(sub_df.keys()))):\n",
    "            sub_dicts.append({'counts':[], 'errors':[]})\n",
    "        counts_j = dict(zip(list(sub_df.keys()), sub_dicts))\n",
    "\n",
    "        for j,event_type in enumerate(sub_df.keys()):\n",
    "            \n",
    "            df = sub_df[event_type]\n",
    "            \n",
    "            if 'genWeight' not in list(df.keys()):\n",
    "                df['genWeight'] = np.ones_like(df[list(df.keys())[0]])\n",
    "\n",
    "            c,b = np.histogram(df[key], bins=bins_list[i], weights=df['genWeight'])\n",
    "            c2,_ = np.histogram(df[key], bins=bins_list[i], weights=df['genWeight']**2)\n",
    "            if normalize:\n",
    "                norm = np.sum(c)\n",
    "                c /= norm\n",
    "                c2 /= norm**2\n",
    "            error = np.sqrt(c2)\n",
    "\n",
    "            counts_j[event_type]['counts'] = c\n",
    "            counts_j[event_type]['errors'] = error\n",
    "            \n",
    "            if event_type_labels[j] != None:\n",
    "                ax.stairs(c, b, label=event_type_labels[j], linewidth=2)\n",
    "            else:\n",
    "                ax.stairs(c, b, linewidth=2)\n",
    "            # ax.errorbar((b[1:]+b[:-1])/2, c, yerr = np.sqrt(c2), marker = '.',drawstyle = 'steps-mid', color=colors[j])\n",
    "            ax.errorbar((b[1:]+b[:-1])/2, c, yerr = error,fmt='.', color='k', linewidth=1)\n",
    "            ax.set_xlabel(keys_label[i])\n",
    "            if mode != 'simple':\n",
    "                ax.legend()\n",
    "            ax.grid(True)\n",
    "        figs.append(fig)\n",
    "        counts.append(counts_j)\n",
    "    if return_counts:\n",
    "        return figs, counts\n",
    "    return figs"
   ]
  },
  {
   "cell_type": "code",
   "execution_count": 31,
   "metadata": {},
   "outputs": [],
   "source": [
    "import matplotlib as mpl\n",
    "import matplotlib.pyplot as plt\n",
    "mpl.rcParams.update({\"font.size\": 16, \"font.family\": \"serif\"})\n",
    "colors = plt.rcParams['axes.prop_cycle'].by_key()['color']"
   ]
  },
  {
   "cell_type": "code",
   "execution_count": 51,
   "metadata": {},
   "outputs": [
    {
     "data": {
      "image/png": "[encoded data removed]",
      "text/plain": [
       "<Figure size 720x432 with 1 Axes>"
      ]
     },
     "metadata": {
      "needs_background": "light"
     },
     "output_type": "display_data"
    }
   ],
   "source": [
    "bins_list = np.linspace(0,1,19)\n",
    "figs, counts = plot_hist(output_test, 'scores', 'DNN score', bins_list, normalize = True, mode='simple', return_counts=True)\n",
    "figs[0].savefig(\"Images/TEST6_ttm_DeepTau2p5_score_hist.pdf\")"
   ]
  },
  {
   "cell_type": "code",
   "execution_count": 50,
   "metadata": {},
   "outputs": [
    {
     "name": "stdout",
     "output_type": "stream",
     "text": [
      "0.355964152686866\n"
     ]
    }
   ],
   "source": [
    "bins_center = (bins_list[1:]+bins_list[:-1])/2\n",
    "classed_bkg = (bins_center < 0.5)\n",
    "values = counts[0]['Data']['counts']\n",
    "percentage_bkg = values[classed_bkg].sum()/values.sum()\n",
    "print(percentage_bkg)"
   ]
  }
 ],
 "metadata": {
  "kernelspec": {
   "display_name": "Python 3",
   "language": "python",
   "name": "python3"
  },
  "language_info": {
   "codemirror_mode": {
    "name": "ipython",
    "version": 3
   },
   "file_extension": ".py",
   "mimetype": "text/x-python",
   "name": "python",
   "nbconvert_exporter": "python",
   "pygments_lexer": "ipython3",
   "version": "3.8.13"
  },
  "orig_nbformat": 4
 },
 "nbformat": 4,
 "nbformat_minor": 2
}
