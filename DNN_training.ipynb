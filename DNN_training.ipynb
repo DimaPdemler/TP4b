{
 "cells": [
  {
   "cell_type": "code",
   "execution_count": 1,
   "metadata": {},
   "outputs": [],
   "source": [
    "import numpy as np\n",
    "import tensorflow as tf\n",
    "import uproot\n",
    "import awkward as ak\n",
    "import vector\n",
    "import numba as nb\n",
    "import os\n",
    "import fnmatch\n",
    "from dnn_tau import Dnn_tau\n",
    "from kinematic import *\n",
    "from utils import isolate_int, normalize\n",
    "import pandas as pd\n",
    "from numbers import Number\n",
    "from utils import normalize, split_dataset, bucketize\n",
    "from data_extractor import Data_extractor_v1\n",
    "import matplotlib.pyplot as plt"
   ]
  },
  {
   "cell_type": "code",
   "execution_count": 58,
   "metadata": {},
   "outputs": [],
   "source": [
    "path = \"/data/hnl/prompt_tau/anatuple/nanoV10/TEST9/ttm/anatuple/\"\n",
    "extractor = Data_extractor_v1('ttm')\n",
    "data = extractor(path)"
   ]
  },
  {
   "cell_type": "code",
   "execution_count": 60,
   "metadata": {},
   "outputs": [
    {
     "name": "stdout",
     "output_type": "stream",
     "text": [
      "Total background weight :  801842.9999999836\n",
      "Total signal weight :  801843.0000000069\n",
      "Number of background events :  801843.0\n",
      "Total number of events :  891987\n"
     ]
    }
   ],
   "source": [
    "N = len(data['event'])\n",
    "n_bkg = N-sum([data['signal_label'][i] for i in range(len(data['signal_label']))])\n",
    "data_norm = normalize(pd.DataFrame(data), 'mass_hyp', n_bkg)\n",
    "data_norm = normalize(data_norm, 'signal_label', n_bkg)\n",
    "print(\"Total background weight : \", sum(data_norm['genWeight'][i] for i in range(N) if data['signal_label'][i] == 0))\n",
    "print(\"Total signal weight : \", sum(data_norm['genWeight'][i] for i in range(N) if data['signal_label'][i] == 1))\n",
    "print(\"Number of background events : \", n_bkg)\n",
    "print(\"Total number of events : \", N)\n",
    "data_norm = normalize(data_norm, 'channel', n_bkg)"
   ]
  },
  {
   "cell_type": "code",
   "execution_count": 61,
   "metadata": {},
   "outputs": [
    {
     "name": "stdout",
     "output_type": "stream",
     "text": [
      "['event', 'genWeight', 'deltaR_12', 'deltaR_13', 'deltaR_23', 'pt_123', 'mt_12', 'mt_13', 'mt_23', 'Mt_tot', 'n_tauh', 'mass_hyp', 'signal_label', 'channel', 'event_type']\n"
     ]
    }
   ],
   "source": [
    "data_processed, channel_indices = bucketize(data_norm, 'channel')\n",
    "print(list(data_processed.keys()))"
   ]
  },
  {
   "cell_type": "code",
   "execution_count": 62,
   "metadata": {},
   "outputs": [],
   "source": [
    "input_vars = ['deltaR_13', 'deltaR_23', 'pt_123', 'mt_12', 'Mt_tot', 'channel', 'mass_hyp', 'signal_label']"
   ]
  },
  {
   "cell_type": "code",
   "execution_count": 63,
   "metadata": {},
   "outputs": [],
   "source": [
    "model = Dnn_tau(input_vars)\n",
    "model.compile(loss='binary_crossentropy', \n",
    "                  optimizer='adam', \n",
    "                  metrics=['accuracy'])\n",
    "\n",
    "early_stopping = tf.keras.callbacks.EarlyStopping(monitor='accuracy', patience=7)\n",
    "checkpoint = tf.keras.callbacks.ModelCheckpoint(\n",
    "    filepath=\"./saved_models/checkpoint\",\n",
    "    monitor = \"val_loss\",\n",
    "    save_best_only = True\n",
    ")"
   ]
  },
  {
   "cell_type": "code",
   "execution_count": 64,
   "metadata": {},
   "outputs": [
    {
     "name": "stdout",
     "output_type": "stream",
     "text": [
      "Total number of events :  891987\n",
      "Train set : 37.58 %\n",
      "Validation set : 12.53 %\n",
      "Test set : 25.00 %\n",
      "Measurement set : 24.90 %\n"
     ]
    }
   ],
   "source": [
    "train, val, test, meas = split_dataset(data_processed)\n",
    "x_train = train[input_vars]\n",
    "x_test = test[input_vars]\n",
    "x_val = val[input_vars]\n",
    "x_meas = meas[input_vars]\n",
    "\n",
    "label_train = x_train.pop('signal_label').astype(float)\n",
    "label_val = x_val.pop('signal_label').astype(float)\n",
    "label_test = x_test.pop('signal_label').astype(float)\n",
    "label_meas = x_meas.pop('signal_label').astype(float)"
   ]
  },
  {
   "cell_type": "code",
   "execution_count": 65,
   "metadata": {},
   "outputs": [
    {
     "name": "stdout",
     "output_type": "stream",
     "text": [
      "Epoch 1/1000000\n",
      "838/838 [==============================] - 6s 6ms/step - loss: 0.7975 - accuracy: 0.4850 - val_loss: 0.7045 - val_accuracy: 0.4961\n",
      "INFO:tensorflow:Assets written to: ./saved_models/checkpoint/assets\n"
     ]
    },
    {
     "name": "stderr",
     "output_type": "stream",
     "text": [
      "INFO:tensorflow:Assets written to: ./saved_models/checkpoint/assets\n"
     ]
    },
    {
     "name": "stdout",
     "output_type": "stream",
     "text": [
      "Epoch 2/1000000\n",
      "838/838 [==============================] - 5s 6ms/step - loss: 0.5074 - accuracy: 0.5292 - val_loss: 0.6728 - val_accuracy: 0.5651\n",
      "INFO:tensorflow:Assets written to: ./saved_models/checkpoint/assets\n"
     ]
    },
    {
     "name": "stderr",
     "output_type": "stream",
     "text": [
      "INFO:tensorflow:Assets written to: ./saved_models/checkpoint/assets\n"
     ]
    },
    {
     "name": "stdout",
     "output_type": "stream",
     "text": [
      "Epoch 3/1000000\n",
      "838/838 [==============================] - 5s 6ms/step - loss: 0.4725 - accuracy: 0.5603 - val_loss: 0.6641 - val_accuracy: 0.5603\n",
      "INFO:tensorflow:Assets written to: ./saved_models/checkpoint/assets\n"
     ]
    },
    {
     "name": "stderr",
     "output_type": "stream",
     "text": [
      "INFO:tensorflow:Assets written to: ./saved_models/checkpoint/assets\n"
     ]
    },
    {
     "name": "stdout",
     "output_type": "stream",
     "text": [
      "Epoch 4/1000000\n",
      "838/838 [==============================] - 5s 6ms/step - loss: 0.4523 - accuracy: 0.5663 - val_loss: 0.6716 - val_accuracy: 0.5712\n",
      "Epoch 5/1000000\n",
      "838/838 [==============================] - 5s 6ms/step - loss: 0.4386 - accuracy: 0.5696 - val_loss: 0.6609 - val_accuracy: 0.5718\n",
      "INFO:tensorflow:Assets written to: ./saved_models/checkpoint/assets\n"
     ]
    },
    {
     "name": "stderr",
     "output_type": "stream",
     "text": [
      "INFO:tensorflow:Assets written to: ./saved_models/checkpoint/assets\n"
     ]
    },
    {
     "name": "stdout",
     "output_type": "stream",
     "text": [
      "Epoch 6/1000000\n",
      "838/838 [==============================] - 5s 6ms/step - loss: 0.4270 - accuracy: 0.5795 - val_loss: 0.6323 - val_accuracy: 0.5886\n",
      "INFO:tensorflow:Assets written to: ./saved_models/checkpoint/assets\n"
     ]
    },
    {
     "name": "stderr",
     "output_type": "stream",
     "text": [
      "INFO:tensorflow:Assets written to: ./saved_models/checkpoint/assets\n"
     ]
    },
    {
     "name": "stdout",
     "output_type": "stream",
     "text": [
      "Epoch 7/1000000\n",
      "838/838 [==============================] - 5s 6ms/step - loss: 0.4099 - accuracy: 0.5971 - val_loss: 0.6496 - val_accuracy: 0.5909\n",
      "Epoch 8/1000000\n",
      "838/838 [==============================] - 5s 6ms/step - loss: 0.4039 - accuracy: 0.6052 - val_loss: 0.6361 - val_accuracy: 0.6068\n",
      "Epoch 9/1000000\n",
      "838/838 [==============================] - 5s 6ms/step - loss: 0.3959 - accuracy: 0.6135 - val_loss: 0.6289 - val_accuracy: 0.6156\n",
      "INFO:tensorflow:Assets written to: ./saved_models/checkpoint/assets\n"
     ]
    },
    {
     "name": "stderr",
     "output_type": "stream",
     "text": [
      "INFO:tensorflow:Assets written to: ./saved_models/checkpoint/assets\n"
     ]
    },
    {
     "name": "stdout",
     "output_type": "stream",
     "text": [
      "Epoch 10/1000000\n",
      "838/838 [==============================] - 5s 6ms/step - loss: 0.3861 - accuracy: 0.6163 - val_loss: 0.6177 - val_accuracy: 0.6220\n",
      "INFO:tensorflow:Assets written to: ./saved_models/checkpoint/assets\n"
     ]
    },
    {
     "name": "stderr",
     "output_type": "stream",
     "text": [
      "INFO:tensorflow:Assets written to: ./saved_models/checkpoint/assets\n"
     ]
    },
    {
     "name": "stdout",
     "output_type": "stream",
     "text": [
      "Epoch 11/1000000\n",
      "838/838 [==============================] - 5s 6ms/step - loss: 0.3813 - accuracy: 0.6334 - val_loss: 0.6071 - val_accuracy: 0.6527\n",
      "INFO:tensorflow:Assets written to: ./saved_models/checkpoint/assets\n"
     ]
    },
    {
     "name": "stderr",
     "output_type": "stream",
     "text": [
      "INFO:tensorflow:Assets written to: ./saved_models/checkpoint/assets\n"
     ]
    },
    {
     "name": "stdout",
     "output_type": "stream",
     "text": [
      "Epoch 12/1000000\n",
      "838/838 [==============================] - 5s 6ms/step - loss: 0.3789 - accuracy: 0.6437 - val_loss: 0.6283 - val_accuracy: 0.6410\n",
      "Epoch 13/1000000\n",
      "838/838 [==============================] - 5s 6ms/step - loss: 0.3796 - accuracy: 0.6447 - val_loss: 0.6123 - val_accuracy: 0.6467\n",
      "Epoch 14/1000000\n",
      "838/838 [==============================] - 5s 6ms/step - loss: 0.3772 - accuracy: 0.6413 - val_loss: 0.5947 - val_accuracy: 0.6531\n",
      "INFO:tensorflow:Assets written to: ./saved_models/checkpoint/assets\n"
     ]
    },
    {
     "name": "stderr",
     "output_type": "stream",
     "text": [
      "INFO:tensorflow:Assets written to: ./saved_models/checkpoint/assets\n"
     ]
    },
    {
     "name": "stdout",
     "output_type": "stream",
     "text": [
      "Epoch 15/1000000\n",
      "838/838 [==============================] - 5s 6ms/step - loss: 0.3769 - accuracy: 0.6517 - val_loss: 0.5957 - val_accuracy: 0.6532\n",
      "Epoch 16/1000000\n",
      "838/838 [==============================] - 5s 6ms/step - loss: 0.3718 - accuracy: 0.6536 - val_loss: 0.6149 - val_accuracy: 0.6619\n",
      "Epoch 17/1000000\n",
      "838/838 [==============================] - 5s 6ms/step - loss: 0.3735 - accuracy: 0.6594 - val_loss: 0.5775 - val_accuracy: 0.6758\n",
      "INFO:tensorflow:Assets written to: ./saved_models/checkpoint/assets\n"
     ]
    },
    {
     "name": "stderr",
     "output_type": "stream",
     "text": [
      "INFO:tensorflow:Assets written to: ./saved_models/checkpoint/assets\n"
     ]
    },
    {
     "name": "stdout",
     "output_type": "stream",
     "text": [
      "Epoch 18/1000000\n",
      "838/838 [==============================] - 5s 6ms/step - loss: 0.3731 - accuracy: 0.6585 - val_loss: 0.6324 - val_accuracy: 0.6534\n",
      "Epoch 19/1000000\n",
      "838/838 [==============================] - 5s 6ms/step - loss: 0.3720 - accuracy: 0.6688 - val_loss: 0.6278 - val_accuracy: 0.6526\n",
      "Epoch 20/1000000\n",
      "838/838 [==============================] - 5s 6ms/step - loss: 0.3720 - accuracy: 0.6679 - val_loss: 0.5892 - val_accuracy: 0.6645\n",
      "Epoch 21/1000000\n",
      "838/838 [==============================] - 5s 6ms/step - loss: 0.3691 - accuracy: 0.6686 - val_loss: 0.6064 - val_accuracy: 0.6586\n",
      "Epoch 22/1000000\n",
      "838/838 [==============================] - 5s 6ms/step - loss: 0.3720 - accuracy: 0.6654 - val_loss: 0.6081 - val_accuracy: 0.6540\n",
      "Epoch 23/1000000\n",
      "838/838 [==============================] - 5s 6ms/step - loss: 0.3695 - accuracy: 0.6610 - val_loss: 0.6185 - val_accuracy: 0.6527\n",
      "Epoch 24/1000000\n",
      "838/838 [==============================] - 5s 6ms/step - loss: 0.3654 - accuracy: 0.6663 - val_loss: 0.6102 - val_accuracy: 0.6663\n",
      "Epoch 25/1000000\n",
      "838/838 [==============================] - 5s 6ms/step - loss: 0.3658 - accuracy: 0.6666 - val_loss: 0.5976 - val_accuracy: 0.6744\n",
      "Epoch 26/1000000\n",
      "838/838 [==============================] - 5s 6ms/step - loss: 0.3656 - accuracy: 0.6703 - val_loss: 0.6177 - val_accuracy: 0.6587\n",
      "Epoch 27/1000000\n",
      "838/838 [==============================] - 5s 6ms/step - loss: 0.3657 - accuracy: 0.6682 - val_loss: 0.5702 - val_accuracy: 0.6800\n",
      "INFO:tensorflow:Assets written to: ./saved_models/checkpoint/assets\n"
     ]
    },
    {
     "name": "stderr",
     "output_type": "stream",
     "text": [
      "INFO:tensorflow:Assets written to: ./saved_models/checkpoint/assets\n"
     ]
    },
    {
     "name": "stdout",
     "output_type": "stream",
     "text": [
      "Epoch 28/1000000\n",
      "838/838 [==============================] - 5s 6ms/step - loss: 0.3649 - accuracy: 0.6683 - val_loss: 0.5611 - val_accuracy: 0.6754\n",
      "INFO:tensorflow:Assets written to: ./saved_models/checkpoint/assets\n"
     ]
    },
    {
     "name": "stderr",
     "output_type": "stream",
     "text": [
      "INFO:tensorflow:Assets written to: ./saved_models/checkpoint/assets\n"
     ]
    },
    {
     "name": "stdout",
     "output_type": "stream",
     "text": [
      "Epoch 29/1000000\n",
      "838/838 [==============================] - 5s 6ms/step - loss: 0.3655 - accuracy: 0.6637 - val_loss: 0.5621 - val_accuracy: 0.6763\n",
      "Epoch 30/1000000\n",
      "838/838 [==============================] - 5s 6ms/step - loss: 0.3637 - accuracy: 0.6656 - val_loss: 0.6125 - val_accuracy: 0.6597\n",
      "Epoch 31/1000000\n",
      "838/838 [==============================] - 5s 6ms/step - loss: 0.3641 - accuracy: 0.6668 - val_loss: 0.5744 - val_accuracy: 0.6780\n",
      "Epoch 32/1000000\n",
      "838/838 [==============================] - 5s 6ms/step - loss: 0.3636 - accuracy: 0.6796 - val_loss: 0.6077 - val_accuracy: 0.6759\n",
      "Epoch 33/1000000\n",
      "838/838 [==============================] - 5s 6ms/step - loss: 0.3644 - accuracy: 0.6686 - val_loss: 0.6098 - val_accuracy: 0.6668\n",
      "Epoch 34/1000000\n",
      "838/838 [==============================] - 5s 6ms/step - loss: 0.3633 - accuracy: 0.6709 - val_loss: 0.6123 - val_accuracy: 0.6587\n",
      "Epoch 35/1000000\n",
      "838/838 [==============================] - 5s 6ms/step - loss: 0.3624 - accuracy: 0.6729 - val_loss: 0.5872 - val_accuracy: 0.6849\n",
      "Epoch 36/1000000\n",
      "838/838 [==============================] - 5s 6ms/step - loss: 0.3635 - accuracy: 0.6774 - val_loss: 0.6726 - val_accuracy: 0.6561\n",
      "Epoch 37/1000000\n",
      "838/838 [==============================] - 5s 6ms/step - loss: 0.3647 - accuracy: 0.6688 - val_loss: 0.5823 - val_accuracy: 0.6621\n",
      "Epoch 38/1000000\n",
      "838/838 [==============================] - 5s 6ms/step - loss: 0.3652 - accuracy: 0.6648 - val_loss: 0.6292 - val_accuracy: 0.6449\n",
      "Epoch 39/1000000\n",
      "838/838 [==============================] - 5s 6ms/step - loss: 0.3621 - accuracy: 0.6522 - val_loss: 0.6015 - val_accuracy: 0.6508\n"
     ]
    }
   ],
   "source": [
    "\n",
    "history = model.fit(x_train, label_train, sample_weight=train['genWeight'], validation_data=(x_val, label_val), epochs=1000000, verbose=1, \n",
    "                    batch_size = 400, callbacks=[early_stopping, checkpoint])"
   ]
  },
  {
   "cell_type": "code",
   "execution_count": 66,
   "metadata": {},
   "outputs": [
    {
     "name": "stdout",
     "output_type": "stream",
     "text": [
      "INFO:tensorflow:Assets written to: ./saved_models/TEST9_with_initial_vars_for_score_hist/assets\n"
     ]
    },
    {
     "name": "stderr",
     "output_type": "stream",
     "text": [
      "INFO:tensorflow:Assets written to: ./saved_models/TEST9_with_initial_vars_for_score_hist/assets\n"
     ]
    }
   ],
   "source": [
    "model.save('./saved_models/TEST9_with_initial_vars_for_score_hist')"
   ]
  },
  {
   "cell_type": "code",
   "execution_count": 67,
   "metadata": {},
   "outputs": [
    {
     "name": "stdout",
     "output_type": "stream",
     "text": [
      "Train: 0.644, Test: 0.644\n"
     ]
    }
   ],
   "source": [
    "model = tf.keras.models.load_model(\"./saved_models/TEST9_with_initial_vars_for_score_hist\")\n",
    "\n",
    "_, train_acc = model.evaluate(x_train, label_train, verbose=0)\n",
    "_, test_acc = model.evaluate(x_test, label_test, verbose=0)\n",
    "print('Train: %.3f, Test: %.3f' % (train_acc, test_acc))"
   ]
  },
  {
   "cell_type": "code",
   "execution_count": 71,
   "metadata": {},
   "outputs": [],
   "source": [
    "scores = model.predict(x_test)\n",
    "output_test = pd.DataFrame({'scores':np.ravel(scores), 'genWeight':test['genWeight'], 'signal_label':label_test})"
   ]
  },
  {
   "cell_type": "code",
   "execution_count": 80,
   "metadata": {},
   "outputs": [],
   "source": [
    "def plot_hist(dataframe, keys, keys_label, bins_list, normalize = True, mode='n_tauh', return_counts = False):\n",
    "    colors = plt.rcParams['axes.prop_cycle'].by_key()['color']\n",
    "\n",
    "    if type(dataframe) == dict:\n",
    "        data_pd = pd.DataFrame(dataframe)\n",
    "    else:\n",
    "        data_pd = dataframe.copy()\n",
    "\n",
    "    sub_df = {}\n",
    "    if mode == 'n_tauh':\n",
    "        sub_df_keys =  [\"signal\", \"bkg_0\", \"bkg_1\", \"bkg_2\"]\n",
    "        event_type_labels = [\"signal\", r\"$background\\ 0\\times\\tau_h$\", r\"$background\\ 1\\times\\tau_h$\", r\"$background\\ 2\\times\\tau_h$\"]\n",
    "        signal = data_pd.loc[data_pd['signal_label']==1]\n",
    "        background = data_pd.loc[data_pd['signal_label']==0]\n",
    "        background_0 = background.loc[background['n_tauh']==0]\n",
    "        background_1 = background.loc[background['n_tauh']==1]\n",
    "        background_2 = background.loc[background['n_tauh']==2]\n",
    "        sub_df[sub_df_keys[0]] = signal\n",
    "        sub_df[sub_df_keys[1]] = background_0\n",
    "        sub_df[sub_df_keys[2]] = background_1\n",
    "        sub_df[sub_df_keys[3]] = background_2\n",
    "    elif mode == 'simple':\n",
    "        sub_df_keys = ['Data']\n",
    "        event_type_labels = [None]\n",
    "        sub_df['Data'] = data_pd\n",
    "    elif mode == 'simple_signal_label':\n",
    "        sub_df_keys =  [\"signal\", \"bkg\"]\n",
    "        event_type_labels = ['signal', 'background']\n",
    "        signal = data_pd.loc[data_pd['signal_label'] == 1]\n",
    "        background = data_pd.loc[data_pd['signal_label']==0]\n",
    "        sub_df[sub_df_keys[0]] = signal\n",
    "        sub_df[sub_df_keys[1]] = background\n",
    "    else:\n",
    "        raise ValueError(f\"The mode {mode} is not valid\")\n",
    "    \n",
    "    figs = []\n",
    "    counts = []\n",
    "\n",
    "    if type(keys) != list:\n",
    "        keys = [keys]\n",
    "        keys_label = [keys_label]\n",
    "        bins_list = [bins_list]\n",
    "    \n",
    "    for i,key in enumerate(keys):\n",
    "        fig, ax = plt.subplots(1, 1, figsize=(10, 6))\n",
    "\n",
    "        # dictionary for counts/errors\n",
    "        sub_dicts = []\n",
    "        for k in range(len(list(sub_df.keys()))):\n",
    "            sub_dicts.append({'counts':[], 'errors':[]})\n",
    "        counts_j = dict(zip(list(sub_df.keys()), sub_dicts))\n",
    "\n",
    "        for j,event_type in enumerate(sub_df.keys()):\n",
    "            \n",
    "            df = sub_df[event_type]\n",
    "            \n",
    "            if 'genWeight' not in list(df.keys()):\n",
    "                df['genWeight'] = np.ones_like(df[list(df.keys())[0]])\n",
    "            print(key)\n",
    "            print(i)\n",
    "            print(list(df.keys()))\n",
    "            c,b = np.histogram(df[key], bins=bins_list[i], weights=df['genWeight'])\n",
    "            c2,_ = np.histogram(df[key], bins=bins_list[i], weights=df['genWeight']**2)\n",
    "            if normalize:\n",
    "                norm = np.sum(c)\n",
    "                c /= norm\n",
    "                c2 /= norm**2\n",
    "            error = np.sqrt(c2)\n",
    "\n",
    "            counts_j[event_type]['counts'] = c\n",
    "            counts_j[event_type]['errors'] = error\n",
    "            \n",
    "            if event_type_labels[j] != None:\n",
    "                ax.stairs(c, b, label=event_type_labels[j], linewidth=2)\n",
    "            else:\n",
    "                ax.stairs(c, b, linewidth=2)\n",
    "            # ax.errorbar((b[1:]+b[:-1])/2, c, yerr = np.sqrt(c2), marker = '.',drawstyle = 'steps-mid', color=colors[j])\n",
    "            ax.errorbar((b[1:]+b[:-1])/2, c, yerr = error,fmt='.', color='k', linewidth=1)\n",
    "            ax.set_xlabel(keys_label[i])\n",
    "            if mode != 'simple':\n",
    "                ax.legend()\n",
    "            ax.grid(True)\n",
    "        figs.append(fig)\n",
    "        counts.append(counts_j)\n",
    "    if return_counts:\n",
    "        return figs, counts\n",
    "    return figs"
   ]
  },
  {
   "cell_type": "code",
   "execution_count": 76,
   "metadata": {},
   "outputs": [],
   "source": [
    "import matplotlib as mpl\n",
    "import matplotlib.pyplot as plt\n",
    "mpl.rcParams.update({\"font.size\": 16, \"font.family\": \"serif\"})\n",
    "colors = plt.rcParams['axes.prop_cycle'].by_key()['color']"
   ]
  },
  {
   "cell_type": "code",
   "execution_count": 81,
   "metadata": {},
   "outputs": [
    {
     "name": "stdout",
     "output_type": "stream",
     "text": [
      "scores\n",
      "0\n",
      "['scores', 'genWeight', 'signal_label']\n",
      "scores\n",
      "0\n",
      "['scores', 'genWeight', 'signal_label']\n"
     ]
    },
    {
     "data": {
      "image/png": "[encoded data removed]",
      "text/plain": [
       "<Figure size 720x432 with 1 Axes>"
      ]
     },
     "metadata": {
      "needs_background": "light"
     },
     "output_type": "display_data"
    }
   ],
   "source": [
    "bins_list = np.linspace(0,1,19)\n",
    "figs, counts = plot_hist(output_test, 'scores', 'DNN score', bins_list, normalize = True, mode='simple_signal_label', return_counts=True)\n",
    "figs[0].savefig(\"Images/TEST9_ttm_score_hist.pdf\")"
   ]
  },
  {
   "cell_type": "code",
   "execution_count": 91,
   "metadata": {},
   "outputs": [
    {
     "name": "stdout",
     "output_type": "stream",
     "text": [
      "Missclassified signal : 5.47%\n",
      "Correctly classified signal : 94.53%\n",
      "Missclassified background : 28.85%\n",
      "Correctly classified background : 71.15%\n"
     ]
    }
   ],
   "source": [
    "bins_center = (bins_list[1:]+bins_list[:-1])/2\n",
    "classed_bkg = (bins_center < 0.5)\n",
    "values_s = counts[0]['signal']['counts']\n",
    "values_b = counts[0]['bkg']['counts']\n",
    "ratio_miss_s = values_s[classed_bkg].sum()/values_s.sum()\n",
    "ratio_well_s = values_s[(1-classed_bkg).astype(bool)].sum()/values_s.sum()\n",
    "ratio_miss_b = values_b[(1-classed_bkg).astype(bool)].sum()/values_b.sum()\n",
    "ratio_well_b = values_b[classed_bkg].sum()/values_b.sum()\n",
    "print(\"Missclassified signal : {:.2f}%\".format(ratio_miss_s*100))\n",
    "print(\"Correctly classified signal : {:.2f}%\".format(ratio_well_s*100))\n",
    "print(\"Missclassified background : {:.2f}%\".format(ratio_miss_b*100))\n",
    "print(\"Correctly classified background : {:.2f}%\".format(ratio_well_b*100))\n"
   ]
  }
 ],
 "metadata": {
  "kernelspec": {
   "display_name": "Python 3",
   "language": "python",
   "name": "python3"
  },
  "language_info": {
   "codemirror_mode": {
    "name": "ipython",
    "version": 3
   },
   "file_extension": ".py",
   "mimetype": "text/x-python",
   "name": "python",
   "nbconvert_exporter": "python",
   "pygments_lexer": "ipython3",
   "version": "3.8.13"
  },
  "orig_nbformat": 4
 },
 "nbformat": 4,
 "nbformat_minor": 2
}
