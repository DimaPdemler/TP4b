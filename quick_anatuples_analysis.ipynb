{
 "cells": [
  {
   "cell_type": "code",
   "execution_count": 1,
   "id": "59d0d8f1",
   "metadata": {},
   "outputs": [],
   "source": [
    "import numpy as np\n",
    "import pandas as pd\n",
    "import matplotlib.pyplot as plt\n",
    "import uproot"
   ]
  },
  {
   "cell_type": "code",
   "execution_count": 7,
   "id": "3f746fb5",
   "metadata": {},
   "outputs": [],
   "source": [
    "anatuple_150 = uproot.open(\"/data/hnl/prompt_tau/anatuple/nanoV10/TEST6/ttm_DeepTau2p5/HNL_tau_M-150_anatuple.root\")['Event;1']\n",
    "anatuple_500 = uproot.open(\"/data/hnl/prompt_tau/anatuple/nanoV10/TEST6/ttm_DeepTau2p5/HNL_tau_M-500_anatuple.root\")['Event;1']\n",
    "anatuple_1000 = uproot.open(\"/data/hnl/prompt_tau/anatuple/nanoV10/TEST6/ttm_DeepTau2p5/HNL_tau_M-1000_anatuple.root\")['Event;1']"
   ]
  },
  {
   "cell_type": "code",
   "execution_count": 18,
   "id": "4ac1225d",
   "metadata": {},
   "outputs": [
    {
     "name": "stdout",
     "output_type": "stream",
     "text": [
      "<class 'dict'>\n"
     ]
    }
   ],
   "source": [
    "print(type(anatuple_150.arrays(['event', 'genWeight'], library=\"np\")))"
   ]
  },
  {
   "cell_type": "code",
   "execution_count": 8,
   "id": "47470e39",
   "metadata": {},
   "outputs": [
    {
     "name": "stdout",
     "output_type": "stream",
     "text": [
      "['event', 'genWeight', 'luminosityBlock', 'run', 'MET_pt', 'MET_phi', 'nAdditionalMuon', 'nbjets', 'Muon_dxy', 'Muon_dz', 'Muon_eta', 'Muon_mass', 'Muon_pfRelIso03_all', 'Muon_pfRelIso03_chg', 'Muon_pfRelIso04_all', 'Muon_phi', 'Muon_pt', 'Muon_ptErr', 'Muon_softMva', 'Muon_tunepRelPt', 'Muon_mvaLowPt', 'Muon_charge', 'Muon_jetIdx', 'Muon_pdgId', 'Muon_tightCharge', 'Muon_highPtId', 'Muon_highPurity', 'Muon_inTimeMuon', 'Muon_isGlobal', 'Muon_isPFcand', 'Muon_isStandalone', 'Muon_isTracker', 'Muon_looseId', 'Muon_mediumId', 'Muon_mediumPromptId', 'Muon_miniIsoId', 'Muon_multiIsoId', 'Muon_mvaId', 'Muon_mvaLowPtId', 'Muon_pfIsoId', 'Muon_puppiIsoId', 'Muon_softId', 'Muon_softMvaId', 'Muon_tightId', 'Muon_tkIsoId', 'Muon_triggerIdLoose', 'Muon_genPartIdx', 'Muon_genPartFlav', 'Tau1_dxy', 'Tau1_dz', 'Tau1_eta', 'Tau1_mass', 'Tau1_phi', 'Tau1_pt', 'Tau1_rawDeepTau2017v2p1VSe', 'Tau1_rawDeepTau2017v2p1VSjet', 'Tau1_rawDeepTau2017v2p1VSmu', 'Tau1_rawDeepTau2018v2p5VSe', 'Tau1_rawDeepTau2018v2p5VSjet', 'Tau1_rawDeepTau2018v2p5VSmu', 'Tau1_rawIso', 'Tau1_rawIsodR03', 'Tau1_charge', 'Tau1_decayMode', 'Tau1_jetIdx', 'Tau1_idAntiMu', 'Tau1_idDeepTau2017v2p1VSe', 'Tau1_idDeepTau2017v2p1VSjet', 'Tau1_idDeepTau2017v2p1VSmu', 'Tau1_idDeepTau2018v2p5VSe', 'Tau1_idDeepTau2018v2p5VSjet', 'Tau1_idDeepTau2018v2p5VSmu', 'Tau1_genPartIdx', 'Tau1_genPartFlav', 'Tau1_Jet_pt', 'Tau1_Jet_eta', 'Tau1_Jet_phi', 'Tau1_Jet_mass', 'Tau1_Jet_jetId', 'Tau1_Jet_valid', 'Tau1_GenJet_eta', 'Tau1_GenJet_mass', 'Tau1_GenJet_phi', 'Tau1_GenJet_pt', 'Tau1_GenJet_partonFlavour', 'Tau1_GenJet_hadronFlavour', 'Tau1_GenJet_valid', 'Tau2_dxy', 'Tau2_dz', 'Tau2_eta', 'Tau2_mass', 'Tau2_phi', 'Tau2_pt', 'Tau2_rawDeepTau2017v2p1VSe', 'Tau2_rawDeepTau2017v2p1VSjet', 'Tau2_rawDeepTau2017v2p1VSmu', 'Tau2_rawDeepTau2018v2p5VSe', 'Tau2_rawDeepTau2018v2p5VSjet', 'Tau2_rawDeepTau2018v2p5VSmu', 'Tau2_rawIso', 'Tau2_rawIsodR03', 'Tau2_charge', 'Tau2_decayMode', 'Tau2_jetIdx', 'Tau2_idAntiMu', 'Tau2_idDeepTau2017v2p1VSe', 'Tau2_idDeepTau2017v2p1VSjet', 'Tau2_idDeepTau2017v2p1VSmu', 'Tau2_idDeepTau2018v2p5VSe', 'Tau2_idDeepTau2018v2p5VSjet', 'Tau2_idDeepTau2018v2p5VSmu', 'Tau2_genPartIdx', 'Tau2_genPartFlav', 'Tau2_Jet_pt', 'Tau2_Jet_eta', 'Tau2_Jet_phi', 'Tau2_Jet_mass', 'Tau2_Jet_jetId', 'Tau2_Jet_valid', 'Tau2_GenJet_eta', 'Tau2_GenJet_mass', 'Tau2_GenJet_phi', 'Tau2_GenJet_pt', 'Tau2_GenJet_partonFlavour', 'Tau2_GenJet_hadronFlavour', 'Tau2_GenJet_valid']\n"
     ]
    },
    {
     "data": {
      "text/plain": [
       "False"
      ]
     },
     "execution_count": 8,
     "metadata": {},
     "output_type": "execute_result"
    }
   ],
   "source": [
    "print(list(anatuple_150.keys()))"
   ]
  },
  {
   "cell_type": "markdown",
   "id": "ef37cc5b",
   "metadata": {},
   "source": []
  },
  {
   "cell_type": "code",
   "execution_count": 4,
   "id": "2dc78268",
   "metadata": {},
   "outputs": [
    {
     "name": "stdout",
     "output_type": "stream",
     "text": [
      "name                 | typename                 | interpretation                \n",
      "---------------------+--------------------------+-------------------------------\n",
      "event                | uint64_t                 | AsDtype('>u8')\n",
      "genWeight            | double                   | AsDtype('>f8')\n",
      "luminosityBlock      | uint32_t                 | AsDtype('>u4')\n",
      "run                  | uint32_t                 | AsDtype('>u4')\n",
      "MET_pt               | float                    | AsDtype('>f4')\n",
      "MET_phi              | float                    | AsDtype('>f4')\n",
      "nAdditionalMuon      | int64_t                  | AsDtype('>i8')\n",
      "nbjets               | int64_t                  | AsDtype('>i8')\n",
      "Muon_dxy             | float                    | AsDtype('>f4')\n",
      "Muon_dz              | float                    | AsDtype('>f4')\n",
      "Muon_eta             | float                    | AsDtype('>f4')\n",
      "Muon_mass            | float                    | AsDtype('>f4')\n",
      "Muon_pfRelIso03_all  | float                    | AsDtype('>f4')\n",
      "Muon_pfRelIso03_chg  | float                    | AsDtype('>f4')\n",
      "Muon_pfRelIso04_all  | float                    | AsDtype('>f4')\n",
      "Muon_phi             | float                    | AsDtype('>f4')\n",
      "Muon_pt              | float                    | AsDtype('>f4')\n",
      "Muon_ptErr           | float                    | AsDtype('>f4')\n",
      "Muon_softMva         | float                    | AsDtype('>f4')\n",
      "Muon_tunepRelPt      | float                    | AsDtype('>f4')\n",
      "Muon_mvaLowPt        | float                    | AsDtype('>f4')\n",
      "Muon_charge          | int32_t                  | AsDtype('>i4')\n",
      "Muon_jetIdx          | int32_t                  | AsDtype('>i4')\n",
      "Muon_pdgId           | int32_t                  | AsDtype('>i4')\n",
      "Muon_tightCharge     | int32_t                  | AsDtype('>i4')\n",
      "Muon_highPtId        | uint8_t                  | AsDtype('uint8')\n",
      "Muon_highPurity      | bool                     | AsDtype('bool')\n",
      "Muon_inTimeMuon      | bool                     | AsDtype('bool')\n",
      "Muon_isGlobal        | bool                     | AsDtype('bool')\n",
      "Muon_isPFcand        | bool                     | AsDtype('bool')\n",
      "Muon_isStandalone    | bool                     | AsDtype('bool')\n",
      "Muon_isTracker       | bool                     | AsDtype('bool')\n",
      "Muon_looseId         | bool                     | AsDtype('bool')\n",
      "Muon_mediumId        | bool                     | AsDtype('bool')\n",
      "Muon_mediumPromptId  | bool                     | AsDtype('bool')\n",
      "Muon_miniIsoId       | uint8_t                  | AsDtype('uint8')\n",
      "Muon_multiIsoId      | uint8_t                  | AsDtype('uint8')\n",
      "Muon_mvaId           | uint8_t                  | AsDtype('uint8')\n",
      "Muon_mvaLowPtId      | uint8_t                  | AsDtype('uint8')\n",
      "Muon_pfIsoId         | uint8_t                  | AsDtype('uint8')\n",
      "Muon_puppiIsoId      | uint8_t                  | AsDtype('uint8')\n",
      "Muon_softId          | bool                     | AsDtype('bool')\n",
      "Muon_softMvaId       | bool                     | AsDtype('bool')\n",
      "Muon_tightId         | bool                     | AsDtype('bool')\n",
      "Muon_tkIsoId         | uint8_t                  | AsDtype('uint8')\n",
      "Muon_triggerIdLoose  | bool                     | AsDtype('bool')\n",
      "Muon_genPartIdx      | int32_t                  | AsDtype('>i4')\n",
      "Muon_genPartFlav     | uint8_t                  | AsDtype('uint8')\n",
      "Tau1_dxy             | float                    | AsDtype('>f4')\n",
      "Tau1_dz              | float                    | AsDtype('>f4')\n",
      "Tau1_eta             | float                    | AsDtype('>f4')\n",
      "Tau1_mass            | float                    | AsDtype('>f4')\n",
      "Tau1_phi             | float                    | AsDtype('>f4')\n",
      "Tau1_pt              | float                    | AsDtype('>f4')\n",
      "Tau1_rawDeepTau20... | float                    | AsDtype('>f4')\n",
      "Tau1_rawDeepTau20... | float                    | AsDtype('>f4')\n",
      "Tau1_rawDeepTau20... | float                    | AsDtype('>f4')\n",
      "Tau1_rawDeepTau20... | float                    | AsDtype('>f4')\n",
      "Tau1_rawDeepTau20... | float                    | AsDtype('>f4')\n",
      "Tau1_rawDeepTau20... | float                    | AsDtype('>f4')\n",
      "Tau1_rawIso          | float                    | AsDtype('>f4')\n",
      "Tau1_rawIsodR03      | float                    | AsDtype('>f4')\n",
      "Tau1_charge          | int32_t                  | AsDtype('>i4')\n",
      "Tau1_decayMode       | int32_t                  | AsDtype('>i4')\n",
      "Tau1_jetIdx          | int32_t                  | AsDtype('>i4')\n",
      "Tau1_idAntiMu        | uint8_t                  | AsDtype('uint8')\n",
      "Tau1_idDeepTau201... | uint8_t                  | AsDtype('uint8')\n",
      "Tau1_idDeepTau201... | uint8_t                  | AsDtype('uint8')\n",
      "Tau1_idDeepTau201... | uint8_t                  | AsDtype('uint8')\n",
      "Tau1_idDeepTau201... | uint8_t                  | AsDtype('uint8')\n",
      "Tau1_idDeepTau201... | uint8_t                  | AsDtype('uint8')\n",
      "Tau1_idDeepTau201... | uint8_t                  | AsDtype('uint8')\n",
      "Tau1_genPartIdx      | int32_t                  | AsDtype('>i4')\n",
      "Tau1_genPartFlav     | uint8_t                  | AsDtype('uint8')\n",
      "Tau1_Jet_pt          | float[1]                 | AsDtype(\"('>f4', (1,))\")\n",
      "Tau1_Jet_eta         | float[1]                 | AsDtype(\"('>f4', (1,))\")\n",
      "Tau1_Jet_phi         | float[1]                 | AsDtype(\"('>f4', (1,))\")\n",
      "Tau1_Jet_mass        | float[1]                 | AsDtype(\"('>f4', (1,))\")\n",
      "Tau1_Jet_jetId       | int32_t[1]               | AsDtype(\"('>i4', (1,))\")\n",
      "Tau1_Jet_valid       | bool[1]                  | AsDtype(\"('?', (1,))\")\n",
      "Tau1_GenJet_eta      | float[1]                 | AsDtype(\"('>f4', (1,))\")\n",
      "Tau1_GenJet_mass     | float[1]                 | AsDtype(\"('>f4', (1,))\")\n",
      "Tau1_GenJet_phi      | float[1]                 | AsDtype(\"('>f4', (1,))\")\n",
      "Tau1_GenJet_pt       | float[1]                 | AsDtype(\"('>f4', (1,))\")\n",
      "Tau1_GenJet_parto... | int32_t[1]               | AsDtype(\"('>i4', (1,))\")\n",
      "Tau1_GenJet_hadro... | uint8_t[1]               | AsDtype(\"('u1', (1,))\")\n",
      "Tau1_GenJet_valid    | bool[1]                  | AsDtype(\"('?', (1,))\")\n",
      "Tau2_dxy             | float                    | AsDtype('>f4')\n",
      "Tau2_dz              | float                    | AsDtype('>f4')\n",
      "Tau2_eta             | float                    | AsDtype('>f4')\n",
      "Tau2_mass            | float                    | AsDtype('>f4')\n",
      "Tau2_phi             | float                    | AsDtype('>f4')\n",
      "Tau2_pt              | float                    | AsDtype('>f4')\n",
      "Tau2_rawDeepTau20... | float                    | AsDtype('>f4')\n",
      "Tau2_rawDeepTau20... | float                    | AsDtype('>f4')\n",
      "Tau2_rawDeepTau20... | float                    | AsDtype('>f4')\n",
      "Tau2_rawDeepTau20... | float                    | AsDtype('>f4')\n",
      "Tau2_rawDeepTau20... | float                    | AsDtype('>f4')\n",
      "Tau2_rawDeepTau20... | float                    | AsDtype('>f4')\n",
      "Tau2_rawIso          | float                    | AsDtype('>f4')\n",
      "Tau2_rawIsodR03      | float                    | AsDtype('>f4')\n",
      "Tau2_charge          | int32_t                  | AsDtype('>i4')\n",
      "Tau2_decayMode       | int32_t                  | AsDtype('>i4')\n",
      "Tau2_jetIdx          | int32_t                  | AsDtype('>i4')\n",
      "Tau2_idAntiMu        | uint8_t                  | AsDtype('uint8')\n",
      "Tau2_idDeepTau201... | uint8_t                  | AsDtype('uint8')\n",
      "Tau2_idDeepTau201... | uint8_t                  | AsDtype('uint8')\n",
      "Tau2_idDeepTau201... | uint8_t                  | AsDtype('uint8')\n",
      "Tau2_idDeepTau201... | uint8_t                  | AsDtype('uint8')\n",
      "Tau2_idDeepTau201... | uint8_t                  | AsDtype('uint8')\n",
      "Tau2_idDeepTau201... | uint8_t                  | AsDtype('uint8')\n",
      "Tau2_genPartIdx      | int32_t                  | AsDtype('>i4')\n",
      "Tau2_genPartFlav     | uint8_t                  | AsDtype('uint8')\n",
      "Tau2_Jet_pt          | float[1]                 | AsDtype(\"('>f4', (1,))\")\n",
      "Tau2_Jet_eta         | float[1]                 | AsDtype(\"('>f4', (1,))\")\n",
      "Tau2_Jet_phi         | float[1]                 | AsDtype(\"('>f4', (1,))\")\n",
      "Tau2_Jet_mass        | float[1]                 | AsDtype(\"('>f4', (1,))\")\n",
      "Tau2_Jet_jetId       | int32_t[1]               | AsDtype(\"('>i4', (1,))\")\n",
      "Tau2_Jet_valid       | bool[1]                  | AsDtype(\"('?', (1,))\")\n",
      "Tau2_GenJet_eta      | float[1]                 | AsDtype(\"('>f4', (1,))\")\n",
      "Tau2_GenJet_mass     | float[1]                 | AsDtype(\"('>f4', (1,))\")\n",
      "Tau2_GenJet_phi      | float[1]                 | AsDtype(\"('>f4', (1,))\")\n",
      "Tau2_GenJet_pt       | float[1]                 | AsDtype(\"('>f4', (1,))\")\n",
      "Tau2_GenJet_parto... | int32_t[1]               | AsDtype(\"('>i4', (1,))\")\n",
      "Tau2_GenJet_hadro... | uint8_t[1]               | AsDtype(\"('u1', (1,))\")\n",
      "Tau2_GenJet_valid    | bool[1]                  | AsDtype(\"('?', (1,))\")\n"
     ]
    }
   ],
   "source": [
    "anatuple_150.show()"
   ]
  },
  {
   "cell_type": "code",
   "execution_count": 90,
   "id": "97edc14e",
   "metadata": {},
   "outputs": [],
   "source": [
    "tau1_pt_150 = anatuple_150['Tau1_pt']\n",
    "tau1_eta_150 = anatuple_150['Tau1_eta']\n",
    "tau1_phi_150 = anatuple_150['Tau1_phi']\n",
    "tau1_mass_150 = anatuple_150['Tau1_mass']"
   ]
  },
  {
   "cell_type": "code",
   "execution_count": null,
   "id": "b7522b81",
   "metadata": {},
   "outputs": [],
   "source": [
    "i = 0"
   ]
  },
  {
   "cell_type": "code",
   "execution_count": 88,
   "id": "cc1b010a",
   "metadata": {},
   "outputs": [
    {
     "name": "stdout",
     "output_type": "stream",
     "text": [
      "[{Tau1_Jet_mass: [5.23]}, {Tau1_Jet_mass: [2.82, ... 5.48]}, {Tau1_Jet_mass: [6.02]}]\n"
     ]
    }
   ],
   "source": [
    "print(anatuple_150[anatuple_150.keys()[i]].arrays())\n",
    "i += 1"
   ]
  },
  {
   "cell_type": "code",
   "execution_count": 91,
   "id": "26f1acc7",
   "metadata": {},
   "outputs": [
    {
     "name": "stdout",
     "output_type": "stream",
     "text": [
      "7245\n",
      "7245\n",
      "7245\n",
      "7245\n"
     ]
    }
   ],
   "source": [
    "print(tau1_pt_150.num_entries)\n",
    "print(tau1_eta_150.num_entries)\n",
    "print(tau1_phi_150.num_entries)\n",
    "print(tau1_mass_150.num_entries)"
   ]
  },
  {
   "cell_type": "code",
   "execution_count": 92,
   "id": "9d838e56",
   "metadata": {},
   "outputs": [],
   "source": [
    "pt_150 = tau1_pt_150.array()\n",
    "eta_150 = tau1_eta_150.array()\n",
    "phi_150 = tau1_phi_150.array()\n",
    "mass_150 = tau1_mass_150.array()"
   ]
  },
  {
   "cell_type": "code",
   "execution_count": 8,
   "id": "72de896a",
   "metadata": {},
   "outputs": [
    {
     "name": "stdout",
     "output_type": "stream",
     "text": [
      "20.004453659057617 633.7105712890625\n"
     ]
    },
    {
     "data": {
      "text/plain": [
       "(array([2.684e+03, 2.237e+03, 1.074e+03, 5.140e+02, 2.660e+02, 1.580e+02,\n",
       "        1.140e+02, 5.600e+01, 3.100e+01, 3.100e+01, 1.400e+01, 2.100e+01,\n",
       "        1.100e+01, 1.100e+01, 7.000e+00, 3.000e+00, 2.000e+00, 5.000e+00,\n",
       "        1.000e+00, 1.000e+00, 2.000e+00, 1.000e+00, 0.000e+00, 0.000e+00,\n",
       "        0.000e+00, 0.000e+00, 0.000e+00, 1.000e+00, 0.000e+00, 0.000e+00]),\n",
       " array([ 15.      ,  37.833332,  60.666668,  83.5     , 106.333336,\n",
       "        129.16667 , 152.      , 174.83333 , 197.66667 , 220.5     ,\n",
       "        243.33333 , 266.16666 , 289.      , 311.83334 , 334.66666 ,\n",
       "        357.5     , 380.33334 , 403.16666 , 426.      , 448.83334 ,\n",
       "        471.66666 , 494.5     , 517.3333  , 540.1667  , 563.      ,\n",
       "        585.8333  , 608.6667  , 631.5     , 654.3333  , 677.1667  ,\n",
       "        700.      ], dtype=float32),\n",
       " <BarContainer object of 30 artists>)"
      ]
     },
     "execution_count": 8,
     "metadata": {},
     "output_type": "execute_result"
    },
    {
     "data": {
      "image/png": "[encoded data removed]",
      "text/plain": [
       "<Figure size 432x288 with 1 Axes>"
      ]
     },
     "metadata": {
      "needs_background": "light"
     },
     "output_type": "display_data"
    }
   ],
   "source": [
    "print(min(pt_150), max(pt_150))\n",
    "plt.hist(pt_150, range = [15,700], bins=30)"
   ]
  },
  {
   "cell_type": "code",
   "execution_count": 9,
   "id": "a14525cb",
   "metadata": {},
   "outputs": [
    {
     "name": "stdout",
     "output_type": "stream",
     "text": [
      "-2.298828125 2.2998046875\n"
     ]
    },
    {
     "data": {
      "text/plain": [
       "(array([  0.,   0.,   0.,  56., 118., 166., 181., 225., 281., 369., 383.,\n",
       "        414., 490., 467., 442., 444., 488., 460., 443., 397., 326., 299.,\n",
       "        221., 200., 181., 140.,  54.,   0.,   0.,   0.]),\n",
       " array([-3. , -2.8, -2.6, -2.4, -2.2, -2. , -1.8, -1.6, -1.4, -1.2, -1. ,\n",
       "        -0.8, -0.6, -0.4, -0.2,  0. ,  0.2,  0.4,  0.6,  0.8,  1. ,  1.2,\n",
       "         1.4,  1.6,  1.8,  2. ,  2.2,  2.4,  2.6,  2.8,  3. ],\n",
       "       dtype=float32),\n",
       " <BarContainer object of 30 artists>)"
      ]
     },
     "execution_count": 9,
     "metadata": {},
     "output_type": "execute_result"
    },
    {
     "data": {
      "image/png": "[encoded data removed]",
      "text/plain": [
       "<Figure size 432x288 with 1 Axes>"
      ]
     },
     "metadata": {
      "needs_background": "light"
     },
     "output_type": "display_data"
    }
   ],
   "source": [
    "print(min(eta_150), max(eta_150))\n",
    "plt.hist(eta_150, range = [-3,3], bins=30)"
   ]
  },
  {
   "cell_type": "code",
   "execution_count": 10,
   "id": "8af9557a",
   "metadata": {},
   "outputs": [
    {
     "name": "stdout",
     "output_type": "stream",
     "text": [
      "-3.140625 3.1416015625\n"
     ]
    },
    {
     "data": {
      "text/plain": [
       "(array([231., 242., 244., 240., 239., 216., 227., 267., 232., 250., 252.,\n",
       "        245., 246., 262., 243., 252., 229., 210., 218., 254., 269., 235.,\n",
       "        214., 237., 262., 233., 245., 248., 242., 260.]),\n",
       " array([-3.1415927 , -2.9321532 , -2.7227137 , -2.5132742 , -2.3038347 ,\n",
       "        -2.0943952 , -1.8849556 , -1.6755161 , -1.4660766 , -1.2566371 ,\n",
       "        -1.0471976 , -0.83775806, -0.62831855, -0.41887903, -0.20943952,\n",
       "         0.        ,  0.20943952,  0.41887903,  0.62831855,  0.83775806,\n",
       "         1.0471976 ,  1.2566371 ,  1.4660766 ,  1.6755161 ,  1.8849556 ,\n",
       "         2.0943952 ,  2.3038347 ,  2.5132742 ,  2.7227137 ,  2.9321532 ,\n",
       "         3.1415927 ], dtype=float32),\n",
       " <BarContainer object of 30 artists>)"
      ]
     },
     "execution_count": 10,
     "metadata": {},
     "output_type": "execute_result"
    },
    {
     "data": {
      "image/png": "[encoded data removed]",
      "text/plain": [
       "<Figure size 432x288 with 1 Axes>"
      ]
     },
     "metadata": {
      "needs_background": "light"
     },
     "output_type": "display_data"
    }
   ],
   "source": [
    "print(min(phi_150), max(phi_150))\n",
    "plt.hist(phi_150, range = [-np.pi,np.pi], bins=30)"
   ]
  },
  {
   "cell_type": "code",
   "execution_count": 11,
   "id": "8d20c175",
   "metadata": {},
   "outputs": [
    {
     "name": "stdout",
     "output_type": "stream",
     "text": [
      "0.1395263671875 3.96875\n"
     ]
    },
    {
     "data": {
      "text/plain": [
       "(array([1.67e+03, 5.20e+01, 2.81e+02, 5.52e+02, 9.09e+02, 9.66e+02,\n",
       "        7.91e+02, 7.25e+02, 6.42e+02, 3.63e+02, 2.02e+02, 5.70e+01,\n",
       "        1.50e+01, 7.00e+00, 3.00e+00, 1.00e+00, 3.00e+00, 1.00e+00,\n",
       "        1.00e+00, 1.00e+00, 0.00e+00, 0.00e+00, 1.00e+00, 1.00e+00,\n",
       "        0.00e+00, 0.00e+00, 0.00e+00, 0.00e+00, 0.00e+00, 1.00e+00]),\n",
       " array([0.1 , 0.23, 0.36, 0.49, 0.62, 0.75, 0.88, 1.01, 1.14, 1.27, 1.4 ,\n",
       "        1.53, 1.66, 1.79, 1.92, 2.05, 2.18, 2.31, 2.44, 2.57, 2.7 , 2.83,\n",
       "        2.96, 3.09, 3.22, 3.35, 3.48, 3.61, 3.74, 3.87, 4.  ],\n",
       "       dtype=float32),\n",
       " <BarContainer object of 30 artists>)"
      ]
     },
     "execution_count": 11,
     "metadata": {},
     "output_type": "execute_result"
    },
    {
     "data": {
      "image/png": "[encoded data removed]",
      "text/plain": [
       "<Figure size 432x288 with 1 Axes>"
      ]
     },
     "metadata": {
      "needs_background": "light"
     },
     "output_type": "display_data"
    }
   ],
   "source": [
    "print(min(mass_150), max(mass_150))\n",
    "plt.hist(mass_150, range = [0.1,4], bins=30)"
   ]
  },
  {
   "cell_type": "code",
   "execution_count": 93,
   "id": "aa17894c",
   "metadata": {},
   "outputs": [],
   "source": [
    "mass_500 = anatuple_500[\"Tau1_mass\"].array()\n",
    "mass_1000 = anatuple_1000[\"Tau1_mass\"].array()"
   ]
  },
  {
   "cell_type": "code",
   "execution_count": 100,
   "id": "e2150bd0",
   "metadata": {},
   "outputs": [
    {
     "data": {
      "image/png": "[encoded data removed]",
      "text/plain": [
       "<Figure size 720x504 with 1 Axes>"
      ]
     },
     "metadata": {
      "needs_background": "light"
     },
     "output_type": "display_data"
    }
   ],
   "source": [
    "import matplotlib as mpl\n",
    "mpl.rcParams.update({\"font.size\": 16, \"font.family\": \"serif\"})\n",
    "\n",
    "range = [0,2]\n",
    "\n",
    "fig, ax = plt.subplots(1, 1, figsize=(10, 7))\n",
    "\n",
    "counts_150, bin_edges_150, _ = ax.hist(mass_150, range=range, bins=50, label=r\"$m_{HNL} = 150\\ GeV$\", stacked=True, histtype=\"step\")\n",
    "counts_500, bin_edges_500, _ = ax.hist(mass_500, bins=bin_edges_150, label=r\"$m_{HNL} = 500\\ GeV$\", stacked=True, histtype=\"step\")\n",
    "counts_1000, bin_edges_1000, _ = ax.hist(mass_1000, bins=bin_edges_150, label=r\"$m_{HNL} = 1000\\ GeV$\", stacked=True, histtype=\"step\")\n",
    "Delta = round((bin_edges_150[1]-bin_edges_150[0])*100)*10\n",
    "\n",
    "ax.set_xlabel(r\"$m_{\\tau}\\ [TeV]$\")\n",
    "ax.set_ylabel(f\"Events/{Delta} GeV\")\n",
    "plt.yscale('log')\n",
    "ax.legend()\n",
    "ax.grid()\n",
    "\n",
    "plt.show()"
   ]
  },
  {
   "cell_type": "code",
   "execution_count": 102,
   "id": "c30b3ac5",
   "metadata": {},
   "outputs": [],
   "source": [
    "DrellYan = uproot.open(\"/data/hnl/prompt_tau/anatuple/nanoV10/TEST6/ttm_DeepTau2p5/DYJetsToLL_M-50_anatuple.root\")['Event;1']"
   ]
  },
  {
   "cell_type": "code",
   "execution_count": 101,
   "id": "43773c59",
   "metadata": {},
   "outputs": [
    {
     "name": "stdout",
     "output_type": "stream",
     "text": [
      "DYJetsToLL_0J_anatuple.root\n",
      "DYJetsToLL_1J_anatuple.root\n",
      "DYJetsToLL_2J_anatuple.root\n",
      "DYJetsToLL_LHEFilterPtZ-0To50_anatuple.root\n",
      "DYJetsToLL_LHEFilterPtZ-100To250_anatuple.root\n",
      "DYJetsToLL_LHEFilterPtZ-250To400_anatuple.root\n",
      "DYJetsToLL_LHEFilterPtZ-400To650_anatuple.root\n",
      "DYJetsToLL_LHEFilterPtZ-50To100_anatuple.root\n",
      "DYJetsToLL_LHEFilterPtZ-650ToInf_anatuple.root\n",
      "DYJetsToLL_M-50_anatuple.root\n",
      "EWKWMinus2Jets_WToLNu_M-50_anatuple.root\n",
      "EWKWPlus2Jets_WToLNu_M-50_anatuple.root\n",
      "EWKZ2Jets_ZToLL_M-50_anatuple.root\n",
      "GluGluHToTauTau_anatuple.root\n",
      "HNL_tau_M-1000_anatuple.root\n",
      "HNL_tau_M-100_anatuple.root\n",
      "HNL_tau_M-125_anatuple.root\n",
      "HNL_tau_M-150_anatuple.root\n",
      "HNL_tau_M-200_anatuple.root\n",
      "HNL_tau_M-250_anatuple.root\n",
      "HNL_tau_M-300_anatuple.root\n",
      "HNL_tau_M-350_anatuple.root\n",
      "HNL_tau_M-400_anatuple.root\n",
      "HNL_tau_M-450_anatuple.root\n",
      "HNL_tau_M-500_anatuple.root\n",
      "HNL_tau_M-600_anatuple.root\n",
      "HNL_tau_M-700_anatuple.root\n",
      "HNL_tau_M-800_anatuple.root\n",
      "HNL_tau_M-85_anatuple.root\n",
      "HNL_tau_M-900_anatuple.root\n",
      "SingleMuon_2018_anatuple.root\n",
      "ST_t-channel_antitop_4f_InclusiveDecays_anatuple.root\n",
      "ST_t-channel_top_4f_InclusiveDecays_anatuple.root\n",
      "ST_tW_antitop_5f_inclusiveDecays_anatuple.root\n",
      "ST_tW_top_5f_inclusiveDecays_anatuple.root\n",
      "ttHToTauTau_anatuple.root\n",
      "TTTo2L2Nu_anatuple.root\n",
      "TTToHadronic_anatuple.root\n",
      "TTToSemiLeptonic_anatuple.root\n",
      "TTWJetsToLNu_anatuple.root\n",
      "TTWW_anatuple.root\n",
      "TTWZ_anatuple.root\n",
      "TTZToLLNuNu_M-10_anatuple.root\n",
      "TTZZ_anatuple.root\n",
      "W1JetsToLNu_anatuple.root\n",
      "W2JetsToLNu_anatuple.root\n",
      "W3JetsToLNu_anatuple.root\n",
      "W4JetsToLNu_anatuple.root\n",
      "WJetsToLNu_anatuple.root\n",
      "WJetsToLNu_HT-100To200_anatuple.root\n",
      "WJetsToLNu_HT-1200To2500_anatuple.root\n",
      "WJetsToLNu_HT-200To400_anatuple.root\n",
      "WJetsToLNu_HT-2500ToInf_anatuple.root\n",
      "WJetsToLNu_HT-400To600_anatuple.root\n",
      "WJetsToLNu_HT-600To800_anatuple.root\n",
      "WJetsToLNu_HT-70To100_anatuple.root\n",
      "WJetsToLNu_HT-800To1200_anatuple.root\n",
      "WminusHToTauTau_anatuple.root\n",
      "WplusHToTauTau_anatuple.root\n",
      "WToMuNu_M-200_anatuple.root\n",
      "WToTauNu_M-200_anatuple.root\n",
      "WW_anatuple.root\n",
      "WWW_anatuple.root\n",
      "WWZ_anatuple.root\n",
      "WZ_anatuple.root\n",
      "WZZ_anatuple.root\n",
      "ZHToTauTau_anatuple.root\n",
      "ZZ_anatuple.root\n",
      "ZZZ_anatuple.root\n"
     ]
    }
   ],
   "source": [
    "!ls /data/hnl/prompt_tau/anatuple/nanoV10/TEST6/ttm_DeepTau2p5"
   ]
  },
  {
   "cell_type": "code",
   "execution_count": 9,
   "id": "dc17b7d6",
   "metadata": {},
   "outputs": [
    {
     "name": "stdout",
     "output_type": "stream",
     "text": [
      "['event', 'genWeight', 'luminosityBlock', 'run', 'MET_pt', 'MET_phi', 'nbjets', 'nAdditionalElectron', 'matchingHLTDoubleTau', 'Electron_dEscaleDown', 'Electron_dEscaleUp', 'Electron_dEsigmaDown', 'Electron_dEsigmaUp', 'Electron_dxy', 'Electron_dz', 'Electron_eCorr', 'Electron_eta', 'Electron_mass', 'Electron_mvaHZZIso', 'Electron_mvaIso', 'Electron_mvaNoIso', 'Electron_pfRelIso03_all', 'Electron_pfRelIso03_chg', 'Electron_phi', 'Electron_pt', 'Electron_charge', 'Electron_cutBased', 'Electron_jetIdx', 'Electron_pdgId', 'Electron_convVeto', 'Electron_mvaIso_WP80', 'Electron_mvaIso_WP90', 'Electron_mvaIso_WPL', 'Electron_mvaNoIso_WP80', 'Electron_mvaNoIso_WP90', 'Electron_mvaNoIso_WPL', 'Electron_genPartIdx', 'Electron_genPartFlav', 'Tau1_dxy', 'Tau1_dz', 'Tau1_eta', 'Tau1_mass', 'Tau1_phi', 'Tau1_pt', 'Tau1_rawDeepTau2017v2p1VSe', 'Tau1_rawDeepTau2017v2p1VSjet', 'Tau1_rawDeepTau2017v2p1VSmu', 'Tau1_rawDeepTau2018v2p5VSe', 'Tau1_rawDeepTau2018v2p5VSjet', 'Tau1_rawDeepTau2018v2p5VSmu', 'Tau1_rawIso', 'Tau1_rawIsodR03', 'Tau1_charge', 'Tau1_decayMode', 'Tau1_jetIdx', 'Tau1_idAntiMu', 'Tau1_idDeepTau2017v2p1VSe', 'Tau1_idDeepTau2017v2p1VSjet', 'Tau1_idDeepTau2017v2p1VSmu', 'Tau1_idDeepTau2018v2p5VSe', 'Tau1_idDeepTau2018v2p5VSjet', 'Tau1_idDeepTau2018v2p5VSmu', 'Tau1_genPartIdx', 'Tau1_genPartFlav', 'Tau1_Jet_pt', 'Tau1_Jet_eta', 'Tau1_Jet_phi', 'Tau1_Jet_mass', 'Tau1_Jet_jetId', 'Tau1_Jet_valid', 'Tau1_GenJet_eta', 'Tau1_GenJet_mass', 'Tau1_GenJet_phi', 'Tau1_GenJet_pt', 'Tau1_GenJet_partonFlavour', 'Tau1_GenJet_hadronFlavour', 'Tau1_GenJet_valid', 'Tau2_dxy', 'Tau2_dz', 'Tau2_eta', 'Tau2_mass', 'Tau2_phi', 'Tau2_pt', 'Tau2_rawDeepTau2017v2p1VSe', 'Tau2_rawDeepTau2017v2p1VSjet', 'Tau2_rawDeepTau2017v2p1VSmu', 'Tau2_rawDeepTau2018v2p5VSe', 'Tau2_rawDeepTau2018v2p5VSjet', 'Tau2_rawDeepTau2018v2p5VSmu', 'Tau2_rawIso', 'Tau2_rawIsodR03', 'Tau2_charge', 'Tau2_decayMode', 'Tau2_jetIdx', 'Tau2_idAntiMu', 'Tau2_idDeepTau2017v2p1VSe', 'Tau2_idDeepTau2017v2p1VSjet', 'Tau2_idDeepTau2017v2p1VSmu', 'Tau2_idDeepTau2018v2p5VSe', 'Tau2_idDeepTau2018v2p5VSjet', 'Tau2_idDeepTau2018v2p5VSmu', 'Tau2_genPartIdx', 'Tau2_genPartFlav', 'Tau2_Jet_pt', 'Tau2_Jet_eta', 'Tau2_Jet_phi', 'Tau2_Jet_mass', 'Tau2_Jet_jetId', 'Tau2_Jet_valid', 'Tau2_GenJet_eta', 'Tau2_GenJet_mass', 'Tau2_GenJet_phi', 'Tau2_GenJet_pt', 'Tau2_GenJet_partonFlavour', 'Tau2_GenJet_hadronFlavour', 'Tau2_GenJet_valid']\n"
     ]
    }
   ],
   "source": [
    "anatuple = uproot.open(\"/data/hnl/prompt_tau/anatuple/nanoV10/TEST9/tte/anatuple/DYJetsToLL_1J_anatuple.root\")['Event;1']\n",
    "print(anatuple.keys())"
   ]
  }
 ],
 "metadata": {
  "kernelspec": {
   "display_name": "Python 3 (ipykernel)",
   "language": "python",
   "name": "python3"
  },
  "language_info": {
   "codemirror_mode": {
    "name": "ipython",
    "version": 3
   },
   "file_extension": ".py",
   "mimetype": "text/x-python",
   "name": "python",
   "nbconvert_exporter": "python",
   "pygments_lexer": "ipython3",
   "version": "3.8.13"
  }
 },
 "nbformat": 4,
 "nbformat_minor": 5
}
